{
 "cells": [
  {
   "cell_type": "markdown",
   "metadata": {},
   "source": [
    "*please execute the cell below before starting the tutorial by selecting the cell and pressing Ctrl+Enter*"
   ]
  },
  {
   "cell_type": "code",
   "execution_count": null,
   "metadata": {
    "scrolled": true
   },
   "outputs": [],
   "source": [
    "from aiida.orm import Dict, load_node\n",
    "from aiida.engine import submit"
   ]
  },
  {
   "cell_type": "markdown",
   "metadata": {},
   "source": [
    "# Fleur code"
   ]
  },
  {
   "cell_type": "markdown",
   "metadata": {},
   "source": [
    "Input generator code creates inp.xml input file from a simplified input file. To use this code via AiiDA, it is needed to implement a corresponding python class that contaings all the logic needed for the use of this code. The class `FleurCalculation` and it's parser already exist in AiiDA-FLEUR plugin. In this tutorial we will learn how to use it in AiiDA inteface.\n",
    "\n",
    "First things first - let us get familiar with inputs of the FleurinputgenCalculation."
   ]
  },
  {
   "cell_type": "markdown",
   "metadata": {},
   "source": [
    "## Inputs of the Fleur calculation"
   ]
  },
  {
   "cell_type": "markdown",
   "metadata": {},
   "source": [
    "|name|type|describtion| required |\n",
    "|:---:|:---:|:---------:|:---:|\n",
    "|code | Code | Fleur code| yes |\n",
    "|fleurinpdata | FleurinpData | Object representing inp.xml| no |\n",
    "|parent_folder | RemoteData | Remote folder of another calculation| no |\n",
    "|settings | Dict | special settings | no |"
   ]
  },
  {
   "cell_type": "markdown",
   "metadata": {},
   "source": [
    "**code** is a code object representing Fleur code and stored in the database, it is the only required input. However, it is not required to specife **code** only: one *must* provide one of supported input configurations:\n",
    "\n",
    "* **code** + **fleurinpdata** : start a calculation from scratch with given inp.xml\n",
    "* **code** + **parent_folder** : start a calculation using inp.xml and charge density from the previous calculation\n",
    "* **code** + **fleurinpdata** + **parent_folder** : start a calculation using inp.xml from given FleurinpData and charge density from the previous calculation\n",
    "\n",
    "In this tutorial we are going to use **code** + **fleurinpdata** configuration only.\n",
    "\n",
    "**settings** is used to modify a list of files to be copied to/from/between calculation folders. We will not cover this in the tutorial.\n"
   ]
  },
  {
   "cell_type": "markdown",
   "metadata": {},
   "source": [
    "## Fleur code submission"
   ]
  },
  {
   "cell_type": "markdown",
   "metadata": {},
   "source": [
    "First of all, we need to import `FleurinputgenCalculation` class."
   ]
  },
  {
   "cell_type": "code",
   "execution_count": null,
   "metadata": {},
   "outputs": [],
   "source": [
    "from aiida_fleur.calculation.fleur import FleurinputgenCalculation"
   ]
  },
  {
   "cell_type": "markdown",
   "metadata": {},
   "source": [
    "and prepare input nodes. Configured and ready-to-use inpgen code object is already stored in your database under the number pk=xxx. Now you can simple load it from the database:"
   ]
  },
  {
   "cell_type": "code",
   "execution_count": null,
   "metadata": {},
   "outputs": [],
   "source": [
    "code = load_node(xxx)"
   ]
  },
  {
   "cell_type": "markdown",
   "metadata": {},
   "source": [
    "We are going to use a FleurinpData that you have created in tutorial 4. Please, find a pk of an Fe monolayer structure and load in via the same command:"
   ]
  },
  {
   "cell_type": "code",
   "execution_count": null,
   "metadata": {},
   "outputs": [],
   "source": [
    "fleurinpdata = load_node(xxx)"
   ]
  },
  {
   "cell_type": "code",
   "execution_count": null,
   "metadata": {},
   "outputs": [],
   "source": [
    "res = submit(FleurinputgenCalculation, code=code, fleurinpdata=fleurinpdata)"
   ]
  },
  {
   "cell_type": "markdown",
   "metadata": {},
   "source": [
    "You can explore it's outputs:"
   ]
  },
  {
   "cell_type": "code",
   "execution_count": null,
   "metadata": {},
   "outputs": [],
   "source": []
  }
 ],
 "metadata": {
  "kernelspec": {
   "display_name": "Python 2",
   "language": "python",
   "name": "python2"
  },
  "language_info": {
   "codemirror_mode": {
    "name": "ipython",
    "version": 2
   },
   "file_extension": ".py",
   "mimetype": "text/x-python",
   "name": "python",
   "nbconvert_exporter": "python",
   "pygments_lexer": "ipython2",
   "version": "2.7.16"
  }
 },
 "nbformat": 4,
 "nbformat_minor": 2
}
