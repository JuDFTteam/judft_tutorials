{
 "cells": [
  {
   "cell_type": "markdown",
   "metadata": {},
   "source": [
    "*please execute the cell below before starting the tutorial by selecting the cell and pressing Ctrl+Enter*"
   ]
  },
  {
   "cell_type": "code",
   "execution_count": 4,
   "metadata": {
    "scrolled": true
   },
   "outputs": [
    {
     "data": {
      "text/plain": [
       "<aiida.manage.configuration.profile.Profile at 0x10f950bd0>"
      ]
     },
     "execution_count": 4,
     "metadata": {},
     "output_type": "execute_result"
    }
   ],
   "source": [
    "from aiida.orm import Dict, load_node\n",
    "from aiida.engine import submit\n",
    "from aiida import load_profile\n",
    "\n",
    "load_profile()"
   ]
  },
  {
   "cell_type": "markdown",
   "metadata": {},
   "source": [
    "# Fleur code"
   ]
  },
  {
   "cell_type": "markdown",
   "metadata": {},
   "source": [
    "Fleur code is represented by a `FleurCalculation` class in AiiDA.\n",
    "\n",
    "Generally one needs only two inputs for a Fleur calculation: it is an `inp.xml` file and initial charge density. As you already know, there is a `FleurinpData` class representing an `inp.xml` file. Therefore, there is a `FleurinpData` object in the inputs. \n",
    "\n",
    "No class represents charge density in AiiDA-FLEUR and one can not pass in explicitly into a `FleurCalculation`. However, it can be done specifying `RemoteData` object that represent a calculation folder of a previous FLEUR calculation. If a `RemoteData` input is given, the calculation automatically finds previous charge density (and `inp.xml` in some cases) and uses it as an input. This will be explained more in next sub-section."
   ]
  },
  {
   "cell_type": "markdown",
   "metadata": {},
   "source": [
    "## Inputs of the Fleur calculation"
   ]
  },
  {
   "cell_type": "markdown",
   "metadata": {},
   "source": [
    "|name|type|describtion| required |\n",
    "|:---:|:---:|:---------:|:---:|\n",
    "|code | Code | Fleur code| yes |\n",
    "|fleurinpdata | FleurinpData | Object representing inp.xml| no |\n",
    "|parent_folder | RemoteData | Remote folder of another calculation| no |\n",
    "|settings | Dict | special settings | no |"
   ]
  },
  {
   "cell_type": "markdown",
   "metadata": {},
   "source": [
    "**code** is a code object representing Fleur code and stored in the database, it is the only required input. However, it is not enough to specify **code** only: one *must* provide one of supported input configurations:\n",
    "\n",
    "* **code** + **fleurinpdata** : start a calculation from scratch with given `inp.xml`\n",
    "* **code** + **parent_folder** : start a calculation using `inp.xml` and charge density from the previous calculation\n",
    "* **code** + **fleurinpdata** + **parent_folder** : start a calculation using `inp.xml` from given `FleurinpData` and charge density from the previous calculation\n",
    "\n",
    "In this tutorial we are going to use **code** + **fleurinpdata** configuration only.\n",
    "\n",
    "**settings** is used to modify a list of files to be copied to/from/between calculation folders and to append command options to the executable. We will not cover this in the tutorial.\n"
   ]
  },
  {
   "cell_type": "markdown",
   "metadata": {},
   "source": [
    "## Fleur code submission"
   ]
  },
  {
   "cell_type": "markdown",
   "metadata": {},
   "source": [
    "### Inputs preparation"
   ]
  },
  {
   "cell_type": "markdown",
   "metadata": {},
   "source": [
    "First of all, we need to import `FleurnCalculation` class."
   ]
  },
  {
   "cell_type": "code",
   "execution_count": 3,
   "metadata": {},
   "outputs": [],
   "source": [
    "from aiida_fleur.calculation.fleur import FleurCalculation"
   ]
  },
  {
   "cell_type": "markdown",
   "metadata": {},
   "source": [
    "and prepare input nodes. Configured and ready-to-use inpgen code object is already stored in your database under the number pk=xxx. Now you can simple load it from the database:"
   ]
  },
  {
   "cell_type": "code",
   "execution_count": null,
   "metadata": {},
   "outputs": [],
   "source": [
    "fleur_code = load_node(xxx)"
   ]
  },
  {
   "cell_type": "markdown",
   "metadata": {},
   "source": [
    "We are going to use a FleurinpData that you have created in tutorial 4. Please, remind a PK of an Fe monolayer structure and load in via the same command:"
   ]
  },
  {
   "cell_type": "code",
   "execution_count": null,
   "metadata": {},
   "outputs": [],
   "source": [
    "fleurinpdata = load_node(xxx)"
   ]
  },
  {
   "cell_type": "markdown",
   "metadata": {},
   "source": [
    "We also need to define computational options:"
   ]
  },
  {
   "cell_type": "code",
   "execution_count": null,
   "metadata": {},
   "outputs": [],
   "source": [
    "options = {'resources' : {\"num_machines\": 1, \"num_mpiprocs_per_machine\" : 2}, 'withmpi' : True}"
   ]
  },
  {
   "cell_type": "markdown",
   "metadata": {},
   "source": [
    "### Assembling inputs in a single dictionaty"
   ]
  },
  {
   "cell_type": "markdown",
   "metadata": {},
   "source": [
    "Similarly to `FleurinpgenCalculation`, we will use `get_builder()` method to assemble all the inputs:"
   ]
  },
  {
   "cell_type": "code",
   "execution_count": null,
   "metadata": {},
   "outputs": [],
   "source": [
    "inputs = FleurCalculation.get_builder()\n",
    "inputs.code = fleur_code\n",
    "inputs.fleurinpdata = fleurinpdata\n",
    "inputs.metadata.options = options"
   ]
  },
  {
   "cell_type": "markdown",
   "metadata": {},
   "source": [
    "### Job submission"
   ]
  },
  {
   "cell_type": "code",
   "execution_count": null,
   "metadata": {},
   "outputs": [],
   "source": [
    "res = submit(FleurCalculation, **inputs)\n",
    "print('The PK of submitted job is'.format(res_pk)"
   ]
  },
  {
   "cell_type": "markdown",
   "metadata": {},
   "source": [
    "## Results analysis"
   ]
  },
  {
   "cell_type": "markdown",
   "metadata": {},
   "source": [
    "After FLEUR code is submitted, you can check the status of all running processes:"
   ]
  },
  {
   "cell_type": "code",
   "execution_count": 6,
   "metadata": {},
   "outputs": [
    {
     "name": "stdout",
     "output_type": "stream",
     "text": [
      "\u001b[22mPK    Created    Process label    Process State    Process status\n",
      "----  ---------  ---------------  ---------------  ----------------\u001b[0m\n",
      "\u001b[22m\n",
      "Total results: 0\n",
      "\u001b[0m\n",
      "\u001b[34m\u001b[1mInfo: \u001b[0m\u001b[22mlast time an entry changed state: 1h ago (at 14:21:40 on 2019-09-01)\u001b[0m\n"
     ]
    }
   ],
   "source": [
    "!verdi process list -p 1"
   ]
  },
  {
   "cell_type": "markdown",
   "metadata": {},
   "source": [
    "You can also check the status of inpgen calculation directly. Try running next cell and examine the output:"
   ]
  },
  {
   "cell_type": "code",
   "execution_count": null,
   "metadata": {},
   "outputs": [],
   "source": [
    "!verdi process show 6231"
   ]
  },
  {
   "cell_type": "markdown",
   "metadata": {},
   "source": [
    "Wait till the process status is 'Finished'. Then let us explore the output nodes. `Fleurcalculation` generates three output nodes:\n",
    "\n",
    "|name| type | comment|\n",
    "|:--:|:----:|:----------:|\n",
    "|output_parameters|Dict| contains parsed `out.xml`|\n",
    "|remote_folder| FolderData| represents calculation folder |\n",
    "|retrieved| FolderData | represents retrieved folder |\n",
    "\n",
    "The main output is `output_parameters` dictionaty containing parsed `out.xml` file. To print it out, run:"
   ]
  },
  {
   "cell_type": "code",
   "execution_count": null,
   "metadata": {},
   "outputs": [],
   "source": [
    "fleur_calc_node = load_node(res_pk)\n",
    "output_parameters = fleur_calc_node.outputs.output_parameters\n",
    "print(output_parameters.get_dict())"
   ]
  },
  {
   "cell_type": "markdown",
   "metadata": {},
   "source": [
    "Or, one can print it out via:"
   ]
  },
  {
   "cell_type": "code",
   "execution_count": 7,
   "metadata": {},
   "outputs": [
    {
     "name": "stdout",
     "output_type": "stream",
     "text": [
      "Usage: verdi data dict show [OPTIONS] [DATA]...\n",
      "\n",
      "Error: Invalid value for \"[DATA]...\": no Dict found with LABEL<xxx>: No result was found\n"
     ]
    }
   ],
   "source": [
    "#you need to modify it\n",
    "!verdi data dict show xxx"
   ]
  },
  {
   "cell_type": "markdown",
   "metadata": {},
   "source": [
    "Analysing output dictionary, can you find what is the band gap and total energy of the ground state?"
   ]
  },
  {
   "cell_type": "markdown",
   "metadata": {},
   "source": [
    "# Scripting tasks"
   ]
  },
  {
   "cell_type": "markdown",
   "metadata": {},
   "source": [
    "#### 1.  Run a  Fleur calculation for the Si (remote_folder input configuration)"
   ]
  },
  {
   "cell_type": "markdown",
   "metadata": {},
   "source": [
    "Create a script and run it in the terminal, passing to `FleurCalculation` **code** + **fleurinpdata** + **remote_folder** from a previous calculation and answer the questions: "
   ]
  },
  {
   "cell_type": "code",
   "execution_count": null,
   "metadata": {},
   "outputs": [],
   "source": []
  }
 ],
 "metadata": {
  "kernelspec": {
   "display_name": "Python 2",
   "language": "python",
   "name": "python2"
  },
  "language_info": {
   "codemirror_mode": {
    "name": "ipython",
    "version": 2
   },
   "file_extension": ".py",
   "mimetype": "text/x-python",
   "name": "python",
   "nbconvert_exporter": "python",
   "pygments_lexer": "ipython2",
   "version": "2.7.16"
  }
 },
 "nbformat": 4,
 "nbformat_minor": 2
}
