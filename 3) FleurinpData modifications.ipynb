{
 "cells": [
  {
   "cell_type": "markdown",
   "metadata": {},
   "source": [
    "# Modifying a Fleur input file"
   ]
  },
  {
   "cell_type": "markdown",
   "metadata": {},
   "source": [
    "## Table of contents\n",
    "<ul class=\"toc-item\">\n",
    "    <li><a href=\"#Modifying-a-Fleur-input-file\">Modifying a Fleur input file</a>\n",
    "        <ul class=\"toc-item\">\n",
    "            <li><a href=\"#Task---1\">Task - 1</a></li>\n",
    "            <li><a href=\"#FleurinpModifier\">FleurinpModifier</a>\n",
    "                <ul class=\"toc-item\">\n",
    "                    <li><a href=\"#Invalid-changes\">Invalid changes</a></li>\n",
    "                    <li><a href=\"#Methods-for-species-manipulation\">Methods for species manipulation</a></li>\n",
    "                    <li><a href=\"#Store-to-the-database\">Store to the database</a></li>\n",
    "                </ul>\n",
    "            </li>\n",
    "            <li><a href=\"#XML-methods\">XML methods</a></li>\n",
    "            <li><a href=\"#Task---2\">Task - 2</a></li>\n",
    "        </ul>\n",
    "    </li>\n",
    "</ul>"
   ]
  },
  {
   "cell_type": "markdown",
   "metadata": {},
   "source": [
    "Some usefull imports"
   ]
  },
  {
   "cell_type": "code",
   "execution_count": null,
   "metadata": {},
   "outputs": [],
   "source": [
    "import os\n",
    "from aiida import load_dbenv, is_dbenv_loaded\n",
    "if not is_dbenv_loaded():\n",
    "    load_dbenv()"
   ]
  },
  {
   "cell_type": "code",
   "execution_count": null,
   "metadata": {},
   "outputs": [],
   "source": [
    "from aiida.orm import load_node\n",
    "from aiida.orm import DataFactory"
   ]
  },
  {
   "cell_type": "markdown",
   "metadata": {},
   "source": [
    "## Task - 1\n",
    "\n",
    "As discussed in the previous notebook create a `FleurinpData` node named `fleurinp` and proceed to the next section. If you have been reading things carefully you should be able to do it in one line.\n",
    "<!-- fleurinp = load_node(xxx) -->"
   ]
  },
  {
   "cell_type": "code",
   "execution_count": null,
   "metadata": {},
   "outputs": [],
   "source": [
    "fleurinp = ?"
   ]
  },
  {
   "cell_type": "markdown",
   "metadata": {},
   "source": [
    "## FleurinpModifier"
   ]
  },
  {
   "cell_type": "markdown",
   "metadata": {},
   "source": [
    "The `FleurinpData` from the previous notebook can not be modified in-place because it is sealed once it is stored in the database. Therefore we always need to create a new `FleurinpData` object to change an existing one. \n",
    "\n",
    "To make the changes and store the results in the database, AiiDA-FLEUR has `FluerinpModifier` class."
   ]
  },
  {
   "cell_type": "code",
   "execution_count": null,
   "metadata": {},
   "outputs": [],
   "source": [
    "from aiida.orm.data.fleurinp.fleurinpmodifier import FleurinpModifier"
   ]
  },
  {
   "cell_type": "code",
   "execution_count": null,
   "metadata": {},
   "outputs": [],
   "source": [
    "fleurmode = FleurinpModifier(fleurinp)"
   ]
  },
  {
   "cell_type": "markdown",
   "metadata": {},
   "source": [
    "For a start we set `itmax` to `30` and `minDistance` to `0.00002`. It can be done using `set_inpchanges` function with this every attribute that **occurs ONLY once** can be set"
   ]
  },
  {
   "cell_type": "code",
   "execution_count": null,
   "metadata": {},
   "outputs": [],
   "source": [
    "fleurmode.set_inpchanges({'itmax': 30, 'minDistance' : 0.00002})"
   ]
  },
  {
   "cell_type": "markdown",
   "metadata": {},
   "source": [
    "One can also provide a python dictionary with the parameter names and their values you like to change."
   ]
  },
  {
   "cell_type": "code",
   "execution_count": null,
   "metadata": {},
   "outputs": [],
   "source": [
    "change_dict = {\n",
    "    'dos'       : True, \n",
    "    'ndir'      : -1, \n",
    "    'minEnergy' : -0.8,\n",
    "    'maxEnergy' : 0.8, \n",
    "    'sigma'     : 0.005,\n",
    "}\n",
    "\n",
    "fleurmode.set_inpchanges(change_dict)"
   ]
  },
  {
   "cell_type": "markdown",
   "metadata": {},
   "source": [
    "The changes are in stock, **not applied yet** you can see how the file would look like with the changes, also we want to check if the changes are valid"
   ]
  },
  {
   "cell_type": "code",
   "execution_count": null,
   "metadata": {},
   "outputs": [],
   "source": [
    "fleurmode.show(validate=True)   #display=False"
   ]
  },
  {
   "cell_type": "markdown",
   "metadata": {},
   "source": [
    "### Invalid changes"
   ]
  },
  {
   "cell_type": "code",
   "execution_count": null,
   "metadata": {},
   "outputs": [],
   "source": [
    "# If the changes are not valid we will get an error\n",
    "fleurmode_fail = FleurinpModifier(fleurinp)\n",
    "fleurmode_fail.set_inpchanges({'itmax': -10, 'minDistance' : -10})\n",
    "fleurmode_fail.show(validate=True, display=False)"
   ]
  },
  {
   "cell_type": "code",
   "execution_count": null,
   "metadata": {},
   "outputs": [],
   "source": [
    "# or if you misstype a key wrong\n",
    "fleurmode_fail.undo()\n",
    "fleurmode_fail.set_inpchanges({'itma': 10, 'minDistance' : 10})\n",
    "fleurmode_fail.show(validate=True, display=False)"
   ]
  },
  {
   "cell_type": "markdown",
   "metadata": {},
   "source": [
    "### Methods for species manipulation"
   ]
  },
  {
   "cell_type": "markdown",
   "metadata": {},
   "source": [
    "Change muffin tin radii, or any species parameters you have to parse a nested dict with the subtags"
   ]
  },
  {
   "cell_type": "code",
   "execution_count": null,
   "metadata": {},
   "outputs": [],
   "source": [
    "fleurmode.set_species('W-1', {'mtSphere' : {'radius' : 3.5, 'gridPoints' : 841}, \n",
    "                              'atomicCutoffs' : {'lmax' : 9, 'lnonsphr' : 6}})\n"
   ]
  },
  {
   "cell_type": "code",
   "execution_count": null,
   "metadata": {},
   "outputs": [],
   "source": [
    "fleurmode.show(validate=True)"
   ]
  },
  {
   "cell_type": "code",
   "execution_count": null,
   "metadata": {},
   "outputs": [],
   "source": [
    "fleurmode.changes()"
   ]
  },
  {
   "cell_type": "markdown",
   "metadata": {},
   "source": [
    "all these changes are currently only in memory, we can revert them, also if we made a mistake"
   ]
  },
  {
   "cell_type": "code",
   "execution_count": null,
   "metadata": {},
   "outputs": [],
   "source": [
    "fleurmode.undo()\n",
    "fleurmode.undo()\n",
    "a = fleurmode.changes()\n",
    "fleurmode.show(validate=True)"
   ]
  },
  {
   "cell_type": "markdown",
   "metadata": {},
   "source": [
    "### Store to the database"
   ]
  },
  {
   "cell_type": "markdown",
   "metadata": {},
   "source": [
    "With `freeze` function we store a new `fleurinpData` object with the applied changes in the database."
   ]
  },
  {
   "cell_type": "code",
   "execution_count": null,
   "metadata": {},
   "outputs": [],
   "source": [
    "fleurmode.freeze()"
   ]
  },
  {
   "cell_type": "markdown",
   "metadata": {},
   "source": [
    "## XML methods"
   ]
  },
  {
   "cell_type": "code",
   "execution_count": null,
   "metadata": {},
   "outputs": [],
   "source": [
    "# general methods (xml methods)\n",
    "# if you know a bit about xml and xpath expressions, which can be very powerful\n",
    "# fleurinp supports this with some more general methods. (better in the future)\n",
    "# but you should know what you are doing :)"
   ]
  },
  {
   "cell_type": "code",
   "execution_count": null,
   "metadata": {},
   "outputs": [],
   "source": [
    "#general xpath methods, you can also set a muffin thin radius like this\n",
    "xpathn = '/fleurInput/atomSpecies/species[@name = \"{}\"]/mtSphere'.format('W-1')\n",
    "fleurmode.xml_set_all_attribv(xpathn, 'radius', 6.66) # just for demo, the value does not make sence\n",
    "fleurmode.show(validate=True)#, display=False) # confirm that this happened"
   ]
  },
  {
   "cell_type": "code",
   "execution_count": null,
   "metadata": {},
   "outputs": [],
   "source": [
    "# also we could 'easily' rewrite the kpoints tag\n",
    "nkpts = 800\n",
    "fleurmode.set_nkpts(count=nkpts)\n",
    "fleurmode.show(validate=True)#, display=False) # confirm that this happened\n",
    "fleurmode.undo()"
   ]
  },
  {
   "cell_type": "code",
   "execution_count": null,
   "metadata": {},
   "outputs": [],
   "source": [
    "from lxml import etree\n",
    "# sure we could have done so brute fore with xml methods: \n",
    "kpoint_xpath = '/fleurInput/calculationSetup/bzIntegration/kPointList'\n",
    "#kpoint_xpath = '//kPointList'\n",
    "#kpoint_xpath = '/fleurInput/calculationSetup/bzIntegration/kPointCount'\n",
    "\n",
    "nkpts = 400\n",
    "gamma='F'\n",
    "\n",
    "new_kpt_tag = etree.Element('kPointCount', count=\"{}\".format(nkpts), gamma=\"{}\".format(gamma))\n",
    "fleurmode.replace_tag(kpoint_xpath, new_kpt_tag)\n",
    "fleurmode.show(validate=True)"
   ]
  },
  {
   "cell_type": "code",
   "execution_count": null,
   "metadata": {},
   "outputs": [],
   "source": [
    "# change atom group specific parameters\n",
    "#fleurmode.set_atomgr_att('force', True, position=(0.0, 0.0, 0.0))"
   ]
  },
  {
   "cell_type": "code",
   "execution_count": null,
   "metadata": {},
   "outputs": [],
   "source": [
    "fleurmode.undo()\n",
    "fleurmode.undo()"
   ]
  },
  {
   "cell_type": "code",
   "execution_count": null,
   "metadata": {},
   "outputs": [],
   "source": [
    "# now we apply the changes and store a new fleurinp data with a new inp.xml file in the database\n",
    "changed_fleurinp= fleurmode.freeze()\n",
    "print changed_fleurinp"
   ]
  },
  {
   "cell_type": "code",
   "execution_count": null,
   "metadata": {},
   "outputs": [],
   "source": [
    "#Look at the differences\n",
    "#print fleurmode._original\n",
    "#out='changed_fleurinp'"
   ]
  },
  {
   "cell_type": "markdown",
   "metadata": {},
   "source": [
    "## Task - 2 \n",
    "\n",
    "check that the provenace in the database is kept (we have produced several new fleurinpdatas)\n",
    "<!-- draw_parents(changed_fleurinp.pk, dist=4) -->"
   ]
  }
 ],
 "metadata": {
  "kernelspec": {
   "display_name": "Python 2",
   "language": "python",
   "name": "python2"
  },
  "language_info": {
   "codemirror_mode": {
    "name": "ipython",
    "version": 2
   },
   "file_extension": ".py",
   "mimetype": "text/x-python",
   "name": "python",
   "nbconvert_exporter": "python",
   "pygments_lexer": "ipython2",
   "version": "2.7.16"
  },
  "toc": {
   "base_numbering": 1,
   "nav_menu": {},
   "number_sections": false,
   "sideBar": true,
   "skip_h1_title": false,
   "title_cell": "Table of Contents",
   "title_sidebar": "Contents",
   "toc_cell": false,
   "toc_position": {},
   "toc_section_display": true,
   "toc_window_display": true
  }
 },
 "nbformat": 4,
 "nbformat_minor": 2
}
