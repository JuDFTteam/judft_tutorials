{
 "cells": [
  {
   "cell_type": "markdown",
   "metadata": {},
   "source": [
    "# Modifying a Fleur input file"
   ]
  },
  {
   "cell_type": "markdown",
   "metadata": {},
   "source": [
    "TOC"
   ]
  },
  {
   "cell_type": "code",
   "execution_count": null,
   "metadata": {},
   "outputs": [],
   "source": [
    "import os\n",
    "from aiida import load_dbenv, is_dbenv_loaded\n",
    "if not is_dbenv_loaded():\n",
    "    load_dbenv()"
   ]
  },
  {
   "cell_type": "code",
   "execution_count": null,
   "metadata": {},
   "outputs": [],
   "source": [
    "from aiida.orm import load_node\n",
    "from aiida.orm import DataFactory"
   ]
  },
  {
   "cell_type": "markdown",
   "metadata": {},
   "source": [
    "### Task - 1\n",
    "\n",
    "As discussed in the previous notebook create a `FleurinpData` node named `fleurinp` and proceed to the next section. If you have been reading things carefully you should be able to do it in one line.\n",
    "<!-- fleurinp = load_node(xxx) -->"
   ]
  },
  {
   "cell_type": "code",
   "execution_count": null,
   "metadata": {},
   "outputs": [],
   "source": [
    "fleurinp = ?"
   ]
  },
  {
   "cell_type": "markdown",
   "metadata": {},
   "source": [
    "## FleurinpModifier"
   ]
  },
  {
   "cell_type": "markdown",
   "metadata": {},
   "source": [
    "The `FleurinpData` from the previous notebook can not be modified in-place because it is sealed once it is stored in the database. Therefore we always need to create a new `FleurinpData` object to change an existing one. \n",
    "\n",
    "To make the changes and store the results in the database, AiiDA-FLEUR has `FluerinpModifier` class."
   ]
  },
  {
   "cell_type": "code",
   "execution_count": null,
   "metadata": {},
   "outputs": [],
   "source": [
    "from aiida.orm.data.fleurinp.fleurinpmodifier import FleurinpModifier"
   ]
  },
  {
   "cell_type": "code",
   "execution_count": null,
   "metadata": {},
   "outputs": [],
   "source": [
    "fleurmode = FleurinpModifier(fleurinp)"
   ]
  },
  {
   "cell_type": "code",
   "execution_count": null,
   "metadata": {},
   "outputs": [],
   "source": [
    "# For a start we set itmax to 30 and we want to use minDistance\n",
    "# with set_inpchanges every attribute that occurs ONLY once can be set\n",
    "dc = 0.00002\n",
    "fleurmode.set_inpchanges({'itmax': 30, 'minDistance' : dc})\n",
    "\n",
    "# just provide a dictionary with the parameternames and their values you like to change.\n",
    "change_dict = {'dos': True, 'ndir' : -1, 'minEnergy' : -0.8,\n",
    "               'maxEnergy' : 0.8, 'sigma' : 0.005}\n",
    "\n",
    "fleurmode.set_inpchanges(change_dict)"
   ]
  },
  {
   "cell_type": "code",
   "execution_count": null,
   "metadata": {},
   "outputs": [],
   "source": [
    "# the changes are in stock, not applied yet\n",
    "# you can see how the file would look like with the changes, \n",
    "# also we want to check if the changes are valid\n",
    "fleurmode.show(validate=True)#, display=False)"
   ]
  },
  {
   "cell_type": "code",
   "execution_count": null,
   "metadata": {},
   "outputs": [],
   "source": [
    "# If the changes are not valid we will get an error\n",
    "fleurmode2 = FleurinpModifier(fleurinp)\n",
    "fleurmode2.set_inpchanges({'itmax': -10, 'minDistance' : -10})\n",
    "fleurmode2.show(validate=True, display=False)#, display=False)"
   ]
  },
  {
   "cell_type": "code",
   "execution_count": null,
   "metadata": {},
   "outputs": [],
   "source": [
    "# or if you misstype a key wrong\n",
    "fleurmode2.undo()\n",
    "fleurmode2.set_inpchanges({'itma': 10, 'minDistance' : 10})\n",
    "fleurmode2.show(validate=True, display=False)#, display=False)"
   ]
  },
  {
   "cell_type": "code",
   "execution_count": null,
   "metadata": {},
   "outputs": [],
   "source": [
    "# methods for species manipulation\n",
    "# change muffin tin radii, or any species parameters\n",
    "# you have to parse a nested dict with the subtags\n",
    "fleurmode.set_species('W-1', {'mtSphere' : {'radius' : 3.5, 'gridPoints' : 841}, \n",
    "                              'atomicCutoffs' : {'lmax' : 9, 'lnonsphr' : 6}})\n"
   ]
  },
  {
   "cell_type": "code",
   "execution_count": null,
   "metadata": {},
   "outputs": [],
   "source": [
    "fleurmode.show(validate=True)#, display=False)"
   ]
  },
  {
   "cell_type": "code",
   "execution_count": null,
   "metadata": {},
   "outputs": [],
   "source": [
    "a = fleurmode.changes()"
   ]
  },
  {
   "cell_type": "code",
   "execution_count": null,
   "metadata": {},
   "outputs": [],
   "source": [
    "# all these changes are currently only in memory, we can revert them, also if we made a mistake\n",
    "fleurmode.undo()\n",
    "fleurmode.undo()\n",
    "#fleurmode.undo()\n",
    "#fleurmode.undo()\n",
    "a = fleurmode.changes()\n",
    "fleurmode.show(validate=True)#, display=False)"
   ]
  },
  {
   "cell_type": "code",
   "execution_count": null,
   "metadata": {},
   "outputs": [],
   "source": [
    "# with freeze we store a new fleurinp data object with the applied changes in the database\n",
    "fleurmode.freeze()"
   ]
  },
  {
   "cell_type": "code",
   "execution_count": null,
   "metadata": {},
   "outputs": [],
   "source": [
    "# general methods (xml methods)\n",
    "# if you know a bit about xml and xpath expressions, which can be very powerful\n",
    "# fleurinp supports this with some more general methods. (better in the future)\n",
    "# but you should know what you are doing :)"
   ]
  },
  {
   "cell_type": "code",
   "execution_count": null,
   "metadata": {},
   "outputs": [],
   "source": [
    "#general xpath methods, you can also set a muffin thin radius like this\n",
    "xpathn = '/fleurInput/atomSpecies/species[@name = \"{}\"]/mtSphere'.format('W-1')\n",
    "fleurmode.xml_set_all_attribv(xpathn, 'radius', 6.66) # just for demo, the value does not make sence\n",
    "fleurmode.show(validate=True)#, display=False) # confirm that this happened"
   ]
  },
  {
   "cell_type": "code",
   "execution_count": null,
   "metadata": {},
   "outputs": [],
   "source": [
    "# also we could 'easily' rewrite the kpoints tag\n",
    "nkpts = 800\n",
    "fleurmode.set_nkpts(count=nkpts)\n",
    "fleurmode.show(validate=True)#, display=False) # confirm that this happened\n",
    "fleurmode.undo()"
   ]
  },
  {
   "cell_type": "code",
   "execution_count": null,
   "metadata": {},
   "outputs": [],
   "source": [
    "from lxml import etree\n",
    "# sure we could have done so brute fore with xml methods: \n",
    "kpoint_xpath = '/fleurInput/calculationSetup/bzIntegration/kPointList'\n",
    "#kpoint_xpath = '//kPointList'\n",
    "#kpoint_xpath = '/fleurInput/calculationSetup/bzIntegration/kPointCount'\n",
    "\n",
    "nkpts = 400\n",
    "gamma='F'\n",
    "\n",
    "new_kpt_tag = etree.Element('kPointCount', count=\"{}\".format(nkpts), gamma=\"{}\".format(gamma))\n",
    "fleurmode.replace_tag(kpoint_xpath, new_kpt_tag)\n",
    "fleurmode.show(validate=True)"
   ]
  },
  {
   "cell_type": "code",
   "execution_count": null,
   "metadata": {},
   "outputs": [],
   "source": [
    "# change atom group specific parameters\n",
    "#fleurmode.set_atomgr_att('force', True, position=(0.0, 0.0, 0.0))"
   ]
  },
  {
   "cell_type": "code",
   "execution_count": null,
   "metadata": {},
   "outputs": [],
   "source": [
    "fleurmode.undo()\n",
    "fleurmode.undo()"
   ]
  },
  {
   "cell_type": "code",
   "execution_count": null,
   "metadata": {},
   "outputs": [],
   "source": [
    "# now we apply the changes and store a new fleurinp data with a new inp.xml file in the database\n",
    "changed_fleurinp= fleurmode.freeze()\n",
    "print changed_fleurinp"
   ]
  },
  {
   "cell_type": "code",
   "execution_count": null,
   "metadata": {},
   "outputs": [],
   "source": [
    "#Look at the differences\n",
    "#print fleurmode._original\n",
    "#out='changed_fleurinp'"
   ]
  },
  {
   "cell_type": "code",
   "execution_count": null,
   "metadata": {},
   "outputs": [],
   "source": []
  },
  {
   "cell_type": "markdown",
   "metadata": {},
   "source": [
    "### TASK - 2 \n",
    "\n",
    "check that the provenace in the database is kept (we have produced several new fleurinpdatas)\n",
    "<!-- draw_parents(changed_fleurinp.pk, dist=4) -->"
   ]
  }
 ],
 "metadata": {
  "kernelspec": {
   "display_name": "Python 2",
   "language": "python",
   "name": "python2"
  },
  "language_info": {
   "codemirror_mode": {
    "name": "ipython",
    "version": 2
   },
   "file_extension": ".py",
   "mimetype": "text/x-python",
   "name": "python",
   "nbconvert_exporter": "python",
   "pygments_lexer": "ipython2",
   "version": "2.7.16"
  }
 },
 "nbformat": 4,
 "nbformat_minor": 2
}
