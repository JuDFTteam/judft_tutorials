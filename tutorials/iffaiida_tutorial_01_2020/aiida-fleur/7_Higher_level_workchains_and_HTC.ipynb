{
 "cells": [
  {
   "cell_type": "markdown",
   "id": "optional-shelter",
   "metadata": {},
   "source": [
    "*please execute the cell below before starting the tutorial by selecting the cell and pressing Ctrl+Enter*"
   ]
  },
  {
   "cell_type": "code",
   "execution_count": null,
   "id": "outside-lighting",
   "metadata": {},
   "outputs": [],
   "source": [
    "%load_ext autoreload\n",
    "%autoreload 2"
   ]
  },
  {
   "cell_type": "code",
   "execution_count": null,
   "id": "important-album",
   "metadata": {},
   "outputs": [],
   "source": [
    "from aiida import load_profile\n",
    "load_profile()\n",
    "\n",
    "from aiida.orm import Dict, load_node, load_code\n",
    "from aiida.engine import submit\n",
    "from IPython.display import IFrame\n",
    "from pprint import pprint\n",
    "from aiida_fleur.tools.plot.fleur import plot_fleur\n",
    "from aiida_fleur.workflows.base_relax import FleurBaseRelaxWorkChain\n",
    "from aiida_fleur.workflows.eos import FleurEosWorkChain\n",
    "from aiida_fleur.workflows.mae import FleurMaeWorkChain\n",
    "from aiida_fleur.workflows.ssdisp import FleurSSDispWorkChain\n",
    "from aiida_fleur.workflows.create_magnetic_film import FleurCreateMagneticWorkChain\n",
    "from aiida_fleur.workflows.corehole import fleur_corehole_wc\n",
    "from aiida_fleur.workflows.initial_cls import fleur_initial_cls_wc"
   ]
  },
  {
   "cell_type": "markdown",
   "id": "deadly-vanilla",
   "metadata": {},
   "source": [
    "# Higher-level workchains"
   ]
  },
  {
   "cell_type": "markdown",
   "id": "fitted-saskatchewan",
   "metadata": {},
   "source": [
    "**Disclaimer**: if this tutorial is running on iffslurm, first check if there is space in the queues and be careful \n",
    "            not to run to many of the higher workchains at once and please not with expensive inputs, otherwise all people \n",
    "            duing the tutorial have to wait for your jobs. Please be responsible. If iffslurm is full consider comming back to this tutorial at some other day."
   ]
  },
  {
   "cell_type": "markdown",
   "id": "polar-buyer",
   "metadata": {},
   "source": [
    "Now - finally - we will see the real power of the workchains. We are going to launch a relaxation workchain relaxing a the atoms in a given crystal structure. An equation of state workchain calculating the bulk modulus. \n",
    "And in the end we are going to use two higher-level workchains for Magnetic Anisotropy Energy (MAE) and Spin Spiral Dispersion (SSDisp) calculations. There are two types of MAE and SSDisp workchains: force-theorem and convergence workchains. In this tutorial we will use force-theorem workchains only that first submits a single SCF workchain to obtain the reference charge density and later submits a single `FleurCalculation` task to run the force theorem step."
   ]
  },
  {
   "cell_type": "code",
   "execution_count": null,
   "id": "rapid-breast",
   "metadata": {},
   "outputs": [],
   "source": [
    "fleur_code = load_code('fleur_MaXR5_th1@iffslurm')\n",
    "inpgen_code = load_code('inpgen_MaXR5_th1@iffslurm')"
   ]
  },
  {
   "cell_type": "code",
   "execution_count": null,
   "id": "blank-warren",
   "metadata": {},
   "outputs": [],
   "source": [
    "options = Dict(dict={'resources' : {\"num_machines\": 1, \"num_mpiprocs_per_machine\" : 2},\n",
    "                     'queue_name' : 'th1',\n",
    "                     'withmpi' : True,\n",
    "                     'max_wallclock_seconds' : 600})\n",
    "\n",
    "options.store()"
   ]
  },
  {
   "cell_type": "code",
   "execution_count": null,
   "id": "historic-romania",
   "metadata": {},
   "outputs": [],
   "source": [
    "Struc_PK = 128"
   ]
  },
  {
   "cell_type": "markdown",
   "id": "transparent-drove",
   "metadata": {},
   "source": [
    "# The Relax workchain"
   ]
  },
  {
   "cell_type": "markdown",
   "id": "accredited-english",
   "metadata": {},
   "source": [
    "The FleurRelaxWorkChain relaxes the atomic positions of a crystal structure. It is called by the FleurBaseRelaxWorkChain, which handels some errors of the FleurRelaxWorkChain. Therefore, you usually want to run the FleurBaseRelaxWorkChain.\n",
    "For more information see https://aiida-fleur.readthedocs.io/en/latest/user_guide/workflows/relax_wc.html"
   ]
  },
  {
   "cell_type": "code",
   "execution_count": null,
   "id": "freelance-trade",
   "metadata": {},
   "outputs": [],
   "source": [
    "structure = load_node(Struc_PK)"
   ]
  },
  {
   "cell_type": "code",
   "execution_count": null,
   "id": "literary-frost",
   "metadata": {},
   "outputs": [],
   "source": [
    "inputs = {'scf': {\n",
    "                  #'wf_parameters': wf_para_scf,   # use defaults\n",
    "                  #'calc_parameters': parameters,  # use fleur defaults\n",
    "                  'options': options,\n",
    "                  'inpgen': inpgen_code,\n",
    "                  'fleur': fleur_code,\n",
    "                  'structure': structure\n",
    "                 },\n",
    "          #'final_scf': {                          # We do not run one\n",
    "                        #'calc_parameters': parameters,\n",
    "          #},                        \n",
    "          #'wf_parameters': wf_para,               # use defaults\n",
    "}"
   ]
  },
  {
   "cell_type": "code",
   "execution_count": null,
   "id": "primary-savage",
   "metadata": {},
   "outputs": [],
   "source": [
    "Relax_workchain = submit(FleurBaseRelaxWorkChain, **inputs)\n",
    "print('Submitted Relax workchain pk={}'.format(Relax_workchain.pk))"
   ]
  },
  {
   "cell_type": "code",
   "execution_count": null,
   "id": "apart-haven",
   "metadata": {},
   "outputs": [],
   "source": [
    "Check on the workchain, and if it is finished you can continue"
   ]
  },
  {
   "cell_type": "code",
   "execution_count": null,
   "id": "electric-graduate",
   "metadata": {},
   "outputs": [],
   "source": [
    "relax = load_node(Relax_workchain.pk)\n",
    "pprint(relax.outputs.output_relax_wc_para.get_dict())"
   ]
  },
  {
   "cell_type": "code",
   "execution_count": null,
   "id": "suspected-vietnam",
   "metadata": {},
   "outputs": [],
   "source": [
    "# To view the provenance graph of the workchain\n",
    "!verdi node graph generate $Relax_workchain.pk"
   ]
  },
  {
   "cell_type": "code",
   "execution_count": null,
   "id": "tropical-recipient",
   "metadata": {},
   "outputs": [],
   "source": [
    "IFrame('./' + str(Relax_workchain.pk) + '.dot.pdf', width=800, height=500)"
   ]
  },
  {
   "cell_type": "markdown",
   "id": "oriented-minimum",
   "metadata": {},
   "source": [
    "# Equation of states WorkChain"
   ]
  },
  {
   "cell_type": "markdown",
   "id": "expressed-atmosphere",
   "metadata": {},
   "source": [
    "The FleurEosWorkChain calculation an equation of state by scaling the cell and running an SCF workchain on all scalings, while keeping the flapw parameters the same. In the end it performs a Birch–Murnaghan equation of state fit, and returns the results which contains among other quantities the bulk modulus. So far this is only correct for cubic systems, which are relaxed.\n",
    "See https://aiida-fleur.readthedocs.io/en/latest/user_guide/workflows/eos_wc.html\n",
    "\n",
    "The 'right' way to do this would be to run a full constant volume cell and atoms relaxation for each scaled volume."
   ]
  },
  {
   "cell_type": "code",
   "execution_count": null,
   "id": "experimental-cartoon",
   "metadata": {},
   "outputs": [],
   "source": [
    "structure = load_node(Struc_PK)"
   ]
  },
  {
   "cell_type": "code",
   "execution_count": null,
   "id": "genuine-intellectual",
   "metadata": {},
   "outputs": [],
   "source": [
    "inputs = {'scf': {\n",
    "                  #'wf_parameters': wf_para_scf,   # use defaults\n",
    "                  #'calc_parameters': parameters,  # fleur defaults of lowest scaling\n",
    "                  'options': options,\n",
    "                  'inpgen': inpgen_code,\n",
    "                  'fleur': fleur_code\n",
    "                 },\n",
    "          #'wf_parameters': wf_para,               # default is 9 points\n",
    "          'structure': structure\n",
    "}"
   ]
  },
  {
   "cell_type": "code",
   "execution_count": null,
   "id": "alien-flavor",
   "metadata": {},
   "outputs": [],
   "source": [
    "EOS_workchain = submit(FleurEosWorkChain, **inputs)\n",
    "print('Submitted EOS workchain pk={}'.format(EOS_workchain.pk))"
   ]
  },
  {
   "cell_type": "markdown",
   "id": "spatial-summit",
   "metadata": {},
   "source": [
    "Check on the workchain, and if it is finished you can continue"
   ]
  },
  {
   "cell_type": "code",
   "execution_count": null,
   "id": "center-velvet",
   "metadata": {},
   "outputs": [],
   "source": [
    "eos = load_node(EOS_workchain.pk)\n",
    "pprint(eos.outputs.output_eos_wc_para.get_dict())"
   ]
  },
  {
   "cell_type": "code",
   "execution_count": null,
   "id": "revolutionary-trust",
   "metadata": {},
   "outputs": [],
   "source": [
    "a = plot_fleur(EOS_workchain.pk)"
   ]
  },
  {
   "cell_type": "markdown",
   "id": "minor-start",
   "metadata": {},
   "source": [
    "If the above does not look well, it means it is not converged, and you should better rerun with more kpoints\n",
    "and maybe specifing FLAPW parameters (calc_parameters) yourself instead of relying on the fleur defaults."
   ]
  },
  {
   "cell_type": "code",
   "execution_count": null,
   "id": "unnecessary-blank",
   "metadata": {},
   "outputs": [],
   "source": [
    "# To view the provenance graph of the workchain\n",
    "!verdi node graph generate $EOS_workchain.pk"
   ]
  },
  {
   "cell_type": "code",
   "execution_count": null,
   "id": "communist-right",
   "metadata": {},
   "outputs": [],
   "source": [
    "IFrame('./' + str(EOS_workchain.pk) + '.dot.pdf', width=800, height=500)"
   ]
  },
  {
   "cell_type": "markdown",
   "id": "executed-testament",
   "metadata": {},
   "source": [
    "# Magnetic anisotropy workchain "
   ]
  },
  {
   "cell_type": "markdown",
   "id": "bigger-reminder",
   "metadata": {},
   "source": [
    "A table of possible inputs looks the same as for SCF:"
   ]
  },
  {
   "cell_type": "markdown",
   "id": "trying-century",
   "metadata": {},
   "source": [
    "|name|type|description| required |\n",
    "|:---:|:---:|:---------:|:---:|\n",
    "|fleur | Code | Fleur code | yes |\n",
    "|inpgen | Code | Inpgen code| no |\n",
    "|wf_parameters | Dict | Settings of the workchain| no |\n",
    "|structure | StructureData | Structure data node| no |\n",
    "|calc_parameters | Dict | FLAPW parameters, used by inpgen| no |\n",
    "|fleurinp | FleurinpData | FLEUR input files| no |\n",
    "|remote_data | RemoteData | Remote folder to find cdn1| no |\n",
    "|options | Dict | AiiDA options (computational resources)| no |"
   ]
  },
  {
   "cell_type": "markdown",
   "id": "addressed-spirituality",
   "metadata": {},
   "source": [
    "Again, there are a lot of optional inputs - however you *must* follow one of the supported input configurations. They are similar to the SCF workchain and I will not cover all of them here, let us just use the **fleur** + **inpgen** + **structure** mode. Let us also specify workchain parameters and computational resources."
   ]
  },
  {
   "cell_type": "code",
   "execution_count": null,
   "id": "refined-search",
   "metadata": {},
   "outputs": [],
   "source": [
    "wf_para = Dict(dict={'sqa_ref': [0.7, 0.7],                    # theta and phi for reference calculation\n",
    "                     'use_soc_ref': False,                     # True if switch on SOC terms for reference\n",
    "                     'sqas_theta': [0.0, 1.57079, 1.57079],    # a list of theta values to calculate via the FT\n",
    "                     'sqas_phi': [0.0, 0.0, 1.57079],          # a list of phi values to calculate via the FT\n",
    "                     'fleur_runmax': 10,                       # passed to SCF workchain\n",
    "                     'density_converged': 0.02,                # passed to SCF workchain\n",
    "                     'serial': False,                          # passed to SCF workchain\n",
    "                     'itmax_per_run': 30,                       # passed to SCF workchain\n",
    "                     'inpxml_changes': []                      # a list of inpxml changes to be done before submission\n",
    "                    })"
   ]
  },
  {
   "cell_type": "code",
   "execution_count": null,
   "id": "compact-murder",
   "metadata": {},
   "outputs": [],
   "source": [
    "calc_parameters = Dict(dict={\n",
    "    'kpt': {\n",
    "        'div1': 4,\n",
    "        'div2' : 4,\n",
    "        'div3' : 1\n",
    "        }})"
   ]
  },
  {
   "cell_type": "code",
   "execution_count": null,
   "id": "sublime-faculty",
   "metadata": {},
   "outputs": [],
   "source": []
  },
  {
   "cell_type": "markdown",
   "id": "refined-cosmetic",
   "metadata": {},
   "source": [
    "In this section we want to be even more productive - let us define not a single structure but three of them! Import Fe, Co and Ni film structures that we created in tutorial 4:"
   ]
  },
  {
   "cell_type": "code",
   "execution_count": null,
   "id": "appointed-evolution",
   "metadata": {},
   "outputs": [],
   "source": [
    "fe_structure = load_node(xxx)\n",
    "co_structure = load_node(xxx)\n",
    "ni_structure = load_node(xxx)\n",
    "\n",
    "input_structures = [fe_structure, co_structure, ni_structure]"
   ]
  },
  {
   "cell_type": "markdown",
   "id": "outside-wagner",
   "metadata": {},
   "source": [
    "And calculate magnetic anisotropy energy for all of them:"
   ]
  },
  {
   "cell_type": "code",
   "execution_count": null,
   "id": "found-massage",
   "metadata": {},
   "outputs": [],
   "source": [
    "for structure in input_structures:\n",
    "    MAE_workchain = submit(FleurMaeWorkChain,\n",
    "                          fleur=fleur_code,\n",
    "                          inpgen=inpgen_code,\n",
    "                          calc_parameters=calc_parameters,\n",
    "                          structure=structure,\n",
    "                          wf_parameters=wf_para)\n",
    "    print('Submitted Mae workchain pk={} for {} structure'.format(MAE_workchain.pk, structure.get_formula()))"
   ]
  },
  {
   "cell_type": "markdown",
   "id": "academic-concert",
   "metadata": {},
   "source": [
    "Again, you can check if it is finished via:"
   ]
  },
  {
   "cell_type": "code",
   "execution_count": null,
   "id": "accessory-olive",
   "metadata": {},
   "outputs": [],
   "source": [
    "# you need to modify this - replace MAE_PK\n",
    "!verdi process status MAE_PK\n",
    "# or\n",
    "#!verdi process list -a -p 1"
   ]
  },
  {
   "cell_type": "markdown",
   "id": "statistical-nicholas",
   "metadata": {},
   "source": [
    "Using you experience, can you access the output dictionaries and extract values of MAEs for all the structures?\n",
    "\n",
    "Now let us proceed to the final task - Spin spiral dispersion workchain."
   ]
  },
  {
   "cell_type": "markdown",
   "id": "fewer-timothy",
   "metadata": {},
   "source": [
    "# Scripting tasks"
   ]
  },
  {
   "cell_type": "markdown",
   "id": "invalid-terry",
   "metadata": {},
   "source": [
    "## Spin-spiral dispersion workchain"
   ]
  },
  {
   "cell_type": "markdown",
   "id": "sought-publication",
   "metadata": {},
   "source": [
    "Spin spiral dispersion workchain has the same input nodes as MAE workchain. `wf_para` dictionary contains a different set of control keys:"
   ]
  },
  {
   "cell_type": "code",
   "execution_count": null,
   "id": "major-relation",
   "metadata": {},
   "outputs": [],
   "source": [
    "wf_para = Dict(dict={'fleur_runmax' : 3,                    # passed to SCF workchain\n",
    "                     'itmax_per_run' : 30,                  # passed to SCF workchain\n",
    "                     'density_converged' : 0.002,           # passed to SCF workchain\n",
    "                     'serial' : False,                      # passed to SCF workchain\n",
    "                     'beta' : {'all' : 1.57079},            # sets beta angle for all atoms\n",
    "                     'q_vectors': [[0.0, 0.0, 0.0,          # set q-vectors to calculate\n",
    "                                   [0.125, 0.125, 0.0],     \n",
    "                                   [0.250, 0.250, 0.0],     \n",
    "                                   [0.375, 0.375, 0.0],     \n",
    "                                   [0.500, 0.500, 0.0]],     \n",
    "                     'ref_qss' : [0.0, 0.0, 0.0],            # sets a q-vector of the reference calc\n",
    "                     'inpxml_changes': []\n",
    "                    })"
   ]
  },
  {
   "cell_type": "markdown",
   "id": "understood-michigan",
   "metadata": {},
   "source": [
    "To import SSDisp workchain, run:\n",
    "\n",
    "    from aiida_fleur.workflows.ssdisp import FleurSSDispWorkChain"
   ]
  },
  {
   "cell_type": "markdown",
   "id": "yellow-liverpool",
   "metadata": {},
   "source": [
    " This time we will cover another input configuration: `fleur + fleurinp`. We will use `FleurinpData` objects generated in section 4.\n",
    " \n",
    "In the final task, load three `FleurinpData` objects and run a `FleurSSDispWorkChain` for each of them. Use **wf_para** given above. Do you need to pass **calc_parameters** this time?\n",
    "\n",
    "Explore the outputs, extract spin spiral dispersion. Plot energy of a spin spiral as a function of a q-vector."
   ]
  },
  {
   "cell_type": "code",
   "execution_count": null,
   "id": "negative-brick",
   "metadata": {},
   "outputs": [],
   "source": []
  }
 ],
 "metadata": {
  "kernelspec": {
   "display_name": "AiiDA",
   "language": "python",
   "name": "aiida"
  },
  "language_info": {
   "codemirror_mode": {
    "name": "ipython",
    "version": 3
   },
   "file_extension": ".py",
   "mimetype": "text/x-python",
   "name": "python",
   "nbconvert_exporter": "python",
   "pygments_lexer": "ipython3",
   "version": "3.8.5"
  }
 },
 "nbformat": 4,
 "nbformat_minor": 5
}
