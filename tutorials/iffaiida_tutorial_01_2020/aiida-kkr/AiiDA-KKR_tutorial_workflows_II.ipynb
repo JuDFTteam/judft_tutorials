{
 "cells": [
  {
   "cell_type": "markdown",
   "metadata": {},
   "source": [
    "# **AiiDA-KKR tutorial - using workflows part II**\n",
    "\n",
    "In this tutorial we perform an impurity embedding calculation based on the converged calculation of bcc Fe from the [AiiDA-KKR workflows tutorial I](AiiDA-KKR_tutorial_workflows_I.ipynb).\n",
    "\n",
    "In this section you will learn about\n",
    "* the impurity embedding workflow\n",
    "* ...\n",
    "\n",
    "We start with importing the scf workflow for bcc Fe into which an impurity should be placed.\n",
    "\n",
    "> **Note:**\\\n",
    "> In this tutorial the submission statements are commented out and instead the finished calculations are imported using the `load_node()` function.\n",
    "> This requires importing the tutorial dataset using `verdi import aiida-kkr_tutorial_workflows_I.aiida` in ther terminal before executing this workflow."
   ]
  },
  {
   "cell_type": "code",
   "execution_count": 1,
   "metadata": {},
   "outputs": [],
   "source": [
    "#load aiida environment and connect to database\n",
    "from aiida import load_profile\n",
    "profile = load_profile()\n",
    "\n",
    "# load classes and functions\n",
    "from aiida.orm import CifData, Code, Dict, load_node\n",
    "from aiida.engine import submit\n",
    "from aiida_kkr.tools import kkrparams, plot_kkr\n",
    "\n",
    "# load the scf workflow for bulk Fe using the conventional structure and extract the remote_folder of the converged calculation\n",
    "scf_conv = load_node('33320e88-90f6-4baa-84f5-992c69dc3006')\n",
    "converged_host_remote = scf_conv.outputs.last_RemoteData"
   ]
  },
  {
   "cell_type": "markdown",
   "metadata": {},
   "source": [
    "## **1. `kkr_imp_wc` - full KKR impurity embedding**\n",
    "\n",
    "The goal is to embed a substitutional Cr defect into bulk Fe. For this we will use the top level `kkr_imp_wc` workflow of AiiDA-KKR that deal first writes out the host's Green function for the impurity cluster, creates the impurity starting potential and finally converges the impurity by running a series of `KkrimpCalculation`s. The workflow has the following input and output nodes:\n",
    "\n",
    "**Inputs:**\n",
    "* `structure` - crystal structure for which the calculation is done (`StructureData`, *optional*)\n",
    "* `remote_data` - parent calculation folder, used to continue a calculation instead of starting from a `StructureData` node (`RemoteData`, *optional*, required if structure is not in inputs)\n",
    "* `wf_parameters` - settings for the workflow (Dict, *optional*)\n",
    "* `options` - computer options (e.g. `'resources'={...}`, `'queue_name=...'`) that control how a calculation runs on the cluster (Dict, *optional*)\n",
    "* `calc_parameters` - KKR parameters like the LMAX cutoff (`Dict`, *optional*)\n",
    "* `voronoi` - Voronoi code installation (`Code`, *required* if structure is in inputs)\n",
    "* `kkr` - KKR code installation (`Code`, *required*)\n",
    "* `kkrimp` - KKR code installation (`Code`, *required*)\n",
    "\n",
    "**Outputs:**\n",
    "* \n",
    "* \n",
    "\n",
    "We will first construct the `imp_info` Dict input node that defines the impurity setup. In this example we start from the converged scf calculation of bcc Fe in the conventional unit cell which has two (equivalent) atoms."
   ]
  },
  {
   "cell_type": "code",
   "execution_count": 2,
   "metadata": {},
   "outputs": [
    {
     "data": {
      "text/plain": [
       "[<Site: kind name 'Fe' @ 0.0,0.0,0.0>,\n",
       " <Site: kind name 'Fe' @ 1.42002584,1.42002584,1.42002584>]"
      ]
     },
     "execution_count": 2,
     "metadata": {},
     "output_type": "execute_result"
    }
   ],
   "source": [
    "scf_conv.inputs.structure.sites"
   ]
  },
  {
   "cell_type": "markdown",
   "metadata": {},
   "source": [
    "in this example we are going to substitute the second site by a Cr impurity (`Zimp=24`) and want to include all host atoms within a radius of 4 Ang. for the charge screening. This can be done by choosing `ilayer_center=1` (remember that python starts counting at 0) and `Rcut=4.`:"
   ]
  },
  {
   "cell_type": "code",
   "execution_count": 3,
   "metadata": {},
   "outputs": [],
   "source": [
    "imp_info = Dict(dict=dict(Zimp=24., ilayer_center=1, Rcut=4.))"
   ]
  },
  {
   "cell_type": "markdown",
   "metadata": {},
   "source": [
    "We again use the `get_wf_defaults` method to get starting values for the different input nodes of the `kkr_imp_wc` workflow and we change some of the default parameters for this tutorial:"
   ]
  },
  {
   "cell_type": "code",
   "execution_count": 4,
   "metadata": {},
   "outputs": [
    {
     "name": "stdout",
     "output_type": "stream",
     "text": [
      "Version of workflow: 0.8.0\n"
     ]
    }
   ],
   "source": [
    "from aiida_kkr.workflows import kkr_imp_wc\n",
    "options, settings_imp, settings_vorostart = kkr_imp_wc.get_wf_defaults()\n",
    "\n",
    "# settings for kkrimp-scf sub workflow\n",
    "# reduce convegence criterion, increase mixing steps)\n",
    "settings_imp['convergence_criterion'] = 1e-6\n",
    "settings_imp['nsteps'] = 100\n",
    "settings_imp['strmix'] = 0.01\n",
    "settings_imp['aggrmix'] = 0.03\n",
    "settings_imp['threshold_aggressive_mixing'] = 0.05\n",
    "\n",
    "# settings for vorostart sub-workflow\n",
    "settings_vorostart['natom_in_cls_min'] = 25\n",
    "\n",
    "# use the options for the oscar partition of iffslurm (defined in \"basic Calculations\" part of the AiiDA-KKR tutorial)\n",
    "options_slurm_oscar = load_node('68da1dbd-775e-4594-9c29-3e21815173bb')"
   ]
  },
  {
   "cell_type": "markdown",
   "metadata": {},
   "source": [
    "Now we are ready to submit the process:"
   ]
  },
  {
   "cell_type": "code",
   "execution_count": 5,
   "metadata": {},
   "outputs": [],
   "source": [
    "# create process builder\n",
    "builder = kkr_imp_wc.get_builder()\n",
    "\n",
    "# definition of the impurity\n",
    "builder.impurity_info = imp_info\n",
    "# converged host calculation's remote folder\n",
    "builder.remote_data_host = converged_host_remote\n",
    "# settings for the impurity scf\n",
    "builder.wf_parameters = Dict(dict=settings_imp)\n",
    "# settings for impurity start potential generation\n",
    "builder.voro_aux_parameters = Dict(dict=settings_vorostart)\n",
    "\n",
    "# set the codes and options\n",
    "builder.voronoi = Code.get_from_string('voronoi_intel@iffslurm')\n",
    "builder.kkr = Code.get_from_string('kkrhost_develop_intel@iffslurm')\n",
    "builder.kkrimp = Code.get_from_string('kkrimp_intel@iffslurm')\n",
    "builder.options = options_slurm_oscar\n",
    "\n",
    "# set a calculation label and a description (optional)\n",
    "builder.metadata.label = 'Cr:Fe'\n",
    "builder.metadata.description = 'impurity in bcc Fe'\n",
    "\n",
    "# finally submit the workflow and wait\n",
    "#imp_scf = submit(builder)\n",
    "imp_scf = load_node('cf0a0fbc-0ec9-4201-9d7d-22e3847397b6')"
   ]
  },
  {
   "cell_type": "markdown",
   "metadata": {},
   "source": [
    "The `plot_kkr` tool again gives us an overview plot of the workflow:"
   ]
  },
  {
   "cell_type": "code",
   "execution_count": 6,
   "metadata": {},
   "outputs": [
    {
     "data": {
      "image/png": "[encoded data removed]",
      "text/plain": [
       "<Figure size 432x288 with 2 Axes>"
      ]
     },
     "metadata": {
      "needs_background": "light"
     },
     "output_type": "display_data"
    },
    {
     "data": {
      "application/vnd.jupyter.widget-view+json": {
       "model_id": "d3e09662ce9e4c4c8ed2bb4afe641f6c",
       "version_major": 2,
       "version_minor": 0
      },
      "text/plain": [
       "GridspecLayout(children=(Renderer(camera=PerspectiveCamera(fov=10.0, position=(0.0, 0.0, 66.92941982063323), p…"
      ]
     },
     "metadata": {},
     "output_type": "display_data"
    },
    {
     "data": {
      "text/plain": [
       "<aiida_kkr.tools.plot_kkr.plot_kkr at 0x7f05933d1430>"
      ]
     },
     "execution_count": 6,
     "metadata": {},
     "output_type": "execute_result"
    }
   ],
   "source": [
    "plot_kkr(imp_scf, silent=True)"
   ]
  },
  {
   "cell_type": "code",
   "execution_count": 7,
   "metadata": {},
   "outputs": [],
   "source": [
    "# use this command to check on the status of the workflow:\n",
    "#!verdi process status <id-of-the-workflow>"
   ]
  },
  {
   "cell_type": "markdown",
   "metadata": {},
   "source": [
    "## **2. reuse Green function for a second impurity**\n",
    "\n",
    "We can easily do a second impurity calulation. Here we want to place Mn instead of Cr into bcc Fe and reuse the previous settings. Since the impurity cluster is the same we can even reuse the already written out Green function of the host. We find this in the output of the previous impurity scf workflow. To skip the GF writeout step in this calculation we remove the `remote_data_host` input from the builder and instead add the `remote_data_gf` input. We can then submit this calculatino which will finish faster since the GF writeout step is skipped (you can see this by comparing the `verdi process status <id>` outputs of the provenance graphs of the two calculations."
   ]
  },
  {
   "cell_type": "code",
   "execution_count": 8,
   "metadata": {},
   "outputs": [],
   "source": [
    "builder = imp_scf.get_builder_restart()\n",
    "\n",
    "imp_info = builder.impurity_info.get_dict()\n",
    "imp_info['Zimp'] = 25.0\n",
    "builder.impurity_info= Dict(dict=imp_info)\n",
    "\n",
    "builder.metadata.label = 'Mn:Fe'\n",
    "\n",
    "# remote remote_data_host input and add remote_data_gf input\n",
    "# this will trigger reusing the already existing gf\n",
    "builder.pop('remote_data_host')\n",
    "builder.remote_data_gf = imp_scf.outputs.remote_data_gf\n",
    "\n",
    "#imp_scf_Mn = submit(builder)\n",
    "imp_scf_Mn = load_node('d3ce9d7f-1d7b-4c89-8c4e-69058062387b')"
   ]
  },
  {
   "cell_type": "code",
   "execution_count": 9,
   "metadata": {},
   "outputs": [],
   "source": [
    "#!verdi process status 992"
   ]
  },
  {
   "cell_type": "code",
   "execution_count": 10,
   "metadata": {},
   "outputs": [
    {
     "data": {
      "image/png": "[encoded data removed]",
      "text/plain": [
       "<Figure size 432x288 with 2 Axes>"
      ]
     },
     "metadata": {
      "needs_background": "light"
     },
     "output_type": "display_data"
    },
    {
     "data": {
      "application/vnd.jupyter.widget-view+json": {
       "model_id": "2f05fd94f8ef4453b375e99aae828e57",
       "version_major": 2,
       "version_minor": 0
      },
      "text/plain": [
       "GridspecLayout(children=(Renderer(camera=PerspectiveCamera(fov=10.0, position=(0.0, 0.0, 66.92941982063323), p…"
      ]
     },
     "metadata": {},
     "output_type": "display_data"
    },
    {
     "data": {
      "text/plain": [
       "<aiida_kkr.tools.plot_kkr.plot_kkr at 0x7f06547afa60>"
      ]
     },
     "execution_count": 10,
     "metadata": {},
     "output_type": "execute_result"
    }
   ],
   "source": [
    "plot_kkr(imp_scf_Mn, silent=True)"
   ]
  },
  {
   "cell_type": "markdown",
   "metadata": {},
   "source": [
    "From the output we can compare some of the output properties of the calculation. Here we look at the magnetic moments in the different shells around the impurities:"
   ]
  },
  {
   "cell_type": "code",
   "execution_count": 11,
   "metadata": {},
   "outputs": [
    {
     "ename": "NameError",
     "evalue": "name 'scf' is not defined",
     "output_type": "error",
     "traceback": [
      "\u001b[0;31m---------------------------------------------------------------------------\u001b[0m",
      "\u001b[0;31mNameError\u001b[0m                                 Traceback (most recent call last)",
      "\u001b[0;32m<ipython-input-11-d0a9adc7f7fb>\u001b[0m in \u001b[0;36m<module>\u001b[0;34m\u001b[0m\n\u001b[1;32m     11\u001b[0m     \u001b[0mms_shell2\u001b[0m \u001b[0;34m=\u001b[0m \u001b[0mmoms\u001b[0m\u001b[0;34m[\u001b[0m\u001b[0;36m9\u001b[0m\u001b[0;34m]\u001b[0m\u001b[0;34m\u001b[0m\u001b[0;34m\u001b[0m\u001b[0m\n\u001b[1;32m     12\u001b[0m     \u001b[0;31m# reference bulkf Fe value\u001b[0m\u001b[0;34m\u001b[0m\u001b[0;34m\u001b[0m\u001b[0;34m\u001b[0m\u001b[0m\n\u001b[0;32m---> 13\u001b[0;31m     \u001b[0mms_Fe_bulk\u001b[0m \u001b[0;34m=\u001b[0m \u001b[0mscf\u001b[0m\u001b[0;34m.\u001b[0m\u001b[0moutputs\u001b[0m\u001b[0;34m.\u001b[0m\u001b[0mlast_calc_out\u001b[0m\u001b[0;34m[\u001b[0m\u001b[0;34m'magnetism_group'\u001b[0m\u001b[0;34m]\u001b[0m\u001b[0;34m[\u001b[0m\u001b[0;34m'spin_moment_per_atom'\u001b[0m\u001b[0;34m]\u001b[0m\u001b[0;34m[\u001b[0m\u001b[0;36m0\u001b[0m\u001b[0;34m]\u001b[0m\u001b[0;34m\u001b[0m\u001b[0;34m\u001b[0m\u001b[0m\n\u001b[0m\u001b[1;32m     14\u001b[0m \u001b[0;34m\u001b[0m\u001b[0m\n\u001b[1;32m     15\u001b[0m     \u001b[0mmoms\u001b[0m \u001b[0;34m=\u001b[0m \u001b[0;34m[\u001b[0m\u001b[0mms_imp\u001b[0m\u001b[0;34m,\u001b[0m \u001b[0mms_shell1\u001b[0m\u001b[0;34m,\u001b[0m \u001b[0mms_shell2\u001b[0m\u001b[0;34m,\u001b[0m \u001b[0mms_Fe_bulk\u001b[0m\u001b[0;34m]\u001b[0m\u001b[0;34m\u001b[0m\u001b[0;34m\u001b[0m\u001b[0m\n",
      "\u001b[0;31mNameError\u001b[0m: name 'scf' is not defined"
     ]
    },
    {
     "data": {
      "text/plain": [
       "<Figure size 1152x576 with 0 Axes>"
      ]
     },
     "metadata": {},
     "output_type": "display_data"
    }
   ],
   "source": [
    "import numpy as np\n",
    "\n",
    "import matplotlib.pyplot as plt\n",
    "plt.figure(figsize=(16,8))\n",
    "\n",
    "for i, imp in enumerate([imp_scf_Mn, imp_scf]):\n",
    "    moms = np.round(np.array(imp.outputs.last_calc_output_parameters['convergence_group']['total_spin_moment_all_iterations'][0])[:,-1], 3)\n",
    "    # extract moments of the different shells\n",
    "    ms_imp = moms[0]\n",
    "    ms_shell1 = moms[1]\n",
    "    ms_shell2 = moms[9]\n",
    "    # reference bulkf Fe value\n",
    "    ms_Fe_bulk = scf.outputs.last_calc_out['magnetism_group']['spin_moment_per_atom'][0]\n",
    "\n",
    "    moms = [ms_imp, ms_shell1, ms_shell2, ms_Fe_bulk]\n",
    "    names = [imp.label, 'neighbor 1', 'neighbor 2', 'Fe_bulk']\n",
    "\n",
    "    x = np.arange(len(moms))\n",
    "    plt.bar(2*x-0.3+i*0.6, moms, label=names[0], width=0.5)\n",
    "    plt.xticks(2*x, ['imp']+names[1:], fontsize='x-large')\n",
    "    plt.legend(fontsize='x-large')\n",
    "    plt.ylabel('$m_s$ ($\\mu_B$)', fontsize='x-large')\n",
    "    plt.axhline(0, color='grey', lw=1)"
   ]
  },
  {
   "cell_type": "markdown",
   "metadata": {},
   "source": [
    "## **3. impurity DOS**\n",
    "\n",
    "Once we have converged the impurities we can also compute their DOS. In this example we will additionally set the `retrieve_kkrflex` flag in the `wf_parameters` input to `False`. This can be used to supress retrieval of the host's Green function (i.e. the *kkrflex_\\** files). We do this because we expect that we will not need to store these files permanently in the AiiDa repository. Thus we minimize the size of the file repository.\n",
    "\n",
    "We again first set up the settings for the workflow:"
   ]
  },
  {
   "cell_type": "code",
   "execution_count": null,
   "metadata": {},
   "outputs": [],
   "source": [
    "from aiida_kkr.workflows import kkr_imp_dos_wc\n",
    "settings = kkr_imp_dos_wc.get_wf_defaults()\n",
    "\n",
    "# save space in the database and do not retrieve the KKRflex files and calculate the l and m resolved DOS instead of the l-resolved one\n",
    "settings['retrieve_kkrflex'] = False\n",
    "settings['lmdos'] = True\n",
    "\n",
    "# change energy range to zoom around Fermi level\n",
    "settings['dos_params']['emin'] = -5\n",
    "settings['dos_params']['emax'] = 2"
   ]
  },
  {
   "cell_type": "markdown",
   "metadata": {},
   "source": [
    "In this example we will also use a `Group` to save out workflow nodes. Groups are a useful tool to organize your data."
   ]
  },
  {
   "cell_type": "code",
   "execution_count": null,
   "metadata": {},
   "outputs": [],
   "source": [
    "def get_or_create_group(groupname):\n",
    "    \"\"\"\n",
    "    load a group by label 'groupname'\n",
    "    if the group does not exist create it\n",
    "    \"\"\"\n",
    "    from aiida.orm import Group, load_group\n",
    "    from aiida.common import NotExistent\n",
    "    \n",
    "    try:\n",
    "        imp_dos_group = load_group(groupname)\n",
    "    except NotExistent:\n",
    "        imp_dos_group = Group(label='imp_dos_nodes')\n",
    "        imp_dos_group.store()\n",
    "    \n",
    "    return imp_dos_group\n",
    "\n",
    "\n",
    "imp_dos_group = get_or_create_group('imp_dos_nodes')"
   ]
  },
  {
   "cell_type": "markdown",
   "metadata": {},
   "source": [
    "We are now submitting the DOS calculations for the two workflows directly in a loop and add the workflow nodes to the Group."
   ]
  },
  {
   "cell_type": "code",
   "execution_count": null,
   "metadata": {},
   "outputs": [],
   "source": [
    "for imp in [imp_scf, imp_scf_Mn]:\n",
    "    builder = kkr_imp_dos_wc.get_builder()\n",
    "\n",
    "    # reuse code settingf from scf calculation\n",
    "    # attention: for retrieve_kkrflex=False in the settings we need to use the same computer for the GF writeout and the impurity calculation\n",
    "    builder.kkr = imp_scf.inputs.kkr\n",
    "    builder.kkrimp = imp_scf.inputs.kkrimp\n",
    "    builder.options = imp_scf.inputs.options\n",
    "\n",
    "    builder.host_remote = imp_scf.inputs.remote_data_host\n",
    "    \n",
    "    builder.imp_pot_sfd = imp.outputs.converged_potential\n",
    "\n",
    "    builder.wf_parameters = Dict(dict=settings)\n",
    "\n",
    "    plabel = imp.label+'_DOS'\n",
    "    builder.metadata.label = plabel\n",
    "\n",
    "    #submit only if a calculation with the same name does not exist in the group already\n",
    "    if plabel not in [n.label for n in imp_dos_group.nodes]:\n",
    "        imp_dos = submit(builder)\n",
    "        imp_dos_group.add_nodes(imp_dos)\n",
    "        print('submitted DOS for', imp.label)\n",
    "\n",
    "# show the labels and process states of the processes\n",
    "[(n.label, n.process_state) for n in imp_dos_group.nodes]"
   ]
  },
  {
   "cell_type": "markdown",
   "metadata": {},
   "source": [
    "Finally we can compare the DOS of the impurities. Here we use the keyword arguments to add the plots into the same figure."
   ]
  },
  {
   "cell_type": "code",
   "execution_count": null,
   "metadata": {},
   "outputs": [],
   "source": [
    "plt.figure()\n",
    "for i, imp_dos in enumerate(imp_dos_group.nodes):\n",
    "    # plot the contribution of the total impurity cluster into the background\n",
    "    # we scale this down by 0.5 to have copatible y-scales\n",
    "    plot_kkr(imp_dos, l_channels=False, strucplot=False, silent=True, label=None,\n",
    "             noshow=True, nofig=True, color='C'+str(i),\n",
    "             filled=True, alpha=0.3, yscale=0.5, lw=3\n",
    "            )\n",
    "    # highlight the contibution of the impurity (iatom=0)\n",
    "    plot_kkr(imp_dos, l_channels=False, strucplot=False, silent=True, label=imp_dos.label,\n",
    "             noshow=True, nofig=True, color='C'+str(i),\n",
    "             lw=3, iatom=0, \n",
    "            )\n",
    "plt.legend(loc=2, fontsize='large')\n",
    "plt.title('')\n",
    "plt.show()"
   ]
  }
 ],
 "metadata": {
  "kernelspec": {
   "display_name": "AiiDA",
   "language": "python",
   "name": "aiida"
  },
  "language_info": {
   "codemirror_mode": {
    "name": "ipython",
    "version": 3
   },
   "file_extension": ".py",
   "mimetype": "text/x-python",
   "name": "python",
   "nbconvert_exporter": "python",
   "pygments_lexer": "ipython3",
   "version": "3.8.5"
  }
 },
 "nbformat": 4,
 "nbformat_minor": 4
}
