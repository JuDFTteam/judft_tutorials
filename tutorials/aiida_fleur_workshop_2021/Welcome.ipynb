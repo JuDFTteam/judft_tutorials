{
 "cells": [
  {
   "cell_type": "markdown",
   "id": "running-scope",
   "metadata": {},
   "source": [
    "# Welcome to the AiiDA-Fleur tutorial!"
   ]
  },
  {
   "cell_type": "markdown",
   "id": "european-grill",
   "metadata": {},
   "source": [
    "Hi everyone, today we are going to cover the main AiiDA-Fleur functionality. Our target is to learn how to create and configure inputs, submit calculations and analyse results using AiiDA. "
   ]
  },
  {
   "cell_type": "markdown",
   "id": "arbitrary-audit",
   "metadata": {},
   "source": [
    "First, lets us go through some important things that one should know before starting the first tutorial notebook."
   ]
  },
  {
   "cell_type": "markdown",
   "id": "transparent-mustang",
   "metadata": {},
   "source": [
    "## The header"
   ]
  },
  {
   "cell_type": "markdown",
   "id": "temporal-yacht",
   "metadata": {},
   "source": [
    "***Important: If you are using this tutorial on the cloud resources we provide for the 2021 FLEUR workshop you have to execute the following line before starting the tutorial***"
   ]
  },
  {
   "cell_type": "code",
   "execution_count": 1,
   "id": "viral-airline",
   "metadata": {},
   "outputs": [],
   "source": [
    "!bash /bin/init_aiida.sh"
   ]
  },
  {
   "cell_type": "markdown",
   "id": "german-tyler",
   "metadata": {},
   "source": [
    "Several first cells of each notebook contain the code that should be executed before staring the tutorial. It sets up the notebook and is not the part of the tutorial - simply execute them and continue."
   ]
  },
  {
   "cell_type": "markdown",
   "id": "responsible-despite",
   "metadata": {},
   "source": [
    "*please execute the cell below before starting the tutorial by selecting it and pressing Ctrl+Enter*"
   ]
  },
  {
   "cell_type": "code",
   "execution_count": null,
   "id": "external-expression",
   "metadata": {},
   "outputs": [],
   "source": [
    "%load_ext autoreload\n",
    "%autoreload 2"
   ]
  },
  {
   "cell_type": "code",
   "execution_count": null,
   "id": "communist-burton",
   "metadata": {},
   "outputs": [],
   "source": [
    "# imports correct environment\n",
    "from aiida import load_profile\n",
    "load_profile()\n",
    "\n",
    "# imports load_node() \n",
    "from aiida.orm import load_node\n",
    "from pprint import pprint"
   ]
  },
  {
   "cell_type": "markdown",
   "id": "clear-constraint",
   "metadata": {},
   "source": [
    "## Is Python a problem for you? Not anymore!"
   ]
  },
  {
   "cell_type": "markdown",
   "id": "sticky-royalty",
   "metadata": {},
   "source": [
    "Three things that you should know before starting the tutorial:\n",
    "\n",
    "1. This is a Python dictionary, a data type which one could also call as a 'named array'"
   ]
  },
  {
   "cell_type": "code",
   "execution_count": null,
   "id": "announced-magazine",
   "metadata": {},
   "outputs": [],
   "source": [
    "weights = {'rabbit': 2, 'elephant': 4000}\n",
    "print(weights['rabbit'])"
   ]
  },
  {
   "cell_type": "markdown",
   "id": "immune-evidence",
   "metadata": {},
   "source": [
    "2. One can unwrap a dictionary (or similar data types) to pass parameters to a function:"
   ]
  },
  {
   "cell_type": "code",
   "execution_count": null,
   "id": "turned-church",
   "metadata": {},
   "outputs": [],
   "source": [
    "def compare_weights(rabbit, elephant):\n",
    "    '''\n",
    "    This function requires 2 parameters called 'rabbit' and 'elephant'\n",
    "    '''\n",
    "    if rabbit >= elephant:\n",
    "        print('I have seen neither so huge rabbit nor so tiny elephant!')\n",
    "    else:\n",
    "        print('The elephant is {} times heavier than the rabbit'.format(elephant/rabbit))"
   ]
  },
  {
   "cell_type": "markdown",
   "id": "considerable-ethernet",
   "metadata": {},
   "source": [
    "We can call this function either with:"
   ]
  },
  {
   "cell_type": "code",
   "execution_count": null,
   "id": "mediterranean-immigration",
   "metadata": {},
   "outputs": [],
   "source": [
    "compare_weights(weights['rabbit'], weights['elephant'])"
   ]
  },
  {
   "cell_type": "markdown",
   "id": "minimal-ordering",
   "metadata": {},
   "source": [
    "or"
   ]
  },
  {
   "cell_type": "code",
   "execution_count": null,
   "id": "strong-conflict",
   "metadata": {},
   "outputs": [],
   "source": [
    "compare_weights(elephant=weights['elephant'], rabbit=weights['rabbit']) "
   ]
  },
  {
   "cell_type": "markdown",
   "id": "imperial-registrar",
   "metadata": {},
   "source": [
    "or"
   ]
  },
  {
   "cell_type": "code",
   "execution_count": null,
   "id": "hazardous-surge",
   "metadata": {},
   "outputs": [],
   "source": [
    "compare_weights(**weights)"
   ]
  },
  {
   "cell_type": "markdown",
   "id": "young-christian",
   "metadata": {},
   "source": [
    "Later on, you will see that this calling functions/methods pattern is repeated in the tutorial notebook. Example: `submit(FleurScfWorkChain, **inputs)`"
   ]
  },
  {
   "cell_type": "markdown",
   "id": "characteristic-ground",
   "metadata": {},
   "source": [
    "3. Loops"
   ]
  },
  {
   "cell_type": "code",
   "execution_count": null,
   "id": "acknowledged-officer",
   "metadata": {},
   "outputs": [],
   "source": [
    "zoo = ['rabbit', 'elephant', 'whale', 'bear']"
   ]
  },
  {
   "cell_type": "code",
   "execution_count": null,
   "id": "quiet-radical",
   "metadata": {},
   "outputs": [],
   "source": [
    "for animal in zoo:\n",
    "    if animal == 'elephant':\n",
    "        print('Today I have seen an {}.'.format(animal))\n",
    "    else:\n",
    "        print('Today I have seen a {}.'.format(animal))"
   ]
  },
  {
   "cell_type": "markdown",
   "id": "material-grammar",
   "metadata": {},
   "source": [
    "## Command line "
   ]
  },
  {
   "cell_type": "markdown",
   "id": "reported-vintage",
   "metadata": {},
   "source": [
    "One can execute bash commands directly in the notebook:"
   ]
  },
  {
   "cell_type": "code",
   "execution_count": null,
   "id": "sensitive-coalition",
   "metadata": {},
   "outputs": [],
   "source": [
    "!ls"
   ]
  },
  {
   "cell_type": "markdown",
   "id": "interior-defeat",
   "metadata": {},
   "source": [
    "As an option, you can also open a separate terminal window and execute the command there."
   ]
  },
  {
   "cell_type": "markdown",
   "id": "diverse-oxide",
   "metadata": {},
   "source": [
    "## Two types of tasks"
   ]
  },
  {
   "cell_type": "markdown",
   "id": "subsequent-amendment",
   "metadata": {},
   "source": [
    "### Inline tasks"
   ]
  },
  {
   "cell_type": "markdown",
   "id": "impaired-google",
   "metadata": {},
   "source": [
    "For some cells you need to fill missing parameters to continue the tutorial. For instance,"
   ]
  },
  {
   "cell_type": "code",
   "execution_count": null,
   "id": "turned-majority",
   "metadata": {},
   "outputs": [],
   "source": [
    "!verdi node show <pk> # you should replace <pk> by a valid parameter"
   ]
  },
  {
   "cell_type": "markdown",
   "id": "circular-negative",
   "metadata": {},
   "source": [
    "Solution:"
   ]
  },
  {
   "cell_type": "code",
   "execution_count": null,
   "id": "impaired-behalf",
   "metadata": {},
   "outputs": [],
   "source": [
    "!verdi node show 2"
   ]
  },
  {
   "cell_type": "markdown",
   "id": "peripheral-express",
   "metadata": {},
   "source": [
    "### Scripting tasks at the end of each notebook"
   ]
  },
  {
   "cell_type": "markdown",
   "id": "norwegian-lewis",
   "metadata": {},
   "source": [
    "As a more challenging task we propose you to write your own script. Scripting tasks for part 1 can be done directly the corresponding notebook. Let us have a look."
   ]
  },
  {
   "cell_type": "markdown",
   "id": "multiple-talent",
   "metadata": {},
   "source": [
    "Parts 5 and 6 even more challanging: you will have to write a separate script staring from the provided template.  Let us have a look."
   ]
  },
  {
   "cell_type": "markdown",
   "id": "together-video",
   "metadata": {},
   "source": [
    "## Stuck? Do not hesitate to ask for help!"
   ]
  },
  {
   "cell_type": "markdown",
   "id": "blocked-syndication",
   "metadata": {},
   "source": [
    "# Good luck!"
   ]
  }
 ],
 "metadata": {
  "kernelspec": {
   "display_name": "Python 3",
   "language": "python",
   "name": "python3"
  },
  "language_info": {
   "codemirror_mode": {
    "name": "ipython",
    "version": 3
   },
   "file_extension": ".py",
   "mimetype": "text/x-python",
   "name": "python",
   "nbconvert_exporter": "python",
   "pygments_lexer": "ipython3",
   "version": "3.8.8"
  },
  "toc-showtags": false
 },
 "nbformat": 4,
 "nbformat_minor": 5
}
