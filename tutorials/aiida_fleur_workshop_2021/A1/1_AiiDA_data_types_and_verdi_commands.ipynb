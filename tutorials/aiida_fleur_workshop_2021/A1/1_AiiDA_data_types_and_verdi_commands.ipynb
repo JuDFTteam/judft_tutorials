{
  "cells": [
    {
      "cell_type": "markdown",
      "source": [
        "*You can execute the active code cell's by pressing Ctrl+Enter*"
      ],
      "metadata": {}
    },
    {
      "cell_type": "code",
      "source": [
        "%load_ext autoreload\n",
        "%autoreload 2"
      ],
      "outputs": [],
      "execution_count": null,
      "metadata": {}
    },
    {
      "cell_type": "code",
      "source": [
        "# Load your aiida profile\n",
        "from aiida import load_profile\n",
        "\n",
        "load_profile();"
      ],
      "outputs": [],
      "execution_count": null,
      "metadata": {}
    },
    {
      "cell_type": "markdown",
      "source": [
        "# Introduction to AiiDA"
      ],
      "metadata": {}
    },
    {
      "cell_type": "markdown",
      "source": [
        "**Note**: All commands starting with an `!` are bash commands. Python notebooks provide this handy way of running shell/bash commands inside a python environment. \n",
        "\n",
        "*Also read through the comments*"
      ],
      "metadata": {}
    },
    {
      "cell_type": "code",
      "source": [
        "# example\n",
        "!ls"
      ],
      "outputs": [],
      "execution_count": null,
      "metadata": {}
    },
    {
      "cell_type": "markdown",
      "source": [
        "## Verdi Commands"
      ],
      "metadata": {}
    },
    {
      "cell_type": "markdown",
      "source": [
        "In this part of the tutorial, you will learn the basics about the AiiDA framework and get familiar with some useful `verdi` commands.\n",
        "\n",
        "The command-line utility `verdi` is one of the most common ways to interact with AiiDA. `verdi` and its subcommands enable a variety of operations such as inspecting the status of ongoing or terminated calculations, showing calculations details, computers, codes or data structures, accessing inputs and outputs of a calculation, etc. \n",
        "\n",
        "Similar to the bash shell, verdi command support Tab completion. Try right now to type verdi in a terminal of the AiiDA container and tap Tab twice to have a list of subcommands. **Whenever you need an explanation of a command, type verdi help or add `-h` flag if you are using any of the verdi subcommands**."
      ],
      "metadata": {}
    },
    {
      "cell_type": "code",
      "source": [
        "# Get info\n",
        "!verdi computer -h"
      ],
      "outputs": [],
      "execution_count": null,
      "metadata": {}
    },
    {
      "cell_type": "code",
      "source": [
        "# Check if everything needed for AiiDA is available and running\n",
        "!verdi status"
      ],
      "outputs": [],
      "execution_count": null,
      "metadata": {}
    },
    {
      "cell_type": "code",
      "source": [
        "# The daemon details\n",
        "!verdi daemon status"
      ],
      "outputs": [],
      "execution_count": null,
      "metadata": {}
    },
    {
      "cell_type": "markdown",
      "source": [
        "### Looking for calculations"
      ],
      "metadata": {}
    },
    {
      "cell_type": "markdown",
      "source": [
        "We have prepared some data in the database for this part. In the later tutorials, you will learn to create such data using AiiDA-fleur. "
      ],
      "metadata": {}
    },
    {
      "cell_type": "code",
      "source": [
        "# First we will import a prepared dataset for this tutorial with some structures and simulations\n",
        "!verdi archive import ~/Day3/files/fleur_tutorial_data.aiida"
      ],
      "outputs": [],
      "execution_count": null,
      "metadata": {}
    },
    {
      "cell_type": "code",
      "source": [
        "# List all calculations currently running\n",
        "!verdi process list"
      ],
      "outputs": [],
      "execution_count": null,
      "metadata": {}
    },
    {
      "cell_type": "markdown",
      "source": [
        "Since you do not have any running processes, the previous command should yield old or no calculations. To print out all calculations stored in the database use the following:"
      ],
      "metadata": {}
    },
    {
      "cell_type": "code",
      "source": [
        "# List all calculations in the Postgres database\n",
        "!verdi process list -a"
      ],
      "outputs": [],
      "execution_count": null,
      "metadata": {}
    },
    {
      "cell_type": "markdown",
      "source": [
        "You must have noticed a column named `PK`. This is the **Primary Key** by which a particular node can be referenced. \n",
        "One can also reference a node by `UUID` (unique identifier) that is rather long and not so user-friendly. In most of the cases it is more convinient to use `PK` because it is shorter and easier to remember. However, `PK` is not preserved when one imports/exports data to/from the database. In contrast, `UUID` always remains the same. Let us have a look how to work with `PK` and `UUID`."
      ],
      "metadata": {}
    },
    {
      "cell_type": "markdown",
      "source": [
        "First, let us print more detailed information on the stored processes. This time we also print out the `UUID` column:"
      ],
      "metadata": {}
    },
    {
      "cell_type": "code",
      "source": [
        "# You can filter for different attributes of process via the '-P/--project' option from the command.\n",
        "!verdi process list -a -P pk uuid ctime process_label process_state process_status label"
      ],
      "outputs": [],
      "execution_count": null,
      "metadata": {}
    },
    {
      "cell_type": "markdown",
      "source": [
        "Let's have look at an arbitrary FINISHED inpgen calculation in more detail, for example with `UUID = ad18bb81-0f77-4748-bc3d-763d33396598`. Let us print out general information. Which nodes went in? Which output nodes were produced?"
      ],
      "metadata": {}
    },
    {
      "cell_type": "code",
      "source": [
        "!verdi process show ad18bb81-0f77-4748-bc3d-763d33396598"
      ],
      "outputs": [],
      "execution_count": null,
      "metadata": {}
    },
    {
      "cell_type": "markdown",
      "source": [
        "We could get the same result using either a truncated version of the `UUID`:"
      ],
      "metadata": {}
    },
    {
      "cell_type": "code",
      "source": [
        "# this works because there is no such a node, which UUID starts with ad18bb\n",
        "!verdi process show ad18bb"
      ],
      "outputs": [],
      "execution_count": null,
      "metadata": {}
    },
    {
      "cell_type": "markdown",
      "source": [
        "or a `PK`"
      ],
      "metadata": {}
    },
    {
      "cell_type": "code",
      "source": [
        "# Here you should insert a valid PK belonging the the node with UUID=ad18bb81-0f77-4748-bc3d-763d33396598\n",
        "!verdi process show <pk>"
      ],
      "outputs": [],
      "execution_count": null,
      "metadata": {}
    },
    {
      "cell_type": "markdown",
      "source": [
        "The input file for inpgen for this calculation (with default parameters)"
      ],
      "metadata": {}
    },
    {
      "cell_type": "code",
      "source": [
        "!verdi calcjob inputcat ad18bb"
      ],
      "outputs": [],
      "execution_count": null,
      "metadata": {}
    },
    {
      "cell_type": "markdown",
      "source": [
        "Find the `PK` of a `FleurCalculation` node and check the convergence using the following command"
      ],
      "metadata": {}
    },
    {
      "cell_type": "code",
      "source": [
        "# grep for the distance of that calculation in the out.xml file (you can replace the uuid with some other pk )\n",
        "!verdi calcjob outputcat f6d6818 | grep distance"
      ],
      "outputs": [],
      "execution_count": null,
      "metadata": {}
    },
    {
      "cell_type": "markdown",
      "source": [
        "Look at the files retrieved from the remote computer/cluster, we store the last charge density (cdn_last.hdf) too, this way any calculation can be continued from what we have 'locally' in the repository"
      ],
      "metadata": {}
    },
    {
      "cell_type": "code",
      "source": [
        "!verdi calcjob outputls f6d6818"
      ],
      "outputs": [],
      "execution_count": null,
      "metadata": {}
    },
    {
      "cell_type": "markdown",
      "source": [
        "### Codes and computers"
      ],
      "metadata": {}
    },
    {
      "cell_type": "markdown",
      "source": [
        "A code represents (in the database) the actual executable used to run the calculation."
      ],
      "metadata": {}
    },
    {
      "cell_type": "markdown",
      "source": [
        "The command prints information on the plugin used to interface the code to AiiDA, the remote machine on which the code is executed, the path of its executable, etc. To have a list of all available codes type"
      ],
      "metadata": {}
    },
    {
      "cell_type": "code",
      "source": [
        "!verdi code list "
      ],
      "outputs": [],
      "execution_count": null,
      "metadata": {}
    },
    {
      "cell_type": "markdown",
      "source": [
        " Find the `pk` of such a node in the graph and type"
      ],
      "metadata": {}
    },
    {
      "cell_type": "code",
      "source": [
        "!verdi code show fleur@localhost"
      ],
      "outputs": [],
      "execution_count": null,
      "metadata": {}
    },
    {
      "cell_type": "markdown",
      "source": [
        "Similarly, the list of computers on which AiiDA can submit calculations is accessible by means of the command"
      ],
      "metadata": {}
    },
    {
      "cell_type": "code",
      "source": [
        "!verdi computer list"
      ],
      "outputs": [],
      "execution_count": null,
      "metadata": {}
    },
    {
      "cell_type": "markdown",
      "source": [
        "`-a` shows all computers, also the one imported in your database but that you did not configure, i.e., to which you\n",
        "don’t have access). Details about each computer can be obtained by the comma"
      ],
      "metadata": {}
    },
    {
      "cell_type": "code",
      "source": [
        "!verdi computer show localhost"
      ],
      "outputs": [],
      "execution_count": null,
      "metadata": {}
    },
    {
      "cell_type": "markdown",
      "source": [
        "For a list of all the `verdi` commands check the [AiiDA documentation](https://aiida-core.readthedocs.io/en/latest/working_with_aiida/index.html)"
      ],
      "metadata": {}
    },
    {
      "cell_type": "markdown",
      "source": [
        "## AiiDA data types\n",
        "\n",
        "There are a number of data types distributed with AiiDA. We summarize here the most common, and some useful features/functionalities to work with them."
      ],
      "metadata": {}
    },
    {
      "cell_type": "markdown",
      "source": [
        "### Most common datatypes\n",
        "\n",
        "\n",
        "Here follows a short summary of common datatypes provided in AiiDA. This list is not\n",
        "complete, you can look into the module `aiida.orm.nodes.data` to find the list of all available plugins."
      ],
      "metadata": {}
    },
    {
      "cell_type": "markdown",
      "source": [
        "**NOTE**: To inspect, create and manage data nodes use the `verdi` command `verdi data`"
      ],
      "metadata": {}
    },
    {
      "cell_type": "markdown",
      "source": [
        "### Base types\n",
        "\n",
        "In addition to the base datatypes such as `Int`, `Float`, `Str`, etc,. AiiDA also provides datatypes such as `Dict`, `StructureData`, `RemoteData`, etc. Uses and examples of these datatypes are illustrated in this notebook.\n",
        "\n",
        "**The different datatypes can be accessed through the `DataFactory()` function by passing an entry point to it as an argument** (you will see them in the examples used in this notebook).\n",
        "\n",
        "A list of all the data entry points can be obtain running the command ``verdi plugin list aiida.data``."
      ],
      "metadata": {}
    },
    {
      "cell_type": "markdown",
      "source": [
        "#### Dict\n",
        "`Dict` type is used to store a dictionary of python base types in the database.\n",
        "It can store any dictionary where elements can be a base python type (strings, floats,\n",
        "integers, booleans, None type, datetime objects, etc.) and lists or dictionaries of them, at\n",
        "any depth level (e.g. a dictionary where a value is a list of dictionaries of\n",
        "strings and floats).\n",
        "  "
      ],
      "metadata": {}
    },
    {
      "cell_type": "code",
      "source": [
        "from aiida.orm import Dict\n",
        "\n",
        "options=Dict(dict={\n",
        "    'resources'  : {\"num_machines\": 1},\n",
        "    'max_wallclock_seconds':  60*60,\n",
        "})"
      ],
      "outputs": [],
      "execution_count": null,
      "metadata": {}
    },
    {
      "cell_type": "markdown",
      "source": [
        "You can access all the methods associated with the options object using the `dot` operator (`options.<tab>`).\n",
        "\n",
        "you can also read the documentation associated with any object using `?`. Run the following cell to see it in action"
      ],
      "metadata": {}
    },
    {
      "cell_type": "code",
      "source": [
        "options.get_dict?"
      ],
      "outputs": [],
      "execution_count": null,
      "metadata": {}
    },
    {
      "cell_type": "code",
      "source": [
        "print(options.get_dict())"
      ],
      "outputs": [],
      "execution_count": null,
      "metadata": {}
    },
    {
      "cell_type": "markdown",
      "source": [
        "Aiida created a database storable dictionary for us. It is not stored in the database yet, for that we use the following method."
      ],
      "metadata": {}
    },
    {
      "cell_type": "code",
      "source": [
        "options.store()"
      ],
      "outputs": [],
      "execution_count": null,
      "metadata": {}
    },
    {
      "cell_type": "markdown",
      "source": [
        "This object is stored in the database and we can use `PK` to refer to this object from now on."
      ],
      "metadata": {}
    },
    {
      "cell_type": "code",
      "source": [
        "!verdi data dict show <pk>"
      ],
      "outputs": [],
      "execution_count": null,
      "metadata": {}
    },
    {
      "cell_type": "markdown",
      "source": [
        "#### StructureData\n",
        "\n",
        "To create and store a crystal structure to be used by atomistic codes"
      ],
      "metadata": {}
    },
    {
      "cell_type": "code",
      "source": [
        "from aiida.plugins import DataFactory\n",
        "\n",
        "StructureData = DataFactory('structure')\n",
        "\n",
        "alat = 5.4 #angstrom\n",
        "cell = [[alat/2, alat/2, 0.],\n",
        "        [alat/2, 0., alat/2],\n",
        "        [0., alat/2, alat/2],\n",
        "       ]\n",
        "\n",
        "s = StructureData(cell=cell)\n",
        "s.append_atom(position=(0.,0.,0.), symbols='Si')\n",
        "s.append_atom(position=(alat/4.,alat/4.,alat/4.),symbols=\"Si\")"
      ],
      "outputs": [],
      "execution_count": null,
      "metadata": {}
    },
    {
      "cell_type": "markdown",
      "source": [
        "You can access and inspect the structure sites with the command"
      ],
      "metadata": {}
    },
    {
      "cell_type": "code",
      "source": [
        "s.sites"
      ],
      "outputs": [],
      "execution_count": null,
      "metadata": {}
    },
    {
      "cell_type": "markdown",
      "source": [
        "If you make a mistake, start over from `structure = StructureData(cell=the_cell)`, or equivalently use\n",
        "`s.clear_kinds()` to remove all kinds (atomic species) and sites. Once you are done with it store the StructureData to the database."
      ],
      "metadata": {}
    },
    {
      "cell_type": "code",
      "source": [
        "s.store()"
      ],
      "outputs": [],
      "execution_count": null,
      "metadata": {}
    },
    {
      "cell_type": "markdown",
      "source": [
        "Use the `pk` method to see the `PK` of this StructureData"
      ],
      "metadata": {}
    },
    {
      "cell_type": "code",
      "source": [
        "s.pk"
      ],
      "outputs": [],
      "execution_count": null,
      "metadata": {}
    },
    {
      "cell_type": "markdown",
      "source": [
        "Alternatively, AiiDA structures can also be converted directly from ASE structures using"
      ],
      "metadata": {}
    },
    {
      "cell_type": "code",
      "source": [
        "from ase.spacegroup import crystal\n",
        "\n",
        "ase_structure = crystal('Si', \n",
        "                        [(0,0,0)], \n",
        "                        spacegroup=227,\n",
        "                        cellpar=[alat, alat, alat, 90, 90, 90],\n",
        "                        primitive_cell=True,\n",
        "                       )\n",
        "structure=StructureData(ase=ase_structure)"
      ],
      "outputs": [],
      "execution_count": null,
      "metadata": {}
    },
    {
      "cell_type": "code",
      "source": [
        "structure.store()"
      ],
      "outputs": [],
      "execution_count": null,
      "metadata": {}
    },
    {
      "cell_type": "markdown",
      "source": [
        "A structure can also be read from a cif file"
      ],
      "metadata": {}
    },
    {
      "cell_type": "code",
      "source": [
        "# replace the '/path/to/cif_file'\n",
        "# you can find a few .cif files in '../files/'\n",
        "!verdi data structure import ase \"/path/to/cif_file\""
      ],
      "outputs": [],
      "execution_count": null,
      "metadata": {}
    },
    {
      "cell_type": "markdown",
      "source": [
        "#### FolderData\n",
        "\n",
        "The FolderData is used to represent a set of files/folders (with possibly a folder/subfolder structure) in the database."
      ],
      "metadata": {}
    },
    {
      "cell_type": "markdown",
      "source": [
        "#### RemoteData\n",
        "\n",
        "This basically represents a \"symbolic link\" to a specific folder on\n",
        "  a remote computer.\n",
        "  Its main use is to allow users to persist the provenance when e.g. a calculation\n",
        "  produces data in a raw/scratch folder, and the whole folder needs to be provided\n",
        "  to restart/continue."
      ],
      "metadata": {}
    },
    {
      "cell_type": "markdown",
      "source": [
        "Note: There are many more derived datatypes available in AiiDA, for a full list see the [AiiDA Documentation](https://aiida-core.readthedocs.io/en/latest/datatypes/index.html)"
      ],
      "metadata": {}
    },
    {
      "cell_type": "markdown",
      "source": [
        "### Code\n",
        "\n",
        "A code represents (in the database) the actual executable used to run the calculation. \n",
        "Note that in AiiDA the object `Code` in the database is meant to represent a specific executable, i.e. a given compiled version of a code. Every calculation in AiiDA is linked to a code, installed on a specific computer. This means that if you install `fleur` and `inpgen` on two computers A and B, you will need to have two different `codes` in the database (although the source of the code is the same, the binary file is different)."
      ],
      "metadata": {}
    },
    {
      "cell_type": "markdown",
      "source": [
        "Modify the following code cell using the information gathered in the <a href=\"#Codes-and-computers\">Codes and computers</a> section"
      ],
      "metadata": {}
    },
    {
      "cell_type": "code",
      "source": [
        "codename = 'fleur@localhost'\n",
        "from aiida.orm import Code\n",
        "code = Code.get_from_string(codename)"
      ],
      "outputs": [],
      "execution_count": null,
      "metadata": {}
    },
    {
      "cell_type": "markdown",
      "source": [
        "## Task"
      ],
      "metadata": {}
    },
    {
      "cell_type": "markdown",
      "source": [
        "1. Create and store `StructureData` for FCC `Fe`. *Hint*: The period length of FCC iron is about 3.645 Å."
      ],
      "metadata": {}
    },
    {
      "cell_type": "code",
      "source": [],
      "outputs": [],
      "execution_count": null,
      "metadata": {}
    },
    {
      "cell_type": "code",
      "source": [],
      "outputs": [],
      "execution_count": null,
      "metadata": {}
    }
  ],
  "metadata": {
    "@webio": {
      "lastCommId": null,
      "lastKernelId": null
    },
    "kernel_info": {
      "name": "python2"
    },
    "kernelspec": {
      "display_name": "Python 3",
      "language": "python",
      "name": "python3"
    },
    "language_info": {
      "codemirror_mode": {
        "name": "ipython",
        "version": 3
      },
      "file_extension": ".py",
      "mimetype": "text/x-python",
      "name": "python",
      "nbconvert_exporter": "python",
      "pygments_lexer": "ipython3",
      "version": "3.8.8"
    },
    "nteract": {
      "version": "0.28.0"
    },
    "toc": {
      "toc_position": {},
      "skip_h1_title": false,
      "number_sections": false,
      "title_cell": "Table of Contents",
      "toc_window_display": false,
      "base_numbering": 1,
      "toc_section_display": true,
      "title_sidebar": "Contents",
      "toc_cell": false,
      "nav_menu": {},
      "sideBar": true
    }
  },
  "nbformat": 4,
  "nbformat_minor": 4
}