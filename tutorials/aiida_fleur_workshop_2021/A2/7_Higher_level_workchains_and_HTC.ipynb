{
 "cells": [
  {
   "cell_type": "markdown",
   "id": "junior-annual",
   "metadata": {},
   "source": [
    "*please execute the cell below before starting the tutorial by selecting the cell and pressing Ctrl+Enter*"
   ]
  },
  {
   "cell_type": "code",
   "execution_count": null,
   "id": "given-tutorial",
   "metadata": {},
   "outputs": [],
   "source": [
    "%load_ext autoreload\n",
    "%autoreload 2"
   ]
  },
  {
   "cell_type": "code",
   "execution_count": null,
   "id": "atmospheric-greene",
   "metadata": {},
   "outputs": [],
   "source": [
    "from aiida import load_profile\n",
    "load_profile()\n",
    "\n",
    "from aiida.orm import Dict, load_node, load_code\n",
    "from aiida.engine import submit\n",
    "from IPython.display import IFrame\n",
    "from pprint import pprint\n",
    "from aiida_fleur.tools.plot.fleur import plot_fleur\n",
    "from aiida_fleur.workflows.base_relax import FleurBaseRelaxWorkChain\n",
    "from aiida_fleur.workflows.eos import FleurEosWorkChain\n",
    "from aiida_fleur.workflows.mae import FleurMaeWorkChain\n",
    "from aiida_fleur.workflows.ssdisp import FleurSSDispWorkChain\n",
    "from aiida_fleur.workflows.create_magnetic_film import FleurCreateMagneticWorkChain\n",
    "from aiida_fleur.workflows.corehole import fleur_corehole_wc\n",
    "from aiida_fleur.workflows.initial_cls import fleur_initial_cls_wc"
   ]
  },
  {
   "cell_type": "code",
   "execution_count": null,
   "id": "worth-literacy",
   "metadata": {},
   "outputs": [],
   "source": [
    "# First we will import a prepared dataset for this tutorial with some structures and simulations\n",
    "# If this was already executed, it will add nothing to the database\n",
    "!verdi archive import ~/Day3/files/fleur_tutorial_data.aiida"
   ]
  },
  {
   "cell_type": "markdown",
   "id": "equipped-dependence",
   "metadata": {},
   "source": [
    "# Higher-level workchains"
   ]
  },
  {
   "cell_type": "markdown",
   "id": "loving-hardwood",
   "metadata": {},
   "source": [
    "> **Disclaimer**: This tutorial includes multiple higher level workchains, which will launch multiple fleur jobs, be careful \n",
    ">            not to run multiple of the higher workchains and not with expensive inputs (large cutoffs etc.) at once to not overload the docker container"
   ]
  },
  {
   "cell_type": "markdown",
   "id": "square-choice",
   "metadata": {},
   "source": [
    "Now - finally - we will see the real power of the workchains. We are going to launch a relaxation workchain relaxing a the atoms in a given crystal structure. An equation of state workchain calculating the bulk modulus. \n",
    "And in the end we are going to use two higher-level workchains for Magnetic Anisotropy Energy (MAE) and Spin Spiral Dispersion (SSDisp) calculations. There are two types of MAE and SSDisp workchains: force-theorem and convergence workchains. In this tutorial we will use force-theorem workchains only that first submits a single SCF workchain to obtain the reference charge density and later submits a single `FleurCalculation` task to run the force theorem step."
   ]
  },
  {
   "cell_type": "code",
   "execution_count": null,
   "id": "interior-bracelet",
   "metadata": {},
   "outputs": [],
   "source": [
    "fleur_code = load_code('fleur@localhost')\n",
    "inpgen_code = load_code('inpgen@localhost')"
   ]
  },
  {
   "cell_type": "code",
   "execution_count": null,
   "id": "dramatic-anderson",
   "metadata": {},
   "outputs": [],
   "source": [
    "options = Dict(dict={'resources' : {\"num_machines\": 1, \"num_mpiprocs_per_machine\" : 2},\n",
    "                     'queue_name' : '',\n",
    "                     'withmpi' : True,\n",
    "                     'max_wallclock_seconds' : 600})\n",
    "\n",
    "options.store()"
   ]
  },
  {
   "cell_type": "markdown",
   "id": "large-video",
   "metadata": {},
   "source": [
    "# The Relax workchain"
   ]
  },
  {
   "cell_type": "markdown",
   "id": "utility-cycle",
   "metadata": {},
   "source": [
    "The FleurRelaxWorkChain relaxes the atomic positions of a crystal structure. It is called by the FleurBaseRelaxWorkChain, which handles some errors of the FleurRelaxWorkChain. Therefore, you usually want to run the FleurBaseRelaxWorkChain.\n",
    "For more information see the [Documentation on the relaxation workchains](https://aiida-fleur.readthedocs.io/en/latest/user_guide/workflows/relax_wc.html)"
   ]
  },
  {
   "cell_type": "code",
   "execution_count": null,
   "id": "surprised-blood",
   "metadata": {},
   "outputs": [],
   "source": [
    "structure = load_node(Struc_PK)"
   ]
  },
  {
   "cell_type": "code",
   "execution_count": null,
   "id": "removed-hammer",
   "metadata": {},
   "outputs": [],
   "source": [
    "inputs = {'scf': {\n",
    "                  #'wf_parameters': wf_para_scf,   # use defaults\n",
    "                  #'calc_parameters': parameters,  # use fleur defaults\n",
    "                  'options': options,\n",
    "                  'inpgen': inpgen_code,\n",
    "                  'fleur': fleur_code,\n",
    "                  'structure': structure\n",
    "                 },\n",
    "          #'final_scf': {                          # We do not run one\n",
    "                        #'calc_parameters': parameters,\n",
    "          #},                        \n",
    "          #'wf_parameters': wf_para,               # use defaults\n",
    "}"
   ]
  },
  {
   "cell_type": "code",
   "execution_count": null,
   "id": "alike-figure",
   "metadata": {},
   "outputs": [],
   "source": [
    "Relax_workchain = submit(FleurBaseRelaxWorkChain, **inputs)\n",
    "print('Submitted Relax workchain pk={}'.format(Relax_workchain.pk))"
   ]
  },
  {
   "cell_type": "markdown",
   "id": "civilian-consent",
   "metadata": {},
   "source": [
    "Check on the workchain, and if it is finished you can continue"
   ]
  },
  {
   "cell_type": "code",
   "execution_count": null,
   "id": "universal-valley",
   "metadata": {},
   "outputs": [],
   "source": [
    "relax = load_node(Relax_workchain.pk)\n",
    "pprint(relax.outputs.output_relax_wc_para.get_dict())"
   ]
  },
  {
   "cell_type": "code",
   "execution_count": null,
   "id": "negative-marijuana",
   "metadata": {},
   "outputs": [],
   "source": [
    "# To view the provenance graph of the workchain\n",
    "!verdi node graph generate $Relax_workchain.pk"
   ]
  },
  {
   "cell_type": "code",
   "execution_count": null,
   "id": "narrative-musician",
   "metadata": {},
   "outputs": [],
   "source": [
    "IFrame('./' + str(Relax_workchain.pk) + '.dot.pdf', width=800, height=500)"
   ]
  },
  {
   "cell_type": "markdown",
   "id": "compatible-touch",
   "metadata": {},
   "source": [
    "# Equation of states WorkChain"
   ]
  },
  {
   "cell_type": "markdown",
   "id": "environmental-olympus",
   "metadata": {},
   "source": [
    "The FleurEosWorkChain calculation an equation of state by scaling the cell and running an SCF workchain on all scalings, while keeping the flapw parameters the same. In the end it performs a Birch–Murnaghan equation of state fit, and returns the results which contains among other quantities the bulk modulus. So far this is only correct for cubic systems, which are relaxed.\n",
    "Also see the documentation on the [EOS workchain](https://aiida-fleur.readthedocs.io/en/latest/user_guide/workflows/eos_wc.html)\n",
    "\n",
    "The 'right' way to do this would be to run a full constant volume cell and atoms relaxation for each scaled volume."
   ]
  },
  {
   "cell_type": "code",
   "execution_count": null,
   "id": "religious-minute",
   "metadata": {},
   "outputs": [],
   "source": [
    "structure = load_node(Struc_PK)"
   ]
  },
  {
   "cell_type": "code",
   "execution_count": null,
   "id": "lucky-department",
   "metadata": {},
   "outputs": [],
   "source": [
    "inputs = {'scf': {\n",
    "                  #'wf_parameters': wf_para_scf,   # use defaults\n",
    "                  #'calc_parameters': parameters,  # fleur defaults of lowest scaling\n",
    "                  'options': options,\n",
    "                  'inpgen': inpgen_code,\n",
    "                  'fleur': fleur_code\n",
    "                 },\n",
    "          #'wf_parameters': wf_para,               # default is 9 points\n",
    "          'structure': structure\n",
    "}"
   ]
  },
  {
   "cell_type": "code",
   "execution_count": null,
   "id": "finite-parent",
   "metadata": {},
   "outputs": [],
   "source": [
    "EOS_workchain = submit(FleurEosWorkChain, **inputs)\n",
    "print('Submitted EOS workchain pk={}'.format(EOS_workchain.pk))"
   ]
  },
  {
   "cell_type": "markdown",
   "id": "experienced-nicholas",
   "metadata": {},
   "source": [
    "Check on the workchain, and if it is finished you can continue"
   ]
  },
  {
   "cell_type": "code",
   "execution_count": null,
   "id": "becoming-debut",
   "metadata": {},
   "outputs": [],
   "source": [
    "eos = load_node(EOS_workchain.pk)\n",
    "pprint(eos.outputs.output_eos_wc_para.get_dict())"
   ]
  },
  {
   "cell_type": "code",
   "execution_count": null,
   "id": "closing-climate",
   "metadata": {},
   "outputs": [],
   "source": [
    "a = plot_fleur(EOS_workchain.pk)"
   ]
  },
  {
   "cell_type": "markdown",
   "id": "interesting-colony",
   "metadata": {},
   "source": [
    "If the above does not look well, it means it is not converged, and you should better rerun with more kpoints\n",
    "and maybe specifing FLAPW parameters (calc_parameters) yourself instead of relying on the fleur defaults."
   ]
  },
  {
   "cell_type": "code",
   "execution_count": null,
   "id": "confident-pioneer",
   "metadata": {},
   "outputs": [],
   "source": [
    "# To view the provenance graph of the workchain\n",
    "!verdi node graph generate $EOS_workchain.pk"
   ]
  },
  {
   "cell_type": "code",
   "execution_count": null,
   "id": "innocent-doctor",
   "metadata": {},
   "outputs": [],
   "source": [
    "IFrame('./' + str(EOS_workchain.pk) + '.dot.pdf', width=800, height=500)"
   ]
  },
  {
   "cell_type": "markdown",
   "id": "south-memorial",
   "metadata": {},
   "source": [
    "# Magnetic anisotropy workchain "
   ]
  },
  {
   "cell_type": "markdown",
   "id": "equipped-saint",
   "metadata": {},
   "source": [
    "A table of possible inputs looks the same as for SCF:"
   ]
  },
  {
   "cell_type": "markdown",
   "id": "native-hypothesis",
   "metadata": {},
   "source": [
    "|name|type|description| required |\n",
    "|:---:|:---:|:---------:|:---:|\n",
    "|fleur | Code | Fleur code | yes |\n",
    "|inpgen | Code | Inpgen code| no |\n",
    "|wf_parameters | Dict | Settings of the workchain| no |\n",
    "|structure | StructureData | Structure data node| no |\n",
    "|calc_parameters | Dict | FLAPW parameters, used by inpgen| no |\n",
    "|fleurinp | FleurinpData | FLEUR input files| no |\n",
    "|remote_data | RemoteData | Remote folder to find cdn1| no |\n",
    "|options | Dict | AiiDA options (computational resources)| no |"
   ]
  },
  {
   "cell_type": "markdown",
   "id": "configured-mason",
   "metadata": {},
   "source": [
    "Again, there are a lot of optional inputs - however you *must* follow one of the supported input configurations. They are similar to the SCF workchain and I will not cover all of them here, let us just use the **fleur** + **inpgen** + **structure** mode. Let us also specify workchain parameters and computational resources."
   ]
  },
  {
   "cell_type": "code",
   "execution_count": null,
   "id": "conservative-winter",
   "metadata": {},
   "outputs": [],
   "source": [
    "wf_para = Dict(dict={'sqa_ref': [0.7, 0.7],                    # theta and phi for reference calculation\n",
    "                     'use_soc_ref': False,                     # True if switch on SOC terms for reference\n",
    "                     'sqas_theta': [0.0, 1.57079, 1.57079],    # a list of theta values to calculate via the FT\n",
    "                     'sqas_phi': [0.0, 0.0, 1.57079],          # a list of phi values to calculate via the FT\n",
    "                     'inpxml_changes': []                      # a list of inpxml changes to be done before submission\n",
    "                    })\n",
    "\n",
    "wf_para_scf = Dict(dict={'fleur_runmax': 10,                       # passed to SCF workchain\n",
    "                     'density_converged': 0.02,                # passed to SCF workchain\n",
    "                     'serial': False,                          # passed to SCF workchain\n",
    "                     'itmax_per_run': 30,                       # passed to SCF workchain)\n",
    "                   })"
   ]
  },
  {
   "cell_type": "code",
   "execution_count": null,
   "id": "advance-timber",
   "metadata": {},
   "outputs": [],
   "source": [
    "calc_parameters = Dict(dict={\n",
    "    'kpt': {\n",
    "        'div1': 4,\n",
    "        'div2' : 4,\n",
    "        'div3' : 1\n",
    "        }})"
   ]
  },
  {
   "cell_type": "code",
   "execution_count": null,
   "id": "informative-debate",
   "metadata": {},
   "outputs": [],
   "source": []
  },
  {
   "cell_type": "markdown",
   "id": "public-candle",
   "metadata": {},
   "source": [
    "In this section we want to be even more productive - let us define not a single structure but three of them! Import Fe, Co and Ni film structures that we created in tutorial 4:"
   ]
  },
  {
   "cell_type": "code",
   "execution_count": null,
   "id": "dress-heart",
   "metadata": {},
   "outputs": [],
   "source": [
    "fe_structure = load_node(xxx)\n",
    "co_structure = load_node(xxx)\n",
    "ni_structure = load_node(xxx)\n",
    "\n",
    "input_structures = [fe_structure, co_structure, ni_structure]"
   ]
  },
  {
   "cell_type": "markdown",
   "id": "divine-preserve",
   "metadata": {},
   "source": [
    "And calculate magnetic anisotropy energy for all of them:"
   ]
  },
  {
   "cell_type": "code",
   "execution_count": null,
   "id": "foster-sherman",
   "metadata": {},
   "outputs": [],
   "source": [
    "for structure in input_structures:\n",
    "    MAE_workchain = submit(FleurMaeWorkChain,\n",
    "                           fleur=fleur_code,\n",
    "                           scf={'fleur': fleur_code,\n",
    "                                'inpgen': inpgen_code,\n",
    "                                'calc_parameters': calc_parameters,\n",
    "                                'structure': structure,\n",
    "                                'wf_parameters': wf_para_scf},\n",
    "                           wf_parameters=wf_para)\n",
    "    print('Submitted Mae workchain pk={} for {} structure'.format(MAE_workchain.pk, structure.get_formula()))"
   ]
  },
  {
   "cell_type": "markdown",
   "id": "narrow-aspect",
   "metadata": {},
   "source": [
    "Again, you can check if it is finished via:"
   ]
  },
  {
   "cell_type": "code",
   "execution_count": null,
   "id": "oriental-timer",
   "metadata": {},
   "outputs": [],
   "source": [
    "# you need to modify this - replace MAE_PK\n",
    "!verdi process status MAE_PK\n",
    "# or\n",
    "#!verdi process list -a -p 1"
   ]
  },
  {
   "cell_type": "markdown",
   "id": "coordinated-holiday",
   "metadata": {},
   "source": [
    "Using you experience, can you access the output dictionaries and extract values of MAEs for all the structures?\n",
    "\n",
    "Now let us proceed to the final task - Spin spiral dispersion workchain."
   ]
  },
  {
   "cell_type": "markdown",
   "id": "separated-archive",
   "metadata": {},
   "source": [
    "# Scripting tasks"
   ]
  },
  {
   "cell_type": "markdown",
   "id": "maritime-progress",
   "metadata": {},
   "source": [
    "## Spin-spiral dispersion workchain"
   ]
  },
  {
   "cell_type": "markdown",
   "id": "changing-association",
   "metadata": {},
   "source": [
    "Spin spiral dispersion workchain has the same input nodes as MAE workchain. `wf_para` dictionary contains a different set of control keys:"
   ]
  },
  {
   "cell_type": "code",
   "execution_count": null,
   "id": "bright-composite",
   "metadata": {},
   "outputs": [],
   "source": [
    "wf_para = Dict(dict={'beta' : {'all' : 1.57079},            # sets beta angle for all atoms\n",
    "                     'q_vectors': [[0.0, 0.0, 0.0],         # set q-vectors to calculate\n",
    "                                   [0.125, 0.125, 0.0],     \n",
    "                                   [0.250, 0.250, 0.0],     \n",
    "                                   [0.375, 0.375, 0.0],     \n",
    "                                   [0.500, 0.500, 0.0]],     \n",
    "                     'ref_qss' : [0.0, 0.0, 0.0],            # sets a q-vector of the reference calc\n",
    "                     'inpxml_changes': []\n",
    "                    })\n",
    "\n",
    "wf_para_scf = Dict(dict={'fleur_runmax' : 3,                    # passed to SCF workchain\n",
    "                         'itmax_per_run' : 30,                  # passed to SCF workchain\n",
    "                         'density_converged' : 0.002,           # passed to SCF workchain\n",
    "                         'serial' : False,                      # passed to SCF workchain)\n",
    "                        })\n"
   ]
  },
  {
   "cell_type": "markdown",
   "id": "ready-hopkins",
   "metadata": {},
   "source": [
    "To import SSDisp workchain, run:\n",
    "\n",
    "```python\n",
    "    from aiida_fleur.workflows.ssdisp import FleurSSDispWorkChain\n",
    "```"
   ]
  },
  {
   "cell_type": "markdown",
   "id": "diagnostic-constitutional",
   "metadata": {},
   "source": [
    " This time we will cover another input configuration: `fleur + fleurinp`. We will use `FleurinpData` objects generated in section 4.\n",
    " \n",
    "In the final task, load three `FleurinpData` objects and run a `FleurSSDispWorkChain` for each of them. Use **wf_para** and **wf_para_scf** given above in the same way as in the `FleurMAEWorkchain`. Do you need to pass **calc_parameters** this time?\n",
    "\n",
    "Explore the outputs, extract spin spiral dispersion. Plot energy of a spin spiral as a function of a q-vector."
   ]
  },
  {
   "cell_type": "code",
   "execution_count": null,
   "id": "integrated-recording",
   "metadata": {},
   "outputs": [],
   "source": []
  }
 ],
 "metadata": {
  "kernelspec": {
   "display_name": "Python 3",
   "language": "python",
   "name": "python3"
  },
  "language_info": {
   "codemirror_mode": {
    "name": "ipython",
    "version": 3
   },
   "file_extension": ".py",
   "mimetype": "text/x-python",
   "name": "python",
   "nbconvert_exporter": "python",
   "pygments_lexer": "ipython3",
   "version": "3.8.8"
  }
 },
 "nbformat": 4,
 "nbformat_minor": 5
}
