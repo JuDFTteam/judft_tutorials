{
 "cells": [
  {
   "cell_type": "markdown",
   "metadata": {},
   "source": [
    "*please execute the cell below before starting the tutorial by selecting the cell and pressing Ctrl+Enter*"
   ]
  },
  {
   "cell_type": "code",
   "execution_count": null,
   "metadata": {},
   "outputs": [],
   "source": [
    "%load_ext autoreload\n",
    "%autoreload 2"
   ]
  },
  {
   "cell_type": "code",
   "execution_count": null,
   "metadata": {},
   "outputs": [],
   "source": [
    "from aiida import load_profile\n",
    "load_profile()\n",
    "\n",
    "from aiida.orm import Dict, load_node, load_code\n",
    "from aiida.engine import submit\n",
    "from aiida_fleur.tools.plot.fleur import plot_fleur\n",
    "from aiida_fleur.workflows.banddos import FleurBandDosWorkChain\n",
    "from IPython.display import IFrame\n"
   ]
  },
  {
   "cell_type": "code",
   "execution_count": null,
   "metadata": {},
   "outputs": [],
   "source": [
    "# First we will import a prepared dataset for this tutorial with some structures and simulations\n",
    "# If this was already executed, it will add nothing to the database\n",
    "!verdi archive import ~/Day3/files/fleur_tutorial_data.aiida"
   ]
  },
  {
   "cell_type": "markdown",
   "metadata": {},
   "source": [
    "# Workchains and high-throughput study"
   ]
  },
  {
   "cell_type": "markdown",
   "metadata": {},
   "source": [
    "In the next parts of the AiiDA-FLEUR tutorial, we will cover the main part of AiiDA - workchains. Advanced workchains are key-turn solutions for particular tasks such as finding equation of states or performing structure optimisation. The main goal of a workchain is to automatically perform a certain task keeping the history of all performed actions. The main advantage of using workchains is providing a low entering threshold for newcomers and routine tasks automatization for more advanced users. Also they allow for error handling and encoding expert knowledge. Calculations can be cached in AiiDA, to save computational resources, if one runs many similar simulations.\n",
    "\n",
    "In this part of the tutorial you will explore and learn how to work with AiiDA-Fleur workchains.\n",
    "\n",
    "Workchains are similar to `CalcJob`: basically they can be treated as a black box using user's input and producing the output. For example, the SCF workchain is an engine that produces self-consistent charge density (and other interesting parameters) for a given structure. Equation Of States (EOS) workchain calculates equation of states for a given structure and etc.\n",
    "\n",
    "<img src=\"../files/images/black_box.png\" width=\"1000\">\n",
    "\n",
    "The power of workchains is hidden behind their possible use in other workchains. Workchain A can be used in a workchain B, workchain C can use workchains A and B etc. Using smaller workchains as building blocks for a more complex algorithms, one can develop hierarchic structure of the task that AiiDA can perform."
   ]
  },
  {
   "cell_type": "markdown",
   "metadata": {},
   "source": [
    "## Workchain hierarchy "
   ]
  },
  {
   "cell_type": "markdown",
   "metadata": {},
   "source": [
    "The hierarchy of all implemented workchains in AiiDA-Fleur v1.3.0 is shown below. Black arrows mean the use of a workchain by another one. For instance, the geometry optimization workchain uses the SCF workchain inside it.\n",
    "It is clearly seen that every higher-level workchain uses the SCF workchain, and with that also the Fleur Base workchain, which error handels Fleur Calculations. These workchains are therefore in terms of robustness and flexibily very important.\n",
    "\n",
    "<img src=\"../files/images/workchains.png\" width=\"800\">\n"
   ]
  },
  {
   "cell_type": "markdown",
   "metadata": {
    "slideshow": {
     "slide_type": "slide"
    }
   },
   "source": [
    "In next section we will cover the central workchain of the AiiDA-FLEUR plugin: the SCF workchain."
   ]
  },
  {
   "cell_type": "markdown",
   "metadata": {},
   "source": [
    "# SCF WorkChain "
   ]
  },
  {
   "cell_type": "markdown",
   "metadata": {},
   "source": [
    "The SCF workchain is responsible for converging the charge density for a given structure. It submits a Fleur calculation several times until the convergence criterion or maximal number of Fleur submissions are reached."
   ]
  },
  {
   "cell_type": "markdown",
   "metadata": {},
   "source": [
    "### Inputs of the SCF WorkChain"
   ]
  },
  {
   "cell_type": "markdown",
   "metadata": {},
   "source": [
    "|name|type|description| required |\n",
    "|:---:|:---:|:---------:|:---:|\n",
    "|fleur | Code | Fleur code | yes |\n",
    "|inpgen | Code | Inpgen code| no |\n",
    "|wf_parameters | Dict | Settings of the workchain| no |\n",
    "|structure | StructureData | Structure data node| no |\n",
    "|calc_parameters | Dict | FLAPW parameters, used by inpgen| no |\n",
    "|fleurinp | FleurinpData | FLEUR input files| no |\n",
    "|remote_data | RemoteData | Remote folder of another calculation| no |\n",
    "|options | Dict | AiiDA options (computational resources)| no |\n",
    "|settings | Dict | special settings for Fleur calculation| no |"
   ]
  },
  {
   "cell_type": "markdown",
   "metadata": {},
   "source": [
    "Similarly to the `FleurCalculation`, SCF workchain has only one required input. Again, one *must* provide one of the supported input configurations, otherwise the workchain will end with some InputValidationError exit code and message prior launching anything:\n",
    "\n",
    "* **fleur** + **fleurinp**\n",
    "* **fleur** + **fleurinp** + **remote_data**\n",
    "* **fleur** + **remote_data**\n",
    "* **fleur** + **inpgen** + **structure**\n",
    "\n",
    "In this tutorial we will cover the **fleur** + **inpgen** + **structure** configuration only, which makes the workchain to submit a single inpgen calculation followed by several Fleur code submissions."
   ]
  },
  {
   "cell_type": "markdown",
   "metadata": {},
   "source": [
    "## SCF workchain submission"
   ]
  },
  {
   "cell_type": "markdown",
   "metadata": {},
   "source": [
    "### Inputs preparation"
   ]
  },
  {
   "cell_type": "markdown",
   "metadata": {},
   "source": [
    "As always, import the `FleurScfWorkChain` first:"
   ]
  },
  {
   "cell_type": "code",
   "execution_count": null,
   "metadata": {},
   "outputs": [],
   "source": [
    "from aiida_fleur.workflows.scf import FleurScfWorkChain"
   ]
  },
  {
   "cell_type": "markdown",
   "metadata": {},
   "source": [
    "The default `FleurScfWorkChain` (v0.4.2) run parameters, which control the workchains behavior are:\n",
    "```\n",
    "{'fleur_runmax': 4,               # maximal number of Fleur submissions\n",
    "'density_converged': 0.00002,     # density convergence criterion, sets minDistance\n",
    "'energy_converged': 0.002,\n",
    "'force_converged': 0.002,\n",
    "'kpoints_distance': None,         # in 1/A, usually 0.1, will create k-mesh at least this distance in rez. x,y,z.\n",
    "'kpoints_force_parity': False,\n",
    "'kpoints_force_odd': False,\n",
    "'kpoints_force_false': False,\n",
    "'mode': 'density',                # density is converged, force, and or energy\n",
    "'serial': False,                  # use no mpi submission\n",
    "'only_even_MPI': False,\n",
    "'itmax_per_run': 30,              # number of scf iterations in each Fleur submission, history will be deleted\n",
    "'force_dict': {                   # Parameters for force mode\n",
    "    'qfix': 2,\n",
    "    'forcealpha': 1.0,\n",
    "    'forcemix': 'straight'\n",
    "},\n",
    "'use_relax_xml': False,\n",
    "'inpxml_changes': []}             # changes to the inp.xml to apply\n",
    "```\n",
    "For all keys which are not explicitly overriden by user input, the defaults apply."
   ]
  },
  {
   "cell_type": "markdown",
   "metadata": {},
   "source": [
    "Next, let us setup input parameters for the workchains behavior in this tutorial. A cell below sets the maximal number of Fleur submission to 2, density convergence criterion to 0.001, maximal number of iterations in a single `FleurCalculation` to 30 (default). Which is a fast and inaccurate setting."
   ]
  },
  {
   "cell_type": "code",
   "execution_count": null,
   "metadata": {},
   "outputs": [],
   "source": [
    "wf_para = Dict(dict={'fleur_runmax' : 2,           # maximal number of Fleur submissions\n",
    "                     'density_converged' : 0.001,   # density convergence criterion\n",
    "                    })            "
   ]
  },
  {
   "cell_type": "markdown",
   "metadata": {},
   "source": [
    "We are going to use a StructureData node created in the tutorial number 1. Let us use the stored structure:"
   ]
  },
  {
   "cell_type": "code",
   "execution_count": null,
   "metadata": {},
   "outputs": [],
   "source": [
    "# you need to modify this - remind the PK of the silicon structure SI_PK\n",
    "structure = load_node(SI_PK)"
   ]
  },
  {
   "cell_type": "markdown",
   "metadata": {},
   "source": [
    "Despite **options** and **wf_parameters** are never required, we will set them up because we do not want to use default values."
   ]
  },
  {
   "cell_type": "code",
   "execution_count": null,
   "metadata": {},
   "outputs": [],
   "source": [
    "# same as in notebook 5 for the fleur runs, so you could reuse that option node\n",
    "options = Dict(dict={'resources' : {\"num_machines\": 1, \"num_mpiprocs_per_machine\" : 2},\n",
    "                     'queue_name' : '',\n",
    "                     'withmpi' : True,\n",
    "                     'max_wallclock_seconds' : 600})\n",
    "\n",
    "calc_parameters = Dict(dict={\n",
    "    'kpt': {\n",
    "        'div1': 2,\n",
    "        'div2' : 2,\n",
    "        'div3' : 2\n",
    "        }})"
   ]
  },
  {
   "cell_type": "markdown",
   "metadata": {},
   "source": [
    "**Note**: inpgen calculation submitted by SCF workchain is always submitted with an option:\n",
    " \n",
    "    {'resources' : {\"num_machines\": 1, \"num_mpiprocs_per_machine\" : 1}, 'withmpi' : False}\n",
    "    \n",
    "which means the resources specified in SCF input apply to `FleurCalculation` only."
   ]
  },
  {
   "cell_type": "markdown",
   "metadata": {},
   "source": [
    "**Calc_parameters**: In the calc parameter dictionary all namelists which inpgen can take are supported (except `&lattice`). \n",
    "    Namelists which can occur more then once, like the `atom` namelist, can named as you like (i.e atom1, atom_Si) as long as they contain the namelist name.\n",
    "    Also python values are converted to fortran. For example you should write booleans as True and False instead of 't' and 'f'.\n",
    "    For more on this see [Aiida-Fleur Documentation](https://aiida-fleur.readthedocs.io/en/latest/user_guide/calculations/inpgen_plugin.html)\n",
    "    \n",
    "An example for a more complex calc_parameter node for Cr could look like this:\n",
    "\n",
    "```    \n",
    "# Magnetism and spin orbit coupling\n",
    "Cr = Dict(dict={\n",
    "    'atom1':{'element' : 'Cr', 'id': '24.0', 'rmt' : 2.1, 'jri' : 981,\n",
    "             'lmax' : 12, 'lnonsph' : 6, 'lo' : '3s 3p', 'bmu':1.5},\n",
    "    'atom2':{'element' : 'Cr', 'id': '24.1', 'rmt' : 2.1, 'jri' : 981,\n",
    "             'lmax' : 12, 'lnonsph' : 6, 'lo' : '3s 3p', 'bmu':1.4},\n",
    "    'comp': {'kmax': 5.2, 'gmaxxc' : 12.5, 'gmax' : 15.0},\n",
    "    'kpt': {'div1' : 24, 'div2': 24, 'div3' : 24, 'tkb' : 0.0005},\n",
    "    'soc' : {'theta' : 0.0, 'phi' : 0.0}})\n",
    "```"
   ]
  },
  {
   "cell_type": "markdown",
   "metadata": {},
   "source": [
    "Finally, we need to load Fleur and inpgen code nodes to be used: Depending how full a certain queue is decide which code nodes to load and which respective option node to parse to the workchain submission."
   ]
  },
  {
   "cell_type": "code",
   "execution_count": null,
   "metadata": {},
   "outputs": [],
   "source": [
    "# For load_code also the label works, load_node requires a pk or uuid\n",
    "fleur_code = load_code('fleur@localhost')\n",
    "inpgen_code = load_node('5980ad3d')"
   ]
  },
  {
   "cell_type": "markdown",
   "metadata": {},
   "source": [
    "### Job submission"
   ]
  },
  {
   "cell_type": "markdown",
   "metadata": {},
   "source": [
    "In contrast to `FleurinputgenCalculation` and `FleurCalculation`, there is no need to assemble inputs in a single dictionary (but one could do it for convenience).\n",
    "Builders exists in aiida for all processes to interactivly build inputs and provide feedback. Here we just give everything to the submission right away."
   ]
  },
  {
   "cell_type": "code",
   "execution_count": null,
   "metadata": {},
   "outputs": [],
   "source": [
    "SCF_workchain = submit(FleurScfWorkChain,\n",
    "                          fleur=fleur_code,\n",
    "                          inpgen=inpgen_code,\n",
    "                          calc_parameters=calc_parameters,\n",
    "                          structure=structure,\n",
    "                          wf_parameters=wf_para,\n",
    "                          options=options)\n",
    "SCF_PK = SCF_workchain.pk\n",
    "print('Submitted SCF workchain pk={}'.format(SCF_PK))\n"
   ]
  },
  {
   "cell_type": "markdown",
   "metadata": {},
   "source": [
    "Now we can check the status of the workchain simply executing a cell below:"
   ]
  },
  {
   "cell_type": "code",
   "execution_count": null,
   "metadata": {},
   "outputs": [],
   "source": [
    "# you need to modify this\n",
    "!verdi process status $SCF_PK"
   ]
  },
  {
   "cell_type": "markdown",
   "metadata": {},
   "source": [
    "You can execute the cell above again and again until it does not say the task is finished. The output for the finished workchain should look like:\n",
    "\n",
    "<img src=\"../files/images/scf_print.png\" width=\"400\">\n",
    "\n",
    "\n",
    "You can also check all processes submitted last 24 hours by:"
   ]
  },
  {
   "cell_type": "code",
   "execution_count": null,
   "metadata": {},
   "outputs": [],
   "source": [
    "!verdi process list -a -p 1"
   ]
  },
  {
   "cell_type": "markdown",
   "metadata": {},
   "source": [
    "### Results analysis"
   ]
  },
  {
   "cell_type": "markdown",
   "metadata": {},
   "source": [
    "SCF workchain returns three outputs:\n",
    "\n",
    "|name| type | comment|\n",
    "|:--:|:----:|:----------:|\n",
    "|output_scf_wc_para|Dict| results of the workchain|\n",
    "|fleurinp| FleurinpData| FleurinpData that was used (after all modifications) |\n",
    "|last_fleur_calc_output| Dict | shortcut for last `FluerCalculation` output dict |"
   ]
  },
  {
   "cell_type": "markdown",
   "metadata": {},
   "source": [
    "You can find all output node PKs running:"
   ]
  },
  {
   "cell_type": "code",
   "execution_count": null,
   "metadata": {},
   "outputs": [],
   "source": [
    "!verdi process show $SCF_PK"
   ]
  },
  {
   "cell_type": "markdown",
   "metadata": {},
   "source": [
    "Some data, given in `output_scf_wc_para` can be visualised via:"
   ]
  },
  {
   "cell_type": "code",
   "execution_count": null,
   "metadata": {},
   "outputs": [],
   "source": [
    "# you need to modify this - replace SCF_PK\n",
    "%matplotlib inline\n",
    "from aiida_fleur.tools.plot.fleur import plot_fleur\n",
    "plot_fleur(SCF_PK)"
   ]
  },
  {
   "cell_type": "code",
   "execution_count": null,
   "metadata": {},
   "outputs": [],
   "source": [
    "# or with bokeh if installed an interactive version, usfull if looking at many workchains at once\n",
    "#!pip3 install --user bokeh==1.4.0\n",
    "# version above 1.4.0 currently clash with some aiida-core dependencies\n",
    "from bokeh.io import output_notebook\n",
    "output_notebook()\n",
    "plot_fleur(SCF_PK, backend='bokeh')"
   ]
  },
  {
   "cell_type": "markdown",
   "metadata": {},
   "source": [
    "Finally, you can access output_scf_wc_para dictionary via:"
   ]
  },
  {
   "cell_type": "code",
   "execution_count": null,
   "metadata": {},
   "outputs": [],
   "source": [
    "# you need to modify this - replace SCF_PK\n",
    "scf_wc = load_node(SCF_PK)\n",
    "scf_wc.outputs.output_scf_wc_para.get_dict()"
   ]
  },
  {
   "cell_type": "markdown",
   "metadata": {},
   "source": [
    "or"
   ]
  },
  {
   "cell_type": "code",
   "execution_count": null,
   "metadata": {},
   "outputs": [],
   "source": [
    "# you need to modify this - replace OUTPUT_DICT_PK\n",
    "!verdi data dict show OUTPUT_DICT_PK"
   ]
  },
  {
   "cell_type": "code",
   "execution_count": null,
   "metadata": {},
   "outputs": [],
   "source": [
    "# or with (you need to modify this - replace SCF_PK)\n",
    "!aiida-fleur workflow res $SCF_PK"
   ]
  },
  {
   "cell_type": "code",
   "execution_count": null,
   "metadata": {},
   "outputs": [],
   "source": []
  },
  {
   "cell_type": "markdown",
   "metadata": {},
   "source": [
    "# The BandDOS Workchain"
   ]
  },
  {
   "cell_type": "markdown",
   "metadata": {},
   "source": [
    "After we are sure that the scf workchain has finished we run a Banddos calculation \n",
    "on the results of them to calculate the bandstructure and a density of states. The BandDos workchain for MaXR5 is not very mature yet."
   ]
  },
  {
   "cell_type": "markdown",
   "metadata": {},
   "source": [
    "## Inputs of a BandDOS WorkChain"
   ]
  },
  {
   "cell_type": "markdown",
   "metadata": {},
   "source": [
    "|name|type|description| required |\n",
    "|:---:|:---:|:---------:|:---:|\n",
    "|fleur | Code | Fleur code | yes |\n",
    "|wf_parameters | Dict | Settings of the workchain| no |\n",
    "|fleurinp | FleurinpData | FLEUR input files| no |\n",
    "|remote_data | RemoteData | Remote folder of another calculation| yes |\n",
    "|options | Dict | AiiDA options (computational resources)| no |"
   ]
  },
  {
   "cell_type": "code",
   "execution_count": null,
   "metadata": {},
   "outputs": [],
   "source": [
    "# default wf_parameters are:\n",
    "dos_wf_para = Dict(dict={\n",
    "        'fleur_runmax': 4,\n",
    "        'kpath': 'auto',\n",
    "        'mode': 'dos', #default band\n",
    "        'sigma': 0.005,\n",
    "        'emin': -0.50,\n",
    "        'emax': 0.90\n",
    "    })"
   ]
  },
  {
   "cell_type": "code",
   "execution_count": null,
   "metadata": {},
   "outputs": [],
   "source": [
    "options_th1 = Dict(dict={'resources' : {\"num_machines\": 1, \"num_mpiprocs_per_machine\" : 2},\n",
    "                     'queue_name' : '',\n",
    "                     'withmpi' : True,\n",
    "                     'max_wallclock_seconds' : 600, 'optimize_resources': False})\n"
   ]
  },
  {
   "cell_type": "code",
   "execution_count": null,
   "metadata": {},
   "outputs": [],
   "source": [
    "# Here you have to replace `REMOTEDATA_PK_LAST_FLEUR_CALC`\n",
    "remote = load_node(REMOTEDATA_PK_LAST_FLEUR_CALC)\n",
    "fleurinp = load_node(FLEURINP_PK_LAST_FLEUR_CALC)"
   ]
  },
  {
   "cell_type": "code",
   "execution_count": null,
   "metadata": {},
   "outputs": [],
   "source": [
    "banddos1_workchain = submit(FleurBandDosWorkChain,\n",
    "                          fleur=fleur_code,\n",
    "                          remote=remote,\n",
    "                          fleurinp=fleurinp,\n",
    "                          #wf_parameters=Dict(dict=default_wf_para), # We go with the defaults\n",
    "                          options=options)\n",
    "print('Submitted Banddos workchain pk={} to calculate bandstructure'.format(banddos1_workchain.pk))"
   ]
  },
  {
   "cell_type": "code",
   "execution_count": null,
   "metadata": {},
   "outputs": [],
   "source": [
    "banddos2_workchain = submit(FleurBandDosWorkChain,\n",
    "                          fleur=fleur_code,\n",
    "                          remote=remote,\n",
    "                          wf_parameters=dos_wf_para,\n",
    "                          options=options) #options_th1\n",
    "print('Submitted Banddos workchain pk={} to calculate dos'.format(banddos2_workchain.pk))"
   ]
  },
  {
   "cell_type": "markdown",
   "metadata": {},
   "source": [
    "Monitor the simulations with verdi commands or continue with Notebook 7"
   ]
  },
  {
   "cell_type": "code",
   "execution_count": null,
   "metadata": {},
   "outputs": [],
   "source": [
    "# Confirm that the banddos.hdf file was copied back/retrieved to iffaiida from iffslurm\n",
    "!verdi calcjob outputls <FleurCalc_pk>"
   ]
  },
  {
   "cell_type": "code",
   "execution_count": null,
   "metadata": {},
   "outputs": [],
   "source": [
    "# plot fleur is not up to date, and cannot visualize the banddos.hdf file yet directly from the node in aiida-fleur, sorry\n",
    "plot_fleur(banddos2_workchain.pk)"
   ]
  },
  {
   "cell_type": "code",
   "execution_count": null,
   "metadata": {},
   "outputs": [],
   "source": [
    "# But you can use the `masci-tools` library to plot the banddos.hdf explicitely\n",
    "from masci_tools.io.parsers.hdf5 import HDF5Reader\n",
    "from masci_tools.io.parsers.hdf5.recipes import FleurBands, FleurDOS\n",
    "from masci_tools.vis.fleur import plot_fleur_bands, plot_fleur_dos\n",
    "\n",
    "#Replace Fleur_calc_pk here\n",
    "#To access the file from the calculation the following is the recommended way\n",
    "node = load_node(Fleur_calc_pk)\n",
    "folder = node.outputs.retrieved\n",
    "with folder.open('banddos.hdf', 'rb') as file1:\n",
    "    with HDF5Reader(file1) as h5reader:\n",
    "        data, attributes = h5reader.read(recipe=FleurBands) #FleurDOS for DOS calculations\n",
    "\n",
    "#Plot the data\n",
    "#Notice that you get the axis object of this plot is returned\n",
    "#if you want to make any special additions    \n",
    "ax = plot_fleur_bands(data, attributes)\n",
    "\n",
    "# ax = plot_fleur_dos(data, attributes) #for DOS calculations \n"
   ]
  },
  {
   "cell_type": "code",
   "execution_count": null,
   "metadata": {},
   "outputs": [],
   "source": []
  }
 ],
 "metadata": {
  "@webio": {
   "lastCommId": null,
   "lastKernelId": null
  },
  "kernelspec": {
   "display_name": "Python 3",
   "language": "python",
   "name": "python3"
  },
  "language_info": {
   "codemirror_mode": {
    "name": "ipython",
    "version": 3
   },
   "file_extension": ".py",
   "mimetype": "text/x-python",
   "name": "python",
   "nbconvert_exporter": "python",
   "pygments_lexer": "ipython3",
   "version": "3.8.8"
  }
 },
 "nbformat": 4,
 "nbformat_minor": 4
}
