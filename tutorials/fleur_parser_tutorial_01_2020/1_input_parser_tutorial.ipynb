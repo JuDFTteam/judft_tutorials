{
 "cells": [
  {
   "cell_type": "markdown",
   "id": "crazy-detective",
   "metadata": {},
   "source": [
    "# Fleur parser functions in the `masci-tools` repository\n",
    "\n",
    "For versions `0.4.0` and higher of the `masci-tools` repository (https://github.com/JuDFTteam/masci-tools/tree/develop), there are new parsers for the fleur input and output files available.\n",
    "This short tutorial demonstrates the usage of the main parsers and small functions that were implemented in this process, which are also very useful\n",
    "on their own.\n",
    "\n",
    "## The input file parser\n",
    "\n",
    "Basic usage of the input parser is very simple. We just import the parser from the `masci-tools` repository and provide a path to a input file to parse"
   ]
  },
  {
   "cell_type": "code",
   "execution_count": null,
   "id": "decent-content",
   "metadata": {},
   "outputs": [],
   "source": [
    "from masci_tools.io.parsers.fleur import inpxml_parser\n",
    "inpxml_parser?\n",
    "input_dict = inpxml_parser('./files/Fe_Example_input.xml')"
   ]
  },
  {
   "cell_type": "markdown",
   "id": "senior-tender",
   "metadata": {},
   "source": [
    "The input parser navigates the whole input file recursively and converts every attribute according to the XML Schmema of the file version. This results in a python dictionary mirroring the input file structure.\n",
    "\n",
    "Notice, however, that there are also some points, where the structure of the dictionary does not directly match the input file structure. An example of this can be seen for the `atomSpecies` tag. In the input file this tag is only used to mask a list of `species` tags and has no additional information of its own. These types of tags are automatically detected and the infomration is moved forward. A direct translation would lead to the `atomSpecies` key containg a dictionary with only a `species` key, which in turn holds the list containing the parsed `species` tags. Instead the metioned list is moved under the `atomSpecies` tag directly"
   ]
  },
  {
   "cell_type": "code",
   "execution_count": null,
   "id": "major-significance",
   "metadata": {},
   "outputs": [],
   "source": [
    "from pprint import pprint\n",
    "pprint(input_dict)"
   ]
  },
  {
   "cell_type": "markdown",
   "id": "complimentary-stylus",
   "metadata": {},
   "source": [
    "The parsers (this also applies to the output parser) can be called in three different ways\n",
    "\n",
    "1. Like we've seen above, you can provide the path to the input file directly\n",
    "2. The file can be opened and parsed into an xmltree beforehand"
   ]
  },
  {
   "cell_type": "code",
   "execution_count": null,
   "id": "designed-bacon",
   "metadata": {},
   "outputs": [],
   "source": [
    "from lxml import etree\n",
    "\n",
    "parser = etree.XMLParser(attribute_defaults=True, encoding='utf-8')\n",
    "xmltree = etree.parse('./files/Fe_Example_input.xml', parser)\n",
    "input_dict = inpxml_parser(xmltree)"
   ]
  },
  {
   "cell_type": "markdown",
   "id": "sudden-trash",
   "metadata": {},
   "source": [
    "3. A opened file handle can be passed in"
   ]
  },
  {
   "cell_type": "code",
   "execution_count": null,
   "id": "governing-duncan",
   "metadata": {},
   "outputs": [],
   "source": [
    "with open('./files/Fe_Example_input.xml', 'r') as input_file:\n",
    "    input_dict = inpxml_parser(input_file)"
   ]
  },
  {
   "cell_type": "markdown",
   "id": "stainless-struggle",
   "metadata": {},
   "source": [
    "The parsers provide more information about the parsing itself, if the argument `parser_info_out` is provided"
   ]
  },
  {
   "cell_type": "code",
   "execution_count": null,
   "id": "invalid-spring",
   "metadata": {},
   "outputs": [],
   "source": [
    "from pprint import pprint\n",
    "parser_info = {'parser_warnings': []}\n",
    "input_dict = inpxml_parser('./files/Fe_Example_input.xml', parser_info_out=parser_info)\n",
    "pprint(parser_info)"
   ]
  },
  {
   "cell_type": "markdown",
   "id": "thick-copying",
   "metadata": {},
   "source": [
    "In this case everything worked, so the information is limited to the version of the parser and the file version of the parsed file.\n",
    "If we take a file, that has been slightly modified we will see some example warnings:"
   ]
  },
  {
   "cell_type": "code",
   "execution_count": null,
   "id": "waiting-confusion",
   "metadata": {},
   "outputs": [],
   "source": [
    "from pprint import pprint\n",
    "parser_info = {'parser_warnings': []}\n",
    "input_dict = inpxml_parser('./files/Fe_Example_input_invalid_attributes.xml', parser_info_out=parser_info)\n",
    "pprint(parser_info)"
   ]
  },
  {
   "cell_type": "markdown",
   "id": "enabling-gospel",
   "metadata": {},
   "source": [
    "If the file does not validate against the InputSchema of the given version an error is raised"
   ]
  },
  {
   "cell_type": "code",
   "execution_count": null,
   "id": "specified-session",
   "metadata": {},
   "outputs": [],
   "source": [
    "from pprint import pprint\n",
    "parser_info = {'parser_warnings': []}\n",
    "input_dict = inpxml_parser('./files/Fe_Example_input_validation_errors.xml', parser_info_out=parser_info)\n",
    "pprint(parser_info)"
   ]
  },
  {
   "cell_type": "markdown",
   "id": "covered-worth",
   "metadata": {},
   "source": [
    "The input parser will also automatically execute any `xi:include` tags present in the input file "
   ]
  },
  {
   "cell_type": "code",
   "execution_count": null,
   "id": "charming-kentucky",
   "metadata": {},
   "outputs": [],
   "source": [
    "!ls -l files/automatic_include/"
   ]
  },
  {
   "cell_type": "code",
   "execution_count": null,
   "id": "african-disease",
   "metadata": {},
   "outputs": [],
   "source": [
    "input_dict = inpxml_parser('./files/automatic_include/inp.xml')\n",
    "pprint(input_dict['cell']['bzIntegration'])"
   ]
  },
  {
   "cell_type": "markdown",
   "id": "designed-imaging",
   "metadata": {},
   "source": [
    "One big advantage of these new parsers is that they support many different fleur versions with not much effort to maintain this version compatibility. The following input file is still of the version `0.27`. The parser converts every attribute for which it can find a definition in InputSchema with a defined type."
   ]
  },
  {
   "cell_type": "code",
   "execution_count": null,
   "id": "sharing-association",
   "metadata": {},
   "outputs": [],
   "source": [
    "input_dict = inpxml_parser('./files/old_input_file.xml')\n",
    "pprint(input_dict)"
   ]
  },
  {
   "cell_type": "code",
   "execution_count": null,
   "id": "scientific-hampshire",
   "metadata": {},
   "outputs": [],
   "source": []
  }
 ],
 "metadata": {
  "kernelspec": {
   "display_name": "AiiDA",
   "language": "python",
   "name": "aiida"
  },
  "language_info": {
   "codemirror_mode": {
    "name": "ipython",
    "version": 3
   },
   "file_extension": ".py",
   "mimetype": "text/x-python",
   "name": "python",
   "nbconvert_exporter": "python",
   "pygments_lexer": "ipython3",
   "version": "3.8.5"
  }
 },
 "nbformat": 4,
 "nbformat_minor": 5
}
