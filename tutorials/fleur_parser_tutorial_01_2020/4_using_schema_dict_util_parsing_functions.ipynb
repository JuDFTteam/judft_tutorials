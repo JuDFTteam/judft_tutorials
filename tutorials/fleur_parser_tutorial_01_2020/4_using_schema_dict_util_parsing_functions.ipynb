{
 "cells": [
  {
   "cell_type": "markdown",
   "id": "accredited-pierce",
   "metadata": {},
   "source": [
    "## Using the parsing functions in the `schema_dict_util` module\n",
    "\n",
    "The output parser uses a set of functions to perform the actual parsing. But even outside the output parser they can be very useful."
   ]
  },
  {
   "cell_type": "code",
   "execution_count": null,
   "id": "opponent-andorra",
   "metadata": {},
   "outputs": [],
   "source": [
    "import masci_tools.util.schema_dict_util"
   ]
  },
  {
   "cell_type": "markdown",
   "id": "sealed-occupation",
   "metadata": {},
   "source": [
    "This module contains a lot of different small functions, which make use of the schema dictionary. For example the `get_tag_xpath` and `get_attrib_xpath` functions from tutorial 3 are defined here. Then there is `read_constants`, which determines the mathemtical constants which can be used in the input file. The rest of the functions make s use of `get_tag_xpath` or `get_attrib_xpath` to gain easy access to parsing small parts of the xml files"
   ]
  },
  {
   "cell_type": "code",
   "execution_count": null,
   "id": "herbal-symbol",
   "metadata": {},
   "outputs": [],
   "source": [
    "help(masci_tools.util.schema_dict_util)"
   ]
  },
  {
   "cell_type": "markdown",
   "id": "designed-poker",
   "metadata": {},
   "source": [
    "To use these functions, we need to get the root of the xml file and the right schema_dict. For functions actually converting attribute values we also need to read in the defined constants (In additiona to defined constants there is also a default set)"
   ]
  },
  {
   "cell_type": "code",
   "execution_count": null,
   "id": "exceptional-chancellor",
   "metadata": {},
   "outputs": [],
   "source": [
    "from lxml import etree\n",
    "from masci_tools.io.parsers.fleur.fleur_schema import load_inpschema\n",
    "from masci_tools.util.schema_dict_util import read_constants\n",
    "root = etree.parse('./files/Fe_Example_input.xml').getroot()\n",
    "schema_dict = load_inpschema(root.xpath('//@fleurInputVersion')[0])\n",
    "constants = read_constants(root, schema_dict)"
   ]
  },
  {
   "cell_type": "markdown",
   "id": "efficient-championship",
   "metadata": {},
   "source": [
    "All parsing functions have the same interface. Let's start with tag_exists. This will tell us if a certain tag is present in the input file"
   ]
  },
  {
   "cell_type": "code",
   "execution_count": null,
   "id": "incident-premiere",
   "metadata": {},
   "outputs": [],
   "source": [
    "from masci_tools.util.schema_dict_util import tag_exists\n",
    "print(tag_exists(root, schema_dict, 'filmPos'))\n",
    "print(tag_exists(root, schema_dict, 'relPos'))"
   ]
  },
  {
   "cell_type": "markdown",
   "id": "waiting-lucas",
   "metadata": {},
   "source": [
    "These functions also take the same arguments as `get_tag_xpath` for specifying the concrete path"
   ]
  },
  {
   "cell_type": "code",
   "execution_count": null,
   "id": "seventh-testing",
   "metadata": {},
   "outputs": [],
   "source": [
    "from masci_tools.util.schema_dict_util import get_number_of_nodes\n",
    "print(get_number_of_nodes(root, schema_dict, 'ldaU'))"
   ]
  },
  {
   "cell_type": "code",
   "execution_count": null,
   "id": "shaped-oxford",
   "metadata": {},
   "outputs": [],
   "source": [
    "print(get_number_of_nodes(root, schema_dict, 'ldaU', contains='species'))"
   ]
  },
  {
   "cell_type": "markdown",
   "id": "unlimited-engagement",
   "metadata": {},
   "source": [
    "The function `evaluate_attribute` also allows to directly specify the tag, where the attribute should be parsed. This makes specifying attributes with common names a lot easier (like `units` in the output file for example)"
   ]
  },
  {
   "cell_type": "code",
   "execution_count": null,
   "id": "governing-dodge",
   "metadata": {},
   "outputs": [],
   "source": [
    "from masci_tools.util.schema_dict_util import evaluate_attribute\n",
    "print(evaluate_attribute(root, schema_dict, 'name', constants=constants, tag_name='species'))"
   ]
  },
  {
   "cell_type": "markdown",
   "id": "meaningful-disorder",
   "metadata": {},
   "source": [
    "Another option for specifying, which path is supposed to be parsed is using a Element of the xml tree, that is not the root. For example if we would want to parse the `mtSphere` tag for the atom species the naive approch would throw an error since all tags in the atoms section can occur in `species` or `atomGroup`."
   ]
  },
  {
   "cell_type": "code",
   "execution_count": null,
   "id": "foster-image",
   "metadata": {},
   "outputs": [],
   "source": [
    "from masci_tools.util.schema_dict_util import evaluate_tag\n",
    "print(evaluate_tag(root, schema_dict, 'mtSphere', constants=constants))"
   ]
  },
  {
   "cell_type": "markdown",
   "id": "residential-progress",
   "metadata": {},
   "source": [
    "One easy way to circumvent this, is to first get the `species` element via the `eval_simple_xpath` function and then performing the same call as before on the `species` element.\n",
    "If any of these parsing functions sees a element different from the root element it will constrain the path to contain the tag of that element. Subsequently the absolute path is converted into a relative path starting at the given element.\n",
    "\n",
    "The alternative is to add `contains=species` but if there are sections with lots of calls for species attributes Then this approach will definitely be less cumbersome."
   ]
  },
  {
   "cell_type": "code",
   "execution_count": null,
   "id": "exterior-cricket",
   "metadata": {},
   "outputs": [],
   "source": [
    "from masci_tools.util.schema_dict_util import evaluate_tag, eval_simple_xpath\n",
    "species_elem = eval_simple_xpath(root, schema_dict, 'species')\n",
    "print(evaluate_tag(species_elem, schema_dict, 'mtSphere', constants=constants))"
   ]
  },
  {
   "cell_type": "markdown",
   "id": "vertical-contest",
   "metadata": {},
   "source": []
  }
 ],
 "metadata": {
  "kernelspec": {
   "display_name": "AiiDA",
   "language": "python",
   "name": "aiida"
  },
  "language_info": {
   "codemirror_mode": {
    "name": "ipython",
    "version": 3
   },
   "file_extension": ".py",
   "mimetype": "text/x-python",
   "name": "python",
   "nbconvert_exporter": "python",
   "pygments_lexer": "ipython3",
   "version": "3.8.5"
  }
 },
 "nbformat": 4,
 "nbformat_minor": 5
}
