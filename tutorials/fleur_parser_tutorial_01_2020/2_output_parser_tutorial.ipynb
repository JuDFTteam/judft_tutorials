{
 "cells": [
  {
   "cell_type": "markdown",
   "id": "bizarre-motivation",
   "metadata": {},
   "source": [
    "## The output file parser\n",
    "\n",
    "The parser for the output file is used in the same way as the input file (refer to tutorial 1 for the different ways to provide files to the parser).\n",
    "However, it is much more configurable as the output file contains a lot of information that is not always useful. But the version support is not quite as extensive as the input parser. The output parser can parse out files starting form the MaX4 release of fleur"
   ]
  },
  {
   "cell_type": "code",
   "execution_count": null,
   "id": "searching-oxygen",
   "metadata": {},
   "outputs": [],
   "source": [
    "from masci_tools.io.parsers.fleur import outxml_parser\n",
    "outxml_parser?"
   ]
  },
  {
   "cell_type": "code",
   "execution_count": null,
   "id": "frozen-marsh",
   "metadata": {},
   "outputs": [],
   "source": [
    "from pprint import pprint\n",
    "parser_info = {'parser_warnings': []}\n",
    "output_dict = outxml_parser('./files/SiLO_out.xml', parser_info_out=parser_info)"
   ]
  },
  {
   "cell_type": "markdown",
   "id": "driven-hungarian",
   "metadata": {},
   "source": [
    "Let us look at the `parser_info` output first:"
   ]
  },
  {
   "cell_type": "code",
   "execution_count": null,
   "id": "complex-burlington",
   "metadata": {},
   "outputs": [],
   "source": [
    "pprint(parser_info)"
   ]
  },
  {
   "cell_type": "markdown",
   "id": "constant-nerve",
   "metadata": {},
   "source": [
    "We see the same version information and warnings as for the input parser here. Additionally we get information about the kind of calculation that was performed for the given input file. So in this case, we have a stock standard non-magnetic calculation. These modes determine how the output file is parsed. With these modes we obtain the following output:"
   ]
  },
  {
   "cell_type": "code",
   "execution_count": null,
   "id": "american-hydrogen",
   "metadata": {},
   "outputs": [],
   "source": [
    "pprint(output_dict)"
   ]
  },
  {
   "cell_type": "markdown",
   "id": "alien-joseph",
   "metadata": {},
   "source": [
    "The structure of the output as seen here is based on the old aiida-fleur parser. For a output file with different calculation modes the output dictionary is automatically extended/modified with output related to the calculation modes."
   ]
  },
  {
   "cell_type": "code",
   "execution_count": null,
   "id": "allied-vehicle",
   "metadata": {},
   "outputs": [],
   "source": [
    "from pprint import pprint\n",
    "parser_info = {'parser_warnings': []}\n",
    "output_dict = outxml_parser('./files/Fe_bct_SOC_out.xml', parser_info_out=parser_info)\n",
    "pprint(output_dict)\n",
    "pprint(parser_info)"
   ]
  },
  {
   "cell_type": "markdown",
   "id": "third-clark",
   "metadata": {},
   "source": [
    "The `outxml_parser` allows the user to tailor the output to their needs. As a first step the `iteration_to_parse` argument allows the choice of which iteration should be parsed. By default this is set to `last`, which parses only the last valid (if there was an error the last complete one is parsed) iteration."
   ]
  },
  {
   "cell_type": "code",
   "execution_count": null,
   "id": "alpha-calculation",
   "metadata": {},
   "outputs": [],
   "source": [
    "#Parsing all iterations\n",
    "from pprint import pprint\n",
    "output_dict = outxml_parser('./files/Fe_bct_SOC_out.xml', iteration_to_parse='all')\n",
    "pprint(output_dict)"
   ]
  },
  {
   "cell_type": "code",
   "execution_count": null,
   "id": "destroyed-arizona",
   "metadata": {},
   "outputs": [],
   "source": [
    "#Parsing the first iteration\n",
    "from pprint import pprint\n",
    "output_dict = outxml_parser('./files/Fe_bct_SOC_out.xml', iteration_to_parse='first')\n",
    "pprint(output_dict)"
   ]
  },
  {
   "cell_type": "code",
   "execution_count": null,
   "id": "quality-quantum",
   "metadata": {},
   "outputs": [],
   "source": [
    "#Parsing the sixth iteration for example (indexing starts at 0) (any non negative integer is accepted if there were enough iterations)\n",
    "from pprint import pprint\n",
    "output_dict = outxml_parser('./files/Fe_bct_SOC_out.xml', iteration_to_parse=5)\n",
    "pprint(output_dict)"
   ]
  },
  {
   "cell_type": "markdown",
   "id": "approximate-charleston",
   "metadata": {},
   "source": [
    "You might see that the output for all iterations can be a bit overwhelming. If you are interested only in the most essential information setting the argument `minimal_mode` to True migth be interesting for you."
   ]
  },
  {
   "cell_type": "code",
   "execution_count": null,
   "id": "abroad-roller",
   "metadata": {},
   "outputs": [],
   "source": [
    "#Parsing all iterations\n",
    "from pprint import pprint\n",
    "output_dict = outxml_parser('./files/Fe_bct_SOC_out.xml', iteration_to_parse='all', minimal_mode=True)\n",
    "pprint(output_dict)"
   ]
  },
  {
   "cell_type": "markdown",
   "id": "constitutional-plane",
   "metadata": {},
   "source": [
    "Here only the distances and total energies are parsed."
   ]
  },
  {
   "cell_type": "markdown",
   "id": "freelance-infrared",
   "metadata": {},
   "source": [
    "The flexible design of the output parser allows the user to do a lot of customization, without needing to modify the outxml_parser itself.\n",
    "As an example let's say in addition to the parsed information we want to get the energy parameter output from the out.xml. We can define a task ourself in the form of a dictionary. \n",
    "\n",
    "In this example we define a task called `energy_parameters`, which has two parts. In `atomic_energy_parameters` we parse all attributes of the tags with the name `atomicEP` and put them into the output dictionary under a subdictionary with the name `atomic_energy_parameters`. If the path is unambiguously specified the outxml_parser will find the correct location automatically. Then we repeat the same procedure for the `loAtomicEP` tags. \n",
    "\n",
    "A detailed information about the keywords and arguments in this dictionary can be found in the documentation of `masci-tools`."
   ]
  },
  {
   "cell_type": "code",
   "execution_count": null,
   "id": "hybrid-citation",
   "metadata": {},
   "outputs": [],
   "source": [
    "from pprint import pprint\n",
    "energy_parameter_tasks = {'energy_parameters': {'atomic_energy_parameters': {'parse_type': 'allAttribs',\n",
    "                                                                             'path_spec': {'name': 'atomicEP'},\n",
    "                                                                             'flat': False},\n",
    "                                                'lo_energy_parameters': {'parse_type': 'allAttribs',\n",
    "                                                                             'path_spec': {'name': 'loAtomicEP'},\n",
    "                                                                        'flat': False}}}\n",
    "output_dict = outxml_parser('./files/SiLO_out.xml', additional_tasks=energy_parameter_tasks)\n",
    "pprint(output_dict)"
   ]
  },
  {
   "cell_type": "markdown",
   "id": "secret-silver",
   "metadata": {},
   "source": [
    "We can even do custom conversions, which go beyond the normal parsing for our custom tasks. For this we need to define a function decorated with the `conversion_function` decorator and attach this function to our custom task by inserting a `_conversions` key with the name of the function in a list. As an example we calculate the mean energy parameter for atomic and local orbital energy parameters"
   ]
  },
  {
   "cell_type": "code",
   "execution_count": null,
   "id": "honest-pressure",
   "metadata": {},
   "outputs": [],
   "source": [
    "from pprint import pprint\n",
    "from masci_tools.util.parse_tasks_decorators import conversion_function\n",
    "import numpy as np\n",
    "\n",
    "@conversion_function\n",
    "def mean_energy_parameter(out_dict, parser_info_out=None): #This is the required function signature for a conversion function.\n",
    "    \n",
    "    eparas = out_dict['atomic_energy_parameters'].get('value')\n",
    "    lo_eparas = out_dict['lo_energy_parameters'].get('value')\n",
    "    \n",
    "    out_dict['mean_atomic_ep'] = np.mean(eparas)\n",
    "    out_dict['mean_lo_ep'] = np.mean(lo_eparas)\n",
    "    \n",
    "    return out_dict\n",
    "\n",
    "energy_parameter_tasks = {'energy_parameters': {'_conversions': ['mean_energy_parameter'],\n",
    "                                                'atomic_energy_parameters': {'parse_type': 'allAttribs',\n",
    "                                                                             'path_spec': {'name': 'atomicEP'},\n",
    "                                                                             'flat': False},\n",
    "                                                'lo_energy_parameters': {'parse_type': 'allAttribs',\n",
    "                                                                             'path_spec': {'name': 'loAtomicEP'},\n",
    "                                                                        'flat': False}}}\n",
    "output_dict = outxml_parser('./files/SiLO_out.xml', additional_tasks=energy_parameter_tasks)\n",
    "pprint(output_dict)"
   ]
  },
  {
   "cell_type": "code",
   "execution_count": null,
   "id": "supreme-africa",
   "metadata": {},
   "outputs": [],
   "source": []
  }
 ],
 "metadata": {
  "kernelspec": {
   "display_name": "AiiDA",
   "language": "python",
   "name": "aiida"
  },
  "language_info": {
   "codemirror_mode": {
    "name": "ipython",
    "version": 3
   },
   "file_extension": ".py",
   "mimetype": "text/x-python",
   "name": "python",
   "nbconvert_exporter": "python",
   "pygments_lexer": "ipython3",
   "version": "3.8.5"
  }
 },
 "nbformat": 4,
 "nbformat_minor": 5
}
