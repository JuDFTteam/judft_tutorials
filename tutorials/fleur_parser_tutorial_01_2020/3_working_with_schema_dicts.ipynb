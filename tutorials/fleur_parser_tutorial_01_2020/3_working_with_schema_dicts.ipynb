{
 "cells": [
  {
   "cell_type": "markdown",
   "id": "dried-attribute",
   "metadata": {},
   "source": [
    "## Schema dictionaries\n",
    "\n",
    "The basis of the input/output parsers is a set of functions, which extract type, order and various other information from the `FleurInputSchema.xsd` and `FleurOutputSchema.xsd` files for different versions. The obtained information is stored in large dictionaries next to the schema files.\n",
    "\n",
    "To load the information we use the `InputSchemaDict` and `OutputSchemaDict` classes by providing the desired version string to the `fromVersion` classmethod. They both work in the same way but are needed, since the outputschema implicitly includes information from the inputschema.\n",
    "\n",
    "These classes not only contain small helper functions but are also immutable, i.e. trying to modify the parsed information will raise an error."
   ]
  },
  {
   "cell_type": "code",
   "execution_count": null,
   "id": "occupational-graduation",
   "metadata": {},
   "outputs": [],
   "source": [
    "from masci_tools.io.parsers.fleur.fleur_schema import InputSchemaDict\n",
    "from pprint import pprint\n",
    "help(InputSchemaDict)\n",
    "\n",
    "schema_dict = InputSchemaDict.fromVersion('0.33')"
   ]
  },
  {
   "cell_type": "markdown",
   "id": "alive-musical",
   "metadata": {},
   "source": [
    "The returned python object also contains a xmlschema object for validating files"
   ]
  },
  {
   "cell_type": "code",
   "execution_count": null,
   "id": "hidden-department",
   "metadata": {},
   "outputs": [],
   "source": [
    "print(type(schema_dict.xmlschema))"
   ]
  },
  {
   "cell_type": "markdown",
   "id": "reasonable-austria",
   "metadata": {},
   "source": [
    "Let's for example take a look at `attrib_types`. Here all attributes are classified for the conversion from the strings we get from the xml file. If there are multiple possible types the conversion function will start at the first type and stop when a conversion was successful (`string` is put in last place at all times)"
   ]
  },
  {
   "cell_type": "code",
   "execution_count": null,
   "id": "intended-camera",
   "metadata": {},
   "outputs": [],
   "source": [
    "pprint(schema_dict['attrib_types'])"
   ]
  },
  {
   "cell_type": "markdown",
   "id": "alpha-nomination",
   "metadata": {},
   "source": [
    "In `tag_paths` all possible names of tags are mapped to possible simple xpaths through the input file"
   ]
  },
  {
   "cell_type": "code",
   "execution_count": null,
   "id": "vanilla-motivation",
   "metadata": {},
   "outputs": [],
   "source": [
    "pprint(schema_dict['tag_paths'])"
   ]
  },
  {
   "cell_type": "markdown",
   "id": "equipped-location",
   "metadata": {},
   "source": [
    "There are multiple keys for attributes and text tags (`unique_attribs`, `unique_path_attribs` and `other_attribs`), which classify the attributes in terms of three categories:\n",
    "\n",
    "1. unique attributes can only occur once in the input file and there is only one possible path\n",
    "2. unique path attributes can occur in multiple places but each place has only one occurence (name clashes for exmaple `spinf`)\n",
    "3. other attributes"
   ]
  },
  {
   "cell_type": "code",
   "execution_count": null,
   "id": "quick-minimum",
   "metadata": {},
   "outputs": [],
   "source": [
    "pprint(schema_dict['unique_attribs'])"
   ]
  },
  {
   "cell_type": "code",
   "execution_count": null,
   "id": "thorough-mouse",
   "metadata": {},
   "outputs": [],
   "source": [
    "pprint(schema_dict['unique_path_attribs'])"
   ]
  },
  {
   "cell_type": "markdown",
   "id": "respiratory-framing",
   "metadata": {},
   "source": [
    "This is useful but it does not provide a utility, to get a path and guarantee that you end up with a unique path. For this there are the functions `get_tag_xpath` and `get_attrib_xpath`. They are used by providing the name of the tag/attribute in question and other criteria to select the right path"
   ]
  },
  {
   "cell_type": "code",
   "execution_count": null,
   "id": "guided-dependence",
   "metadata": {},
   "outputs": [],
   "source": [
    "print(schema_dict.get_tag_xpath('bzIntegration'))"
   ]
  },
  {
   "cell_type": "markdown",
   "id": "supposed-intro",
   "metadata": {},
   "source": [
    "If the path is not unique an error is raised and we have to be more specific with the selection"
   ]
  },
  {
   "cell_type": "code",
   "execution_count": null,
   "id": "funny-increase",
   "metadata": {},
   "outputs": [],
   "source": [
    "print(schema_dict.get_tag_xpath('ldaU'))"
   ]
  },
  {
   "cell_type": "code",
   "execution_count": null,
   "id": "united-methodology",
   "metadata": {},
   "outputs": [],
   "source": [
    "print(schema_dict.get_tag_xpath('ldaU', contains='species'))"
   ]
  },
  {
   "cell_type": "code",
   "execution_count": null,
   "id": "oriental-placement",
   "metadata": {},
   "outputs": [],
   "source": [
    "print(schema_dict.get_tag_xpath('ldaU', not_contains='atom'))"
   ]
  },
  {
   "cell_type": "markdown",
   "id": "suburban-tampa",
   "metadata": {},
   "source": [
    "If there is no possible path to fullfill the criteria the function also raises an error"
   ]
  },
  {
   "cell_type": "code",
   "execution_count": null,
   "id": "homeless-shame",
   "metadata": {},
   "outputs": [],
   "source": [
    "print(schema_dict.get_tag_xpath('ldaU', contains='species', not_contains='atom'))"
   ]
  },
  {
   "cell_type": "markdown",
   "id": "adolescent-proxy",
   "metadata": {},
   "source": [
    "These functions allow for easy version support between different file versions if the tag names themselves do not change"
   ]
  },
  {
   "cell_type": "code",
   "execution_count": null,
   "id": "comfortable-surveillance",
   "metadata": {},
   "outputs": [],
   "source": [
    "schema_dict_max4 = InputSchemaDict.fromVersion('0.31')\n",
    "print(schema_dict.get_attrib_xpath('valenceElectrons'))\n",
    "print(schema_dict_max4.get_attrib_xpath('valenceElectrons'))"
   ]
  },
  {
   "cell_type": "markdown",
   "id": "sixth-decimal",
   "metadata": {},
   "source": [
    "More detailed information about the attributes and tags, which can be on a given tag can be found in the `tag_info` key. This part of the schema dictionary is indexed by the simple xpaths to avoid name clashes"
   ]
  },
  {
   "cell_type": "code",
   "execution_count": null,
   "id": "pacific-behavior",
   "metadata": {},
   "outputs": [],
   "source": [
    "pprint(schema_dict['tag_info']['/fleurInput'])"
   ]
  },
  {
   "cell_type": "code",
   "execution_count": null,
   "id": "minus-sharp",
   "metadata": {},
   "outputs": [],
   "source": [
    "pprint(schema_dict['tag_info']['/fleurInput/atomSpecies/species'])"
   ]
  },
  {
   "cell_type": "code",
   "execution_count": null,
   "id": "grand-disclaimer",
   "metadata": {},
   "outputs": [],
   "source": []
  }
 ],
 "metadata": {
  "kernelspec": {
   "display_name": "AiiDA",
   "language": "python",
   "name": "aiida"
  },
  "language_info": {
   "codemirror_mode": {
    "name": "ipython",
    "version": 3
   },
   "file_extension": ".py",
   "mimetype": "text/x-python",
   "name": "python",
   "nbconvert_exporter": "python",
   "pygments_lexer": "ipython3",
   "version": "3.8.5"
  }
 },
 "nbformat": 4,
 "nbformat_minor": 5
}
