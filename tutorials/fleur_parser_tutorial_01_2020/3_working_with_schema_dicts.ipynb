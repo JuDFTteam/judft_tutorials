{
 "cells": [
  {
   "cell_type": "markdown",
   "id": "northern-builder",
   "metadata": {},
   "source": [
    "## Schema dictionaries\n",
    "\n",
    "The basis of the input/output parsers is a set of functions, which extract type, order and various other information from the `FleurInputSchema.xsd` and `FleurOutputSchema.xsd` files for different versions. The obtained information is stored in large dictionaries next to the schema files.\n",
    "\n",
    "To load the information we use the `load_inpschema` and `load_outschema` functions by providing the desired version string. They both work in the same way but are needed, since the outputschema implicitly includes information from the inputschema"
   ]
  },
  {
   "cell_type": "code",
   "execution_count": null,
   "id": "agricultural-approach",
   "metadata": {},
   "outputs": [],
   "source": [
    "from masci_tools.io.parsers.fleur.fleur_schema import load_inpschema\n",
    "load_inpschema?\n",
    "\n",
    "schema_dict = load_inpschema('0.33')\n",
    "print(schema_dict.keys())"
   ]
  },
  {
   "cell_type": "markdown",
   "id": "separated-persian",
   "metadata": {},
   "source": [
    "If we also want a python object to validate files against this schema we provide the `schema_return` argument"
   ]
  },
  {
   "cell_type": "code",
   "execution_count": null,
   "id": "qualified-butler",
   "metadata": {},
   "outputs": [],
   "source": [
    "schema_dict, xmlschema = load_inpschema('0.33', schema_return=True)\n",
    "print(type(xmlschema))"
   ]
  },
  {
   "cell_type": "markdown",
   "id": "quality-memorabilia",
   "metadata": {},
   "source": [
    "To get an explanation of the keys in the schema dictionary we can pass the `show_help` argument"
   ]
  },
  {
   "cell_type": "code",
   "execution_count": null,
   "id": "romance-north",
   "metadata": {},
   "outputs": [],
   "source": [
    "schema_dict = load_inpschema('0.33', show_help=True)"
   ]
  },
  {
   "cell_type": "markdown",
   "id": "processed-registrar",
   "metadata": {},
   "source": [
    "Let's for example take a look at `attrib_types`. Here all attributes are classified for the conversion from the strings we get from the xml file. If there are multiple possible types the conversion function will start at the first type and stop when a conversion was successful (`string` is put in last place at all times)"
   ]
  },
  {
   "cell_type": "code",
   "execution_count": null,
   "id": "willing-liberal",
   "metadata": {},
   "outputs": [],
   "source": [
    "from pprint import pprint\n",
    "pprint(schema_dict['attrib_types'])"
   ]
  },
  {
   "cell_type": "markdown",
   "id": "intended-webcam",
   "metadata": {},
   "source": [
    "In `tag_paths` all possible names of tags are mapped to possible simple xpaths through the input file"
   ]
  },
  {
   "cell_type": "code",
   "execution_count": null,
   "id": "modern-ukraine",
   "metadata": {},
   "outputs": [],
   "source": [
    "pprint(schema_dict['tag_paths'])"
   ]
  },
  {
   "cell_type": "markdown",
   "id": "driving-bangkok",
   "metadata": {},
   "source": [
    "There are multiple keys for attributes and text tags (`unique_attribs`, `unique_path_attribs` and `other_attribs`), which classify the attributes in terms of three categories:\n",
    "\n",
    "1. unique attributes can only occur once in the input file and there is only one possible path\n",
    "2. unique path attributes can occur in multiple places but each place has only one occurence (name clashes for exmaple `spinf`)\n",
    "3. other attributes"
   ]
  },
  {
   "cell_type": "code",
   "execution_count": null,
   "id": "aging-palmer",
   "metadata": {},
   "outputs": [],
   "source": [
    "pprint(schema_dict['unique_attribs'])"
   ]
  },
  {
   "cell_type": "code",
   "execution_count": null,
   "id": "falling-olive",
   "metadata": {},
   "outputs": [],
   "source": [
    "pprint(schema_dict['unique_path_attribs'])"
   ]
  },
  {
   "cell_type": "markdown",
   "id": "approved-giving",
   "metadata": {},
   "source": [
    "This is useful but it does not provide a utility, to get a path and guarantee that you end up with a unique path. For this there are the functions `get_tag_xpath` and `get_attrib_xpath`. They are used by providing the name of the tag/attribute in question and other criteria to select the right path"
   ]
  },
  {
   "cell_type": "code",
   "execution_count": null,
   "id": "personal-suspension",
   "metadata": {},
   "outputs": [],
   "source": [
    "from masci_tools.util.schema_dict_util import get_tag_xpath\n",
    "get_tag_xpath?"
   ]
  },
  {
   "cell_type": "code",
   "execution_count": null,
   "id": "naval-defense",
   "metadata": {},
   "outputs": [],
   "source": [
    "print(get_tag_xpath(schema_dict, 'bzIntegration'))"
   ]
  },
  {
   "cell_type": "markdown",
   "id": "organizational-rainbow",
   "metadata": {},
   "source": [
    "If the path is not unique an error is raised and we have to be more specific with the selection"
   ]
  },
  {
   "cell_type": "code",
   "execution_count": null,
   "id": "intimate-elephant",
   "metadata": {},
   "outputs": [],
   "source": [
    "print(get_tag_xpath(schema_dict, 'ldaU'))"
   ]
  },
  {
   "cell_type": "code",
   "execution_count": null,
   "id": "parliamentary-sarah",
   "metadata": {},
   "outputs": [],
   "source": [
    "print(get_tag_xpath(schema_dict, 'ldaU', contains='species'))"
   ]
  },
  {
   "cell_type": "code",
   "execution_count": null,
   "id": "muslim-butterfly",
   "metadata": {},
   "outputs": [],
   "source": [
    "print(get_tag_xpath(schema_dict, 'ldaU', not_contains='atom'))"
   ]
  },
  {
   "cell_type": "markdown",
   "id": "broke-dodge",
   "metadata": {},
   "source": [
    "If there is no possible path to fullfill the criteria the function also raises an error"
   ]
  },
  {
   "cell_type": "code",
   "execution_count": null,
   "id": "listed-navigation",
   "metadata": {},
   "outputs": [],
   "source": [
    "print(get_tag_xpath(schema_dict, 'ldaU', contains='species', not_contains='atom'))"
   ]
  },
  {
   "cell_type": "markdown",
   "id": "attempted-count",
   "metadata": {},
   "source": [
    "These functions allow for easy version support between different file versions if the tag names themselves do not change"
   ]
  },
  {
   "cell_type": "code",
   "execution_count": null,
   "id": "established-hometown",
   "metadata": {},
   "outputs": [],
   "source": [
    "from masci_tools.util.schema_dict_util import get_attrib_xpath\n",
    "schema_dict_max4 = load_inpschema('0.31')\n",
    "print(get_attrib_xpath(schema_dict, 'valenceElectrons'))\n",
    "print(get_attrib_xpath(schema_dict_max4, 'valenceElectrons'))"
   ]
  },
  {
   "cell_type": "markdown",
   "id": "funded-parliament",
   "metadata": {},
   "source": [
    "More detailed information about the attributes and tags, which can be on a given tag can be found in the `tag_info` key. This part of the schema dictionary is indexed by the simple xpaths to avoid name clashes"
   ]
  },
  {
   "cell_type": "code",
   "execution_count": null,
   "id": "promotional-microwave",
   "metadata": {},
   "outputs": [],
   "source": [
    "pprint(schema_dict['tag_info']['/fleurInput'])"
   ]
  },
  {
   "cell_type": "code",
   "execution_count": null,
   "id": "published-haven",
   "metadata": {},
   "outputs": [],
   "source": [
    "pprint(schema_dict['tag_info']['/fleurInput/atomSpecies/species'])"
   ]
  },
  {
   "cell_type": "code",
   "execution_count": null,
   "id": "collectible-burlington",
   "metadata": {},
   "outputs": [],
   "source": []
  }
 ],
 "metadata": {
  "kernelspec": {
   "display_name": "AiiDA",
   "language": "python",
   "name": "aiida"
  },
  "language_info": {
   "codemirror_mode": {
    "name": "ipython",
    "version": 3
   },
   "file_extension": ".py",
   "mimetype": "text/x-python",
   "name": "python",
   "nbconvert_exporter": "python",
   "pygments_lexer": "ipython3",
   "version": "3.8.5"
  }
 },
 "nbformat": 4,
 "nbformat_minor": 5
}
