{
 "cells": [
  {
   "cell_type": "markdown",
   "metadata": {},
   "source": [
    "# Introduction to AiiDA"
   ]
  },
  {
   "cell_type": "markdown",
   "metadata": {},
   "source": [
    "## Table of contents\n",
    "TODO"
   ]
  },
  {
   "cell_type": "markdown",
   "metadata": {},
   "source": [
    "# PART -1"
   ]
  },
  {
   "cell_type": "markdown",
   "metadata": {},
   "source": [
    "## AiiDA data types\n",
    "\n",
    "There are a number of data types distributed with AiiDA. We summarize here the most common, and some useful features/functionalities to work with them."
   ]
  },
  {
   "cell_type": "markdown",
   "metadata": {},
   "source": [
    "### Most common datatypes\n",
    "\n",
    "\n",
    "Here follows a short summary of common datatypes already provided with AiiDA. This list is not\n",
    "complete, see also inside the module `aiida.orm.nodes.data` for the list of all available plugins."
   ]
  },
  {
   "cell_type": "markdown",
   "metadata": {},
   "source": [
    "### Base types\n",
    "\n",
    "In the `aiida.orm.nodes.data.base` module there are a number of useful classes\n",
    "that wrap base python datatypes (like `aiida.orm.nodes.data.int.Int`,\n",
    "`aiida.orm.nodes.data.float.Float`, `aiida.orm.nodes.data.str.Str`, ...).\n",
    "These are automatically loaded with the verdi shell, and also directly exposed from `aiida.orm`.\n",
    "These classes are particularly useful when you need to provide a single parameter to e.g. a\n",
    "`aiida.engine.processes.functions.workfunction`.\n",
    "\n",
    "Each of these classes can most often be used transparently (e.g. you can sum two\n",
    "`aiida.orm.nodes.data.int.Int` objects, etc.). If you need to access the bare\n",
    "value and not the whole AiiDA class, use the ``.value`` property.\n",
    "\n",
    "In the same module, there is also a `aiida.orm.nodes.data.list.List` class to\n",
    "store a list of base data types.\n",
    "\n",
    "The different datatypes can be accessed through the `aiida.plugins.factories.DataFactory` function\n",
    "(also exposed from `aiida.plugins`) by passing an entry point to it as an argument. A list of all the data entry points\n",
    "can be obtain running the command ``verdi plugin list aiida.data``."
   ]
  },
  {
   "cell_type": "markdown",
   "metadata": {},
   "source": [
    "#### Dict\n",
    "\n",
    "* **Class**: `aiida.orm.nodes.data.dict.Dict`\n",
    "* **String to pass to the** `aiida.plugins.factories.DataFactory`: ``dict``\n",
    "* **Aim**: store a dictionary of python base types in the database.\n",
    "  It can store any dictionary where elements can be a base python type (strings, floats,\n",
    "  integers, booleans, None type, datetime objects) and lists or dictionaries of them, at\n",
    "  any depth level (e.g. a dictionary where a value is a list of dictionaries of\n",
    "  strings and floats).\n",
    "* **What is stored in the database**: all key/values pairs as attributes\n",
    "* **What is stored in the file repository**: ---\n",
    "* **Example**:\n",
    "\n",
    "```python\n",
    "Dict(dict={'resources'  : {\"num_machines\": 1},\n",
    "           'queue_name' : 'blah',\n",
    "           'max_wallclock_seconds':  60*60,\n",
    "          }\n",
    "    )\n",
    "```"
   ]
  },
  {
   "cell_type": "markdown",
   "metadata": {},
   "source": [
    "#### StructureData\n",
    "\n",
    "\n",
    "* **Class**: `aiida.orm.nodes.data.structure.StructureData`\n",
    "* **String to pass to the** `aiida.plugins.factories.DataFactory`: ``structure``\n",
    "* **Aim**: store a crystal structure to be used by atomistic codes\n",
    "* **What is stored in the database**: all atomic positions, species, kinds,\n",
    "* **What is stored in the file repository**: ---\n",
    "* **Additional functionality**:\n",
    "* **Example**:\n",
    "\n",
    "```python\n",
    "alat = 4. # angstrom\n",
    "cell = [[alat, 0., 0.,],\n",
    "        [0., alat, 0.,],\n",
    "        [0., 0., alat,],\n",
    "       ]\n",
    "s = StructureData(cell=cell)\n",
    "s.append_atom(position=(0.,0.,0.), symbols='Fe')\n",
    "s.append_atom(position=(alat/2.,alat/2.,alat/2.), symbols='O')\n",
    "```"
   ]
  },
  {
   "cell_type": "markdown",
   "metadata": {},
   "source": [
    "#### ArrayData\n",
    "\n",
    "\n",
    "* **Class**: `aiida.orm.nodes.data.array.ArrayData`\n",
    "* **String to pass to the** `~aiida.plugins.factories.DataFactory`: ``array``\n",
    "* **Aim**: store generic numeric arrays\n",
    "* **What is stored in the database**: the shape of the arrays and the name of the arrays\n",
    "* **What is stored in the file repository**: the array data in numpy format"
   ]
  },
  {
   "cell_type": "markdown",
   "metadata": {},
   "source": [
    "#### FolderData\n",
    "\n",
    "\n",
    "* **Class**: `aiida.orm.nodes.data.folder.FolderData`\n",
    "* **String to pass to the** `aiida.plugins.factories.DataFactory`: ``folder``\n",
    "* **Aim**: store a set of files/folders (with possibly a folder/subfolder structure)\n",
    "* **What is stored in the database**: ---\n",
    "* **What is stored in the file repository**: all files and folders"
   ]
  },
  {
   "cell_type": "markdown",
   "metadata": {},
   "source": [
    "#### SinglefileData\n",
    "\n",
    "* **Class**: `aiida.orm.nodes.data.singlefile.SinglefileData`\n",
    "* **String to pass to the** `aiida.plugins.factories.DataFactory`: ``singlefile``\n",
    "* **Aim**: the same as ``FolderData``, but allows to store only one single file.\n",
    "* **What is stored in the database**: the filename\n",
    "* **What is stored in the file repository**: the file"
   ]
  },
  {
   "cell_type": "markdown",
   "metadata": {},
   "source": [
    "#### RemoteData\n",
    "\n",
    "* **Class**: `aiida.orm.nodes.data.remote.RemoteData`\n",
    "* **String to pass to the** `aiida.plugins.factories.DataFactory`: ``remote``\n",
    "* **Aim**: this basically represents a \"symbolic link\" to a specific folder on\n",
    "  a remote computer.\n",
    "  Its main use is to allow users to persist the provenance when e.g. a calculation\n",
    "  produces data in a raw/scratch folder, and the whole folder needs to be provided\n",
    "  to restart/continue.\n",
    "* **What is stored in the database**: the path of the folder (and the remote computer\n",
    "  as a `.computer` property, not as an attribute)\n",
    "* **What is stored in the file repository**: ---"
   ]
  },
  {
   "cell_type": "markdown",
   "metadata": {},
   "source": [
    "Note: There are many more derived datatypes available in AiiDA, for a fill list see the [AiiDA Documentation](https://aiida-core.readthedocs.io/en/latest/)"
   ]
  },
  {
   "cell_type": "markdown",
   "metadata": {},
   "source": [
    "### Code\n",
    "\n",
    "A code represents (in the database) the actual executable used to run the calculation. \n",
    "Note that in AiiDA the object `code` in the database is meant to represent a specific executable, i.e. a given compiled version of a code. Every calculation in AiiDA is linked to a code, installed on a specific computer. This means that if you install `fleur` and `inpgen` on two computers A and B, you will need to have two different `codes` in the database (although the source of the code is the same, the binary file is different).\n",
    "\n",
    "**Example**:\n",
    "\n",
    "```python\n",
    "codename = 'fleur@somecomputer'\n",
    "from aiida.orm import Code\n",
    "code = Code.get_from_string(codename)\n",
    "```"
   ]
  },
  {
   "cell_type": "markdown",
   "metadata": {},
   "source": [
    "<br><br>"
   ]
  },
  {
   "cell_type": "markdown",
   "metadata": {},
   "source": [
    "# PART - 2"
   ]
  },
  {
   "cell_type": "markdown",
   "metadata": {},
   "source": [
    "**Note**: All commands starting with a `!` are bash commands. Python notebooks provide this handy way of running shell/bash commands inside a python environment.\n",
    "\n",
    "*Also read through the comments*"
   ]
  },
  {
   "cell_type": "code",
   "execution_count": null,
   "metadata": {},
   "outputs": [],
   "source": [
    "# example\n",
    "!ls"
   ]
  },
  {
   "cell_type": "markdown",
   "metadata": {},
   "source": [
    "## Verdi Commands"
   ]
  },
  {
   "cell_type": "markdown",
   "metadata": {},
   "source": [
    "In this part of the tutorial you will learn some basics about the AiiDA framework. Get familiar with some useful `verdi` commands.\n",
    "\n",
    "The command line utility `verdi` is one of the most common ways to interact with AiiDA. Verdi with it's subcommands enables a variety of operations such as inspecting the status of ongoing or terminated calculations, showing the details of calculations, computers, codes, or data structures, access the input and the output of a calculation, etc. Similar to the bash shell, verdi command support Tab completion. Try right now to type verdi in a terminal of the aiida container and tap Tab twice to have a list of subcommands. Whenever you need the explanation of a command type verdi help or add -h flag if you are using any of the verdi subcommands. Finally, fields enclosed in angular brackets, such as `<pk>`, are placeholders to be replaced by the actual value of that field (an integer, a string, etc...)"
   ]
  },
  {
   "cell_type": "code",
   "execution_count": null,
   "metadata": {},
   "outputs": [],
   "source": [
    "# Is the daemon running?\n",
    "!verdi daemon status"
   ]
  },
  {
   "cell_type": "markdown",
   "metadata": {},
   "source": [
    "### Looking for calculations"
   ]
  },
  {
   "cell_type": "code",
   "execution_count": null,
   "metadata": {},
   "outputs": [],
   "source": [
    "# List all calculations currently running\n",
    "!verdi calculation list"
   ]
  },
  {
   "cell_type": "code",
   "execution_count": null,
   "metadata": {},
   "outputs": [],
   "source": [
    "# List all calculations in the Postgres database\n",
    "!verdi calculation list -a"
   ]
  },
  {
   "cell_type": "code",
   "execution_count": null,
   "metadata": {},
   "outputs": [],
   "source": [
    "# You also say what you would like to see\n",
    "!verdi calculation list -s FINISHED"
   ]
  },
  {
   "cell_type": "code",
   "execution_count": null,
   "metadata": {},
   "outputs": [],
   "source": [
    "# List all calculations in the database ran during the last 3 days and grep for FAILED calculations \n",
    "!verdi calculation list -a -p3 | grep FAILED"
   ]
  },
  {
   "cell_type": "code",
   "execution_count": null,
   "metadata": {},
   "outputs": [],
   "source": [
    "# To look at a calculation in more detail what went wrong, what was parsed in the log, etc,.\n",
    "!verdi calculation logshow xxx xxx"
   ]
  },
  {
   "cell_type": "code",
   "execution_count": null,
   "metadata": {},
   "outputs": [],
   "source": [
    "# Look at a FINSIHED inpgen calculation in more detail, \n",
    "# what nodes went in? what output nodes were produced?\n",
    "!verdi calculation show xxx"
   ]
  },
  {
   "cell_type": "markdown",
   "metadata": {},
   "source": [
    "The output depends on the specific `pk` chosen and should inform you about the input nodes (e.g. initial structure, parameters, pseudopotentials, kpoints, etc.), the output nodes (e.g. output structure, output parameters, etc.). For instance, if you choose `pk=xxx`, which identifies a SCF calculation of the Si unit cell obtained using fleur, the output should look like"
   ]
  },
  {
   "cell_type": "code",
   "execution_count": null,
   "metadata": {},
   "outputs": [],
   "source": [
    "# the input file for inpgen for this calculation (with default parameters)\n",
    "!verdi calculation inputcat xxx"
   ]
  },
  {
   "cell_type": "code",
   "execution_count": null,
   "metadata": {},
   "outputs": [],
   "source": [
    "# the input file for other inpgen calculation (with some parameters) (the one that failed)\n",
    "!verdi calculation inputcat xxx"
   ]
  },
  {
   "cell_type": "code",
   "execution_count": null,
   "metadata": {},
   "outputs": [],
   "source": [
    "# Now look in more detail at an FLEUR calculation\n",
    "!verdi calculation show xxx"
   ]
  },
  {
   "cell_type": "code",
   "execution_count": null,
   "metadata": {},
   "outputs": [],
   "source": [
    "# Look at the xml ouput file of the Fleur calculation\n",
    "!verdi calculation outputcat xxx"
   ]
  },
  {
   "cell_type": "code",
   "execution_count": null,
   "metadata": {},
   "outputs": [],
   "source": [
    "# grep for the distance of that calculation in the out.xml file\n",
    "!verdi calculation outputcat xxx | grep distance"
   ]
  },
  {
   "cell_type": "code",
   "execution_count": null,
   "metadata": {},
   "outputs": [],
   "source": [
    "# look at the files retrieved from the remote computer/cluster, \n",
    "# we store the last charge density (cdn1) too, this way any calculation can be continued from\n",
    "# from what we have 'locally' in the repository\n",
    "!verdi calculation outputls xxx"
   ]
  },
  {
   "cell_type": "code",
   "execution_count": null,
   "metadata": {},
   "outputs": [],
   "source": [
    "# Since the out file is also recieved\n",
    "# You can also grep for the distance of that calculation in the old out file\n",
    "!verdi calculation outputcat xxx -p out | grep distance"
   ]
  },
  {
   "cell_type": "code",
   "execution_count": null,
   "metadata": {},
   "outputs": [],
   "source": [
    "# look at the output node of that calculation which was saved in the database\n",
    "# 'output_parameters   376  ParameterData'\n",
    "!verdi data parameter show xxx"
   ]
  },
  {
   "cell_type": "code",
   "execution_count": null,
   "metadata": {},
   "outputs": [],
   "source": [
    "# We can also get the output node (dictionary) directly with a calculation command\n",
    "!verdi calculation res xxx"
   ]
  },
  {
   "cell_type": "markdown",
   "metadata": {},
   "source": [
    "When we start working with AiiDA python framework the same can be achived using the following python code. For example to get the total energy of a calculation:\n",
    "\n",
    "```python\n",
    "# If you want to get a result with python code from a caculation you could do so was follows.\n",
    "calc = load_node(373) # load the calculation node\n",
    "print('\\nTotal energy : {} {}\\n'.format(calc.res.energy, calc.res.energy_units))\n",
    "```"
   ]
  },
  {
   "cell_type": "markdown",
   "metadata": {},
   "source": [
    "### Looking at other data structures"
   ]
  },
  {
   "cell_type": "code",
   "execution_count": null,
   "metadata": {},
   "outputs": [],
   "source": [
    "# list all cif files in the database \n",
    "#(We have downloaded some from the ICSD for you. Then we read them in from a folder)\n",
    "!verdi data cif list"
   ]
  },
  {
   "cell_type": "code",
   "execution_count": null,
   "metadata": {},
   "outputs": [],
   "source": [
    "# list all crystal structures in the database, find out what pks their nodes are\n",
    "!verdi data structure list"
   ]
  },
  {
   "cell_type": "code",
   "execution_count": null,
   "metadata": {},
   "outputs": [],
   "source": [
    "!verdi data structure list | grep Si\n",
    "# better if you look for elements\n",
    "!verdi data structure list -e Si"
   ]
  },
  {
   "cell_type": "code",
   "execution_count": null,
   "metadata": {},
   "outputs": [],
   "source": [
    "# There are quite some Tungesten compounds\n",
    "!verdi data structure list -e W"
   ]
  },
  {
   "cell_type": "code",
   "execution_count": null,
   "metadata": {},
   "outputs": [],
   "source": [
    "# AiiDa has also ways to easly display structures (example with xcrysden if installed)\n",
    "# This does not work here because we do not have x forwarding to the container\n",
    "!verdi data structure show xxx --format xcrysden"
   ]
  },
  {
   "cell_type": "code",
   "execution_count": null,
   "metadata": {},
   "outputs": [],
   "source": [
    "# but we can export it and you can display it on your laptop if you have xcrysden installed\n",
    "!verdi data structure export --format xsf xxx > xxx_Si.xsf"
   ]
  },
  {
   "cell_type": "markdown",
   "metadata": {},
   "source": [
    "### AiiDA graph"
   ]
  },
  {
   "cell_type": "markdown",
   "metadata": {},
   "source": [
    "AiiDA stores in the database the inputs required by a calculation as well as the its outputs. These objects are connected in a graph that looks like Fig. X for a simple calculation or more like Fig. Y in general.\n",
    "\n",
    "Inline ascii visualisation of AiiDA graph (nodes in the database and their connection)\n",
    "\n",
    "**Note**: you can inspect the nodes and test draw them by using the following functions provided by `aiida.orm` and `aiida.utils.ascii_vis`\n",
    "\n",
    "```python\n",
    "calc = load_node(xxx)\n",
    "draw_parents(calc, dist=3) # Is this a head node (no parents)?\n",
    "draw_children(calc, dist=3) # What are its Children nodes, what was done?\n",
    "```\n",
    "or for an inpgen calculation\n",
    "\n",
    "```python\n",
    "calc = load_node(xxx)\n",
    "draw_children(calc, dist=3) # What are its Children nodes, what was done? \n",
    "```\n",
    "\n",
    "Do so also for our Si\n",
    "```python\n",
    "draw_children(load_node(xxx), dist=3) # This is not the full graph only to the 3rd connection\n",
    "```"
   ]
  },
  {
   "cell_type": "markdown",
   "metadata": {},
   "source": [
    "You can create a similar graph as shown in Fig X for any node by using the utility `verdi graph generate <pk>`. To visualize similar information in graph(ical) form, run (replacing <pk> with xxx):"
   ]
  },
  {
   "cell_type": "code",
   "execution_count": null,
   "metadata": {},
   "outputs": [],
   "source": [
    "#The same can be done more 'visual' for the full graph\n",
    "#Graph generation (dot file generate)\n",
    "!verdi graph generate xxx\n",
    "!verdi graph generate yyy\n",
    "!verdi graph generate zzz"
   ]
  },
  {
   "cell_type": "code",
   "execution_count": null,
   "metadata": {},
   "outputs": [],
   "source": [
    "# convert the dot file to a pdf and look at it (if you have graphvis installed)\n",
    "!dot -Tpdf -o xxx.pdf xxx.dot\n",
    "!dot -Tpdf -o yyy.pdf yyy.dot\n",
    "!dot -Tpdf -o zzz.pdf zzz.dot"
   ]
  },
  {
   "cell_type": "markdown",
   "metadata": {},
   "source": [
    "open the pdf files to inspect the provenance graph"
   ]
  },
  {
   "cell_type": "markdown",
   "metadata": {},
   "source": [
    "### Codes and computers"
   ]
  },
  {
   "cell_type": "markdown",
   "metadata": {},
   "source": [
    "A code represents (in the database) the actual executable used to run the calculation. Find the `pk` of such a node in the graph and type"
   ]
  },
  {
   "cell_type": "code",
   "execution_count": null,
   "metadata": {},
   "outputs": [],
   "source": [
    "!verdi code show <pk>"
   ]
  },
  {
   "cell_type": "markdown",
   "metadata": {},
   "source": [
    "The command prints information on the plugin used to interface the code to AiiDA, the remote machine on which the code is executed, the path of its executable, etc. To have a list of all available codes type"
   ]
  },
  {
   "cell_type": "code",
   "execution_count": null,
   "metadata": {},
   "outputs": [],
   "source": [
    "!verdi code list"
   ]
  },
  {
   "cell_type": "markdown",
   "metadata": {},
   "source": [
    "Among the entries of the output you should also find the code just shown.\n",
    "\n",
    "Similarly, the list of computers on which AiiDA can submit calculations is accessible by means of the command\n"
   ]
  },
  {
   "cell_type": "code",
   "execution_count": null,
   "metadata": {},
   "outputs": [],
   "source": [
    "!verdi computer list -a"
   ]
  },
  {
   "cell_type": "markdown",
   "metadata": {},
   "source": [
    "`-a` shows all computers, also the one imported in your database but that you did not configure, i.e., to which you\n",
    "don’t have access). Details about each computer can be obtained by the comma"
   ]
  },
  {
   "cell_type": "code",
   "execution_count": null,
   "metadata": {},
   "outputs": [],
   "source": [
    "!verdi computer show <COMPUTERNAME>"
   ]
  }
 ],
 "metadata": {
  "@webio": {
   "lastCommId": null,
   "lastKernelId": null
  },
  "kernelspec": {
   "display_name": "Python 2",
   "language": "python",
   "name": "python2"
  },
  "language_info": {
   "codemirror_mode": {
    "name": "ipython",
    "version": 2
   },
   "file_extension": ".py",
   "mimetype": "text/x-python",
   "name": "python",
   "nbconvert_exporter": "python",
   "pygments_lexer": "ipython2",
   "version": "2.7.16"
  }
 },
 "nbformat": 4,
 "nbformat_minor": 2
}
