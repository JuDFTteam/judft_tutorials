{
 "cells": [
  {
   "cell_type": "markdown",
   "metadata": {},
   "source": [
    "# Introduction to AiiDA"
   ]
  },
  {
   "cell_type": "markdown",
   "metadata": {},
   "source": [
    "## Table of contents\n",
    "<ul class=\"toc-item\">\n",
    "    <li><a href=\"#PART--1\">PART -1</a>\n",
    "        <ul class=\"toc-item\">\n",
    "            <li><a href=\"#AiiDA-data-types\">AiiDA data types</a>\n",
    "                <ul class=\"toc-item\">\n",
    "                    <li><a href=\"#Most-common-datatypes\">Most common datatypes</a></li>\n",
    "                    <li><a href=\"#Base-types\">Base types</a>\n",
    "                        <ul class=\"toc-item\">\n",
    "                            <li><a href=\"#Dict\">Dict</a></li>\n",
    "                            <li><a href=\"#StructureData\">StructureData</a></li>\n",
    "                            <li><a href=\"#FolderData\">FolderData</a></li>\n",
    "                            <li><a href=\"#RemoteData\">RemoteData</a></li>\n",
    "                        </ul>\n",
    "                    </li>\n",
    "                    <li><a href=\"#Code\">Code</a></li>\n",
    "                </ul>\n",
    "            </li>\n",
    "        </ul>\n",
    "    </li>\n",
    "    <li><a href=\"#PART---2\">PART - 2</a>\n",
    "        <ul class=\"toc-item\">\n",
    "            <li><a href=\"#Verdi-Commands\">Verdi Commands</a>\n",
    "                <ul class=\"toc-item\">\n",
    "                    <li><a href=\"#Looking-for-calculations\">Looking for calculations</a></li>\n",
    "                    <li><a href=\"#Looking-at-other-data-structures\">Looking at other data structures</a></li>\n",
    "                    <li><a href=\"#AiiDA-graph\">AiiDA graph</a></li>\n",
    "                    <li><a href=\"#Codes-and-computers\">Codes and computers</a></li>\n",
    "                </ul>\n",
    "            </li>\n",
    "        </ul>\n",
    "    </li>\n",
    "</ul>"
   ]
  },
  {
   "cell_type": "markdown",
   "metadata": {},
   "source": [
    "# PART -1"
   ]
  },
  {
   "cell_type": "markdown",
   "metadata": {},
   "source": [
    "## AiiDA data types\n",
    "\n",
    "There are a number of data types distributed with AiiDA. We summarize here the most common, and some useful features/functionalities to work with them."
   ]
  },
  {
   "cell_type": "markdown",
   "metadata": {},
   "source": [
    "### Most common datatypes\n",
    "\n",
    "\n",
    "Here follows a short summary of common datatypes already provided with AiiDA. This list is not\n",
    "complete, see also inside the module `aiida.orm.nodes.data` for the list of all available plugins."
   ]
  },
  {
   "cell_type": "markdown",
   "metadata": {},
   "source": [
    "### Base types\n",
    "\n",
    "In the `aiida.orm.nodes.data.base` module there are a number of useful classes\n",
    "that wrap base python datatypes (like `aiida.orm.nodes.data.int.Int`,\n",
    "`aiida.orm.nodes.data.float.Float`, `aiida.orm.nodes.data.str.Str`, ...).\n",
    "These are automatically loaded with the verdi shell, and also directly exposed from `aiida.orm`.\n",
    "These classes are particularly useful when you need to provide a single parameter to e.g. a\n",
    "`aiida.engine.processes.functions.workfunction`.\n",
    "\n",
    "Each of these classes can most often be used transparently (e.g. you can sum two\n",
    "`aiida.orm.nodes.data.int.Int` objects, etc.). If you need to access the bare\n",
    "value and not the whole AiiDA class, use the ``.value`` property.\n",
    "\n",
    "In the same module, there is also a `aiida.orm.nodes.data.list.List` class to\n",
    "store a list of base data types.\n",
    "\n",
    "The different datatypes can be accessed through the `aiida.plugins.factories.DataFactory` function\n",
    "(also exposed from `aiida.plugins`) by passing an entry point to it as an argument. A list of all the data entry points\n",
    "can be obtain running the command ``verdi plugin list aiida.data``."
   ]
  },
  {
   "cell_type": "markdown",
   "metadata": {},
   "source": [
    "#### Dict\n",
    "\n",
    "* **Class**: `aiida.orm.nodes.data.dict.Dict`\n",
    "* **String to pass to the** `aiida.plugins.factories.DataFactory`: ``dict``\n",
    "* **Aim**: store a dictionary of python base types in the database.\n",
    "  It can store any dictionary where elements can be a base python type (strings, floats,\n",
    "  integers, booleans, None type, datetime objects) and lists or dictionaries of them, at\n",
    "  any depth level (e.g. a dictionary where a value is a list of dictionaries of\n",
    "  strings and floats).\n",
    "* **What is stored in the database**: all key/values pairs as attributes\n",
    "* **What is stored in the file repository**: ---\n",
    "* **Example**:\n",
    "\n",
    "```python\n",
    "Dict(dict={'resources'  : {\"num_machines\": 1},\n",
    "           'queue_name' : 'blah',\n",
    "           'max_wallclock_seconds':  60*60,\n",
    "          }\n",
    "    )\n",
    "```"
   ]
  },
  {
   "cell_type": "markdown",
   "metadata": {},
   "source": [
    "#### StructureData\n",
    "\n",
    "\n",
    "* **Class**: `aiida.orm.nodes.data.structure.StructureData`\n",
    "* **String to pass to the** `aiida.plugins.factories.DataFactory`: ``structure``\n",
    "* **Aim**: store a crystal structure to be used by atomistic codes\n",
    "* **What is stored in the database**: all atomic positions, species, kinds,\n",
    "* **What is stored in the file repository**: ---\n",
    "* **Additional functionality**:\n",
    "* **Example**:\n",
    "\n",
    "```python\n",
    "alat = 4. # angstrom\n",
    "cell = [[alat, 0., 0.,],\n",
    "        [0., alat, 0.,],\n",
    "        [0., 0., alat,],\n",
    "       ]\n",
    "s = StructureData(cell=cell)\n",
    "s.append_atom(position=(0.,0.,0.), symbols='Fe')\n",
    "s.append_atom(position=(alat/2.,alat/2.,alat/2.), symbols='O')\n",
    "```"
   ]
  },
  {
   "cell_type": "markdown",
   "metadata": {},
   "source": [
    "#### FolderData\n",
    "\n",
    "\n",
    "* **Class**: `aiida.orm.nodes.data.folder.FolderData`\n",
    "* **String to pass to the** `aiida.plugins.factories.DataFactory`: ``folder``\n",
    "* **Aim**: store a set of files/folders (with possibly a folder/subfolder structure)\n",
    "* **What is stored in the database**: ---\n",
    "* **What is stored in the file repository**: all files and folders"
   ]
  },
  {
   "cell_type": "markdown",
   "metadata": {},
   "source": [
    "#### RemoteData\n",
    "\n",
    "* **Class**: `aiida.orm.nodes.data.remote.RemoteData`\n",
    "* **String to pass to the** `aiida.plugins.factories.DataFactory`: ``remote``\n",
    "* **Aim**: this basically represents a \"symbolic link\" to a specific folder on\n",
    "  a remote computer.\n",
    "  Its main use is to allow users to persist the provenance when e.g. a calculation\n",
    "  produces data in a raw/scratch folder, and the whole folder needs to be provided\n",
    "  to restart/continue.\n",
    "* **What is stored in the database**: the path of the folder (and the remote computer\n",
    "  as a `.computer` property, not as an attribute)\n",
    "* **What is stored in the file repository**: ---"
   ]
  },
  {
   "cell_type": "markdown",
   "metadata": {},
   "source": [
    "Note: There are many more derived datatypes available in AiiDA, for a full list see the [AiiDA Documentation](https://aiida-core.readthedocs.io/en/latest/datatypes/index.html)"
   ]
  },
  {
   "cell_type": "markdown",
   "metadata": {},
   "source": [
    "### Code\n",
    "\n",
    "A code represents (in the database) the actual executable used to run the calculation. \n",
    "Note that in AiiDA the object `code` in the database is meant to represent a specific executable, i.e. a given compiled version of a code. Every calculation in AiiDA is linked to a code, installed on a specific computer. This means that if you install `fleur` and `inpgen` on two computers A and B, you will need to have two different `codes` in the database (although the source of the code is the same, the binary file is different).\n",
    "\n",
    "**Example**:\n",
    "\n",
    "```python\n",
    "codename = 'fleur@somecomputer'\n",
    "from aiida.orm import Code\n",
    "code = Code.get_from_string(codename)\n",
    "```"
   ]
  },
  {
   "cell_type": "markdown",
   "metadata": {},
   "source": [
    "<br><br>"
   ]
  },
  {
   "cell_type": "markdown",
   "metadata": {},
   "source": [
    "# PART - 2"
   ]
  },
  {
   "cell_type": "markdown",
   "metadata": {},
   "source": [
    "**Note**: All commands starting with a `!` are bash commands. Python notebooks provide this handy way of running shell/bash commands inside a python environment. \n",
    "\n",
    "*you can execute the active code cell's by pressing Ctrl+Enter*\n",
    "\n",
    "*Also read through the comments*"
   ]
  },
  {
   "cell_type": "code",
   "execution_count": null,
   "metadata": {},
   "outputs": [],
   "source": [
    "# example\n",
    "!ls"
   ]
  },
  {
   "cell_type": "markdown",
   "metadata": {},
   "source": [
    "## Verdi Commands"
   ]
  },
  {
   "cell_type": "markdown",
   "metadata": {},
   "source": [
    "In this part of the tutorial you will learn some basics about the AiiDA framework. Get familiar with some useful `verdi` commands.\n",
    "\n",
    "The command line utility `verdi` is one of the most common ways to interact with AiiDA. Verdi with it's subcommands enables a variety of operations such as inspecting the status of ongoing or terminated calculations, showing the details of calculations, computers, codes, or data structures, access the input and the output of a calculation, etc. Similar to the bash shell, verdi command support Tab completion. Try right now to type verdi in a terminal of the aiida container and tap Tab twice to have a list of subcommands. Whenever you need the explanation of a command type verdi help or add -h flag if you are using any of the verdi subcommands. Finally, fields enclosed in angular brackets, such as `<pk>`, are placeholders to be replaced by the actual value of that field (an integer, a string, etc...)"
   ]
  },
  {
   "cell_type": "code",
   "execution_count": null,
   "metadata": {},
   "outputs": [],
   "source": [
    "# Is the daemon running?\n",
    "!verdi daemon status"
   ]
  },
  {
   "cell_type": "markdown",
   "metadata": {},
   "source": [
    "### Looking for calculations"
   ]
  },
  {
   "cell_type": "code",
   "execution_count": null,
   "metadata": {},
   "outputs": [],
   "source": [
    "# List all calculations currently running\n",
    "!verdi process list"
   ]
  },
  {
   "cell_type": "code",
   "execution_count": null,
   "metadata": {},
   "outputs": [],
   "source": [
    "# List all calculations in the Postgres database\n",
    "!verdi process list -a"
   ]
  },
  {
   "cell_type": "code",
   "execution_count": null,
   "metadata": {},
   "outputs": [],
   "source": [
    "# You also say what you would like to see\n",
    "!verdi process list -S finished"
   ]
  },
  {
   "cell_type": "code",
   "execution_count": null,
   "metadata": {},
   "outputs": [],
   "source": [
    "# Look at a FINSIHED inpgen calculation in more detail, \n",
    "# what nodes went in? what output nodes were produced?\n",
    "!verdi process show 100"
   ]
  },
  {
   "cell_type": "markdown",
   "metadata": {},
   "source": [
    "The output depends on the specific `pk` chosen and should inform you about the input nodes (e.g. initial structure, parameters, pseudopotentials, kpoints, etc.), the output nodes (e.g. output structure, output parameters, etc.). For instance, if you choose `pk=xxx`, which identifies a SCF calculation of the Si unit cell obtained using fleur, the output should look like"
   ]
  },
  {
   "cell_type": "code",
   "execution_count": null,
   "metadata": {},
   "outputs": [],
   "source": [
    "# the input file for inpgen for this calculation (with default parameters)\n",
    "!verdi calcjob inputcat 79"
   ]
  },
  {
   "cell_type": "code",
   "execution_count": null,
   "metadata": {},
   "outputs": [],
   "source": [
    "# grep for the distance of that calculation in the out.xml file\n",
    "!verdi calcjob outputcat 100 | grep distance"
   ]
  },
  {
   "cell_type": "code",
   "execution_count": null,
   "metadata": {},
   "outputs": [],
   "source": [
    "# look at the files retrieved from the remote computer/cluster, \n",
    "# we store the last charge density (cdn1) too, this way any calculation can be continued from\n",
    "# from what we have 'locally' in the repository\n",
    "!verdi calcjob outputls 100"
   ]
  },
  {
   "cell_type": "markdown",
   "metadata": {},
   "source": [
    "### Codes and computers"
   ]
  },
  {
   "cell_type": "markdown",
   "metadata": {},
   "source": [
    "A code represents (in the database) the actual executable used to run the calculation. Find the `pk` of such a node in the graph and type"
   ]
  },
  {
   "cell_type": "code",
   "execution_count": null,
   "metadata": {},
   "outputs": [],
   "source": [
    "!verdi code show <pk>"
   ]
  },
  {
   "cell_type": "markdown",
   "metadata": {},
   "source": [
    "The command prints information on the plugin used to interface the code to AiiDA, the remote machine on which the code is executed, the path of its executable, etc. To have a list of all available codes type"
   ]
  },
  {
   "cell_type": "code",
   "execution_count": null,
   "metadata": {},
   "outputs": [],
   "source": [
    "!verdi code list"
   ]
  },
  {
   "cell_type": "markdown",
   "metadata": {},
   "source": [
    "Among the entries of the output you should also find the code just shown.\n",
    "\n",
    "Similarly, the list of computers on which AiiDA can submit calculations is accessible by means of the command\n"
   ]
  },
  {
   "cell_type": "code",
   "execution_count": null,
   "metadata": {},
   "outputs": [],
   "source": [
    "!verdi computer list -a"
   ]
  },
  {
   "cell_type": "markdown",
   "metadata": {},
   "source": [
    "`-a` shows all computers, also the one imported in your database but that you did not configure, i.e., to which you\n",
    "don’t have access). Details about each computer can be obtained by the comma"
   ]
  },
  {
   "cell_type": "code",
   "execution_count": null,
   "metadata": {},
   "outputs": [],
   "source": [
    "!verdi computer show <COMPUTERNAME>"
   ]
  }
 ],
 "metadata": {
  "@webio": {
   "lastCommId": null,
   "lastKernelId": null
  },
  "kernelspec": {
   "display_name": "Python 2",
   "language": "python",
   "name": "python2"
  },
  "language_info": {
   "codemirror_mode": {
    "name": "ipython",
    "version": 2
   },
   "file_extension": ".py",
   "mimetype": "text/x-python",
   "name": "python",
   "nbconvert_exporter": "python",
   "pygments_lexer": "ipython2",
   "version": "2.7.16"
  }
 },
 "nbformat": 4,
 "nbformat_minor": 2
}
