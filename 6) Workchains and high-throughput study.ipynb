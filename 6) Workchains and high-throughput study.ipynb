{
 "cells": [
  {
   "cell_type": "markdown",
   "metadata": {},
   "source": [
    "*please execute the cell below before starting the tutorial by selecting the cell and pressing Ctrl+Enter*"
   ]
  },
  {
   "cell_type": "code",
   "execution_count": 3,
   "metadata": {},
   "outputs": [
    {
     "name": "stderr",
     "output_type": "stream",
     "text": [
      "/Users/tsep/.virtualenvs/python2/lib/python2.7/site-packages/ase/lattice/surface.py:17: UserWarning: Moved to ase.build\n",
      "  warnings.warn('Moved to ase.build')\n",
      "/Users/tsep/.virtualenvs/python2/lib/python2.7/site-packages/pymatgen/__init__.py:89: UserWarning: \n",
      "Pymatgen will drop Py2k support from v2019.1.1. Pls consult the documentation\n",
      "at https://www.pymatgen.org for more details.\n",
      "  at https://www.pymatgen.org for more details.\"\"\")\n"
     ]
    },
    {
     "data": {
      "text/plain": [
       "<aiida.manage.configuration.profile.Profile at 0x10f322a90>"
      ]
     },
     "execution_count": 3,
     "metadata": {},
     "output_type": "execute_result"
    }
   ],
   "source": [
    "from aiida.orm import Dict, load_node\n",
    "from aiida.engine import submit\n",
    "from aiida_fleur.workflows.scf import FleurScfWorkChain\n",
    "from aiida_fleur.workflows.mae import FleurMaeWorkChain\n",
    "from aiida_fleur.workflows.ssdisp import FleurSSDispWorkChain\n",
    "\n",
    "from aiida import load_profile\n",
    "\n",
    "load_profile()"
   ]
  },
  {
   "cell_type": "markdown",
   "metadata": {},
   "source": [
    "# Workchains and high-throughput study"
   ]
  },
  {
   "cell_type": "markdown",
   "metadata": {},
   "source": [
    "In the final, sixth part of the AiiDA-FLEUR tutorial, we will cover the main part of AiiDA - workchains. Workchains are key-turn solutions for particular tasks such as finding equation of states or performing structure optimisation. The main goal of a workchain is to automatically perform a certain task keeping the history of all performed actions. The main advantage of using workchains is providing a low entering threshold for newcomers and routine tasks automotisation for more advanced users.\n",
    "\n",
    "In this part of the tutorial you will explore and learn how to work with AiiDA-Fleur workchains.\n",
    "\n",
    "Wokchains are similar to Calculations: basically they can be treated as a black box using user's input and producing some output. For example, the SCF workchain is an engine that produces self-consistent charge denstity (and other interesting parameters) for a given structure. Equation Of States (EOS) workchain calculates equation of states for a given structure and etc.\n",
    "\n",
    "<img src=\"files/images/black_box.png\" width=\"1000\">\n",
    "\n",
    "The power of workchains is hidden behind their possible use in other workchains. Workchain A can be used in a workchain B, workchain C can use workchains A and B. Using smaller workchains as building blocks for a more comlex alghoritms, one can develop hierarchic structure of the research to be done."
   ]
  },
  {
   "cell_type": "markdown",
   "metadata": {},
   "source": [
    "## Workchain hierarchy "
   ]
  },
  {
   "cell_type": "markdown",
   "metadata": {},
   "source": [
    "The hierarchy of all implemented workchains in AiiDA-Fleur v1.0.0 is shown below. Black arrows mean the use of a workchain by another one. For instance, the geometry optimization workchain uses the SCF workchain inside it.\n",
    "It is clealy seen that every higher-level workchain uses the SCF workchain.\n",
    "\n",
    "<img src=\"files/images/workchains.png\" width=\"600\">\n"
   ]
  },
  {
   "cell_type": "markdown",
   "metadata": {
    "slideshow": {
     "slide_type": "slide"
    }
   },
   "source": [
    "In next section we will cover the central workchain of the AiiDA-FLEUR plugin: the SCF workchain."
   ]
  },
  {
   "cell_type": "markdown",
   "metadata": {},
   "source": [
    "## SCF WorkChain "
   ]
  },
  {
   "cell_type": "markdown",
   "metadata": {},
   "source": [
    "The SCF workchain is responsible for converging charge density for a given structure. It submits Fleur calculation several times until the convergence criterion or maximal number of Fleur submissions are reached."
   ]
  },
  {
   "cell_type": "markdown",
   "metadata": {},
   "source": [
    "### Inputs of the SCF WorkChain"
   ]
  },
  {
   "cell_type": "markdown",
   "metadata": {},
   "source": [
    "|name|type|describtion| required |\n",
    "|:---:|:---:|:---------:|:---:|\n",
    "|fleur | Code | Fleur code | yes |\n",
    "|inpgen | Code | Inpgen code| no |\n",
    "|wf_parameters | Dict | Settings of the workchain| no |\n",
    "|structure | StructureData | Structure data node| no |\n",
    "|calc_parameters | Dict | FLAPW parameters, used by inpgen| no |\n",
    "|fleurinp | FleurinpData | FLEUR input files| no |\n",
    "|remote_data | RemoteData | Remote folder of another calculation| no |\n",
    "|options | Dict | AiiDA options (computational resourses)| no |\n",
    "|settings | Dict | special settings for Fleur calculation| no |"
   ]
  },
  {
   "cell_type": "markdown",
   "metadata": {},
   "source": [
    "Similarly to the `FleurCalculation`, SCF workchain has only one requred input. Again, one *must* provide one of the supporten input configurations to ensure the predictable behaviour of the workchain:\n",
    "\n",
    "* **fleur** + **fleurinp**\n",
    "* **fleur** + **fleurinp** + **remote_data**\n",
    "* **fleur** + **remote_data**\n",
    "* **fleur** + **inpgen** + **structure**\n",
    "\n",
    "In this tutorial we will cover **fleur** + **inpgen** + **structure** configuration only, which makes the workchain to submit a single inpgen calculaiton followed by several Fleur code submissions."
   ]
  },
  {
   "cell_type": "markdown",
   "metadata": {},
   "source": [
    "## SCF workchain submission"
   ]
  },
  {
   "cell_type": "markdown",
   "metadata": {},
   "source": [
    "### Inputs preparation"
   ]
  },
  {
   "cell_type": "markdown",
   "metadata": {},
   "source": [
    "First of all, let us setup input parameters for the workchain that control its behaviour. A cell below sets the maximal number of Fleur submission to 3, density convergence criterion to 0.001, maximal number of iterations in a single `FleurCalculation` to 30."
   ]
  },
  {
   "cell_type": "code",
   "execution_count": null,
   "metadata": {},
   "outputs": [],
   "source": [
    "wf_para = Dict(dict={'fleur_runmax' : 3,           # maximal number of Fleur submissions\n",
    "                     'density_converge' : 0.001,   # density convergence criterion\n",
    "                     'mode' : 'density',           # density is converged\n",
    "                     'itmax_per_run' : 30,         # number of scf iterations in each Fleur submission\n",
    "                     'serial' : False})            # use mpi submission"
   ]
  },
  {
   "cell_type": "markdown",
   "metadata": {},
   "source": [
    "We are going to use StructureData node created in the tutorial number 1. Let us use the stored object:"
   ]
  },
  {
   "cell_type": "code",
   "execution_count": null,
   "metadata": {},
   "outputs": [],
   "source": [
    "structure = load_node(xxx)"
   ]
  },
  {
   "cell_type": "markdown",
   "metadata": {},
   "source": [
    "Despite **options** and **wf_parameters** are never required, we will set them up because we do not want to use default values."
   ]
  },
  {
   "cell_type": "code",
   "execution_count": 3,
   "metadata": {},
   "outputs": [],
   "source": [
    "options = Dict(dict={'resources' : {\"num_machines\": 1, \"num_mpiprocs_per_machine\" : 2}, 'withmpi' : True})\n",
    "\n",
    "calc_parameters = Dict(dict={\n",
    "    'kpt': {\n",
    "        'div1': 12,\n",
    "        'div2' : 10,\n",
    "        'div3' : 1\n",
    "        }})"
   ]
  },
  {
   "cell_type": "markdown",
   "metadata": {},
   "source": [
    "**Note**: inpgen calculation submitted by SCF workchain is always submitted with an option:\n",
    " \n",
    "    {'resources' : {\"num_machines\": 1, \"num_mpiprocs_per_machine\" : 1}, 'withmpi' : False}\n",
    "    \n",
    "which means the resourses specified in SCF input apply to `FleruCalculation` only."
   ]
  },
  {
   "cell_type": "markdown",
   "metadata": {},
   "source": [
    "Finally, we need to load Fleur and inpgen nodes:"
   ]
  },
  {
   "cell_type": "code",
   "execution_count": null,
   "metadata": {},
   "outputs": [],
   "source": [
    "fleur_code = load_node(xxx)\n",
    "inpgen_code = load_node(xxx)"
   ]
  },
  {
   "cell_type": "markdown",
   "metadata": {},
   "source": [
    "### Job submission"
   ]
  },
  {
   "cell_type": "markdown",
   "metadata": {},
   "source": [
    "In contrast to `FluerinpgenCalculation` and `FleurCalculation`, there is no need to assemble inputs in a single dictionary (but one can do it for convinience)."
   ]
  },
  {
   "cell_type": "code",
   "execution_count": null,
   "metadata": {},
   "outputs": [],
   "source": [
    "workchain_pk = submit(FleurScfWorkChain,\n",
    "                      fleur=fleur_code,\n",
    "                      inpgen=inpgen_code,\n",
    "                      calc_parameters=calc_parameters,\n",
    "                      structure=structure,\n",
    "                      wf_parameters=wf_para,\n",
    "                      options=options)\n",
    "print('Submitted SCF workchain pk={}'.format(workchain_pk))"
   ]
  },
  {
   "cell_type": "markdown",
   "metadata": {},
   "source": [
    "Now we can check the status of the workchain simply execitung a cell below:"
   ]
  },
  {
   "cell_type": "code",
   "execution_count": null,
   "metadata": {},
   "outputs": [],
   "source": [
    "# you need to modify this\n",
    "!verdi process status PK"
   ]
  },
  {
   "cell_type": "markdown",
   "metadata": {},
   "source": [
    "You can execute the cell above again and again until it does not say the task is finished. The output for the finished workchain should look like:\n",
    "\n",
    "<img src=\"files/images/scf_print.png\" width=\"400\">\n",
    "\n",
    "\n",
    "You can also check all processes submitted last 24 hours by:"
   ]
  },
  {
   "cell_type": "code",
   "execution_count": null,
   "metadata": {},
   "outputs": [],
   "source": [
    "!verdi process list -a -p 1"
   ]
  },
  {
   "cell_type": "markdown",
   "metadata": {},
   "source": [
    "Finally, when the SCF workchain is finished, you can print out results:"
   ]
  },
  {
   "cell_type": "code",
   "execution_count": null,
   "metadata": {},
   "outputs": [],
   "source": [
    "!verdi data dict show xxx"
   ]
  },
  {
   "cell_type": "markdown",
   "metadata": {},
   "source": [
    "### Results analysis"
   ]
  },
  {
   "cell_type": "markdown",
   "metadata": {},
   "source": [
    "SCF workchain returns three outputs:\n",
    "\n",
    "|name| type | comment|\n",
    "|:--:|:----:|:----------:|\n",
    "|output_scf_wc_para|Dict| results of the workchain|\n",
    "|fleurinp| FleurinpData| FleurinpData that was actually used |\n",
    "|last_fleur_calc_output| Dict | shortcut for last `FluerCalculation` output dict |\n",
    "\n",
    "Some data, given in `output_scf_wc_para` can be visualised via:"
   ]
  },
  {
   "cell_type": "code",
   "execution_count": 5,
   "metadata": {},
   "outputs": [
    {
     "ename": "TypeError",
     "evalue": "plot_convergence_results_m() got an unexpected keyword argument 'modes'",
     "output_type": "error",
     "traceback": [
      "\u001b[0;31m---------------------------------------------------------------------------\u001b[0m",
      "\u001b[0;31mTypeError\u001b[0m                                 Traceback (most recent call last)",
      "\u001b[0;32m<ipython-input-5-91b4be6c2a54>\u001b[0m in \u001b[0;36m<module>\u001b[0;34m()\u001b[0m\n\u001b[1;32m      1\u001b[0m \u001b[0;32mfrom\u001b[0m \u001b[0maiida_fleur\u001b[0m\u001b[0;34m.\u001b[0m\u001b[0mtools\u001b[0m\u001b[0;34m.\u001b[0m\u001b[0mplot\u001b[0m\u001b[0;34m.\u001b[0m\u001b[0mfleur\u001b[0m \u001b[0;32mimport\u001b[0m \u001b[0mplot_fleur\u001b[0m\u001b[0;34m\u001b[0m\u001b[0m\n\u001b[0;32m----> 2\u001b[0;31m \u001b[0mplot_fleur\u001b[0m\u001b[0;34m(\u001b[0m\u001b[0;36m6169\u001b[0m\u001b[0;34m)\u001b[0m\u001b[0;34m\u001b[0m\u001b[0m\n\u001b[0m",
      "\u001b[0;32m/Users/tsep/Documents/aiida/aiida-fleur/aiida_fleur/tools/plot/fleur.py\u001b[0m in \u001b[0;36mplot_fleur\u001b[0;34m(*args, **kwargs)\u001b[0m\n\u001b[1;32m     87\u001b[0m             \u001b[0;31m#print(arg)\u001b[0m\u001b[0;34m\u001b[0m\u001b[0;34m\u001b[0m\u001b[0m\n\u001b[1;32m     88\u001b[0m             \u001b[0;31m# plot alone\u001b[0m\u001b[0;34m\u001b[0m\u001b[0;34m\u001b[0m\u001b[0m\n\u001b[0;32m---> 89\u001b[0;31m             \u001b[0mplot_fleur_sn\u001b[0m\u001b[0;34m(\u001b[0m\u001b[0marg\u001b[0m\u001b[0;34m,\u001b[0m \u001b[0mshow_dict\u001b[0m\u001b[0;34m=\u001b[0m\u001b[0mshow_dict\u001b[0m\u001b[0;34m,\u001b[0m \u001b[0msave\u001b[0m\u001b[0;34m=\u001b[0m\u001b[0msave\u001b[0m\u001b[0;34m)\u001b[0m\u001b[0;34m\u001b[0m\u001b[0m\n\u001b[0m\u001b[1;32m     90\u001b[0m \u001b[0;34m\u001b[0m\u001b[0m\n\u001b[1;32m     91\u001b[0m \u001b[0;34m\u001b[0m\u001b[0m\n",
      "\u001b[0;32m/Users/tsep/Documents/aiida/aiida-fleur/aiida_fleur/tools/plot/fleur.py\u001b[0m in \u001b[0;36mplot_fleur_sn\u001b[0;34m(node, show_dict, save)\u001b[0m\n\u001b[1;32m    122\u001b[0m                     \u001b[0mpprint\u001b[0m\u001b[0;34m(\u001b[0m\u001b[0mp_dict\u001b[0m\u001b[0;34m)\u001b[0m\u001b[0;34m\u001b[0m\u001b[0m\n\u001b[1;32m    123\u001b[0m                 \u001b[0;32mreturn\u001b[0m\u001b[0;34m\u001b[0m\u001b[0m\n\u001b[0;32m--> 124\u001b[0;31m             \u001b[0mplotf\u001b[0m\u001b[0;34m(\u001b[0m\u001b[0mnode\u001b[0m\u001b[0;34m)\u001b[0m\u001b[0;34m\u001b[0m\u001b[0m\n\u001b[0m\u001b[1;32m    125\u001b[0m         \u001b[0;32melse\u001b[0m\u001b[0;34m:\u001b[0m\u001b[0;34m\u001b[0m\u001b[0m\n\u001b[1;32m    126\u001b[0m             \u001b[0;32mprint\u001b[0m\u001b[0;34m(\u001b[0m\u001b[0;34m(\u001b[0m\u001b[0;34m'I do not know how to visualize this node: {}, type {}'\u001b[0m\u001b[0;34m.\u001b[0m\u001b[0mformat\u001b[0m\u001b[0;34m(\u001b[0m\u001b[0mnode\u001b[0m\u001b[0;34m,\u001b[0m \u001b[0mtype\u001b[0m\u001b[0;34m(\u001b[0m\u001b[0mnode\u001b[0m\u001b[0;34m)\u001b[0m\u001b[0;34m)\u001b[0m\u001b[0;34m)\u001b[0m\u001b[0;34m)\u001b[0m\u001b[0;34m\u001b[0m\u001b[0m\n",
      "\u001b[0;32m/Users/tsep/Documents/aiida/aiida-fleur/aiida_fleur/tools/plot/fleur.py\u001b[0m in \u001b[0;36mplot_fleur_scf_wc\u001b[0;34m(nodes, labels)\u001b[0m\n\u001b[1;32m    240\u001b[0m                                    plot_labels=labels, modes=modes)        \n\u001b[1;32m    241\u001b[0m     \u001b[0;32melse\u001b[0m\u001b[0;34m:\u001b[0m\u001b[0;34m\u001b[0m\u001b[0m\n\u001b[0;32m--> 242\u001b[0;31m         \u001b[0mplot_convergence_results_m\u001b[0m\u001b[0;34m(\u001b[0m\u001b[0mdistance_all_n\u001b[0m\u001b[0;34m,\u001b[0m \u001b[0mtotal_energy_n\u001b[0m\u001b[0;34m,\u001b[0m \u001b[0miterations\u001b[0m\u001b[0;34m,\u001b[0m \u001b[0mmodes\u001b[0m\u001b[0;34m=\u001b[0m\u001b[0mmodes\u001b[0m\u001b[0;34m)\u001b[0m\u001b[0;34m\u001b[0m\u001b[0m\n\u001b[0m\u001b[1;32m    243\u001b[0m \u001b[0;34m\u001b[0m\u001b[0m\n\u001b[1;32m    244\u001b[0m \u001b[0;32mdef\u001b[0m \u001b[0mplot_fleur_dos_wc\u001b[0m\u001b[0;34m(\u001b[0m\u001b[0mnode\u001b[0m\u001b[0;34m,\u001b[0m \u001b[0mlabels\u001b[0m\u001b[0;34m=\u001b[0m\u001b[0;34m[\u001b[0m\u001b[0;34m]\u001b[0m\u001b[0;34m)\u001b[0m\u001b[0;34m:\u001b[0m\u001b[0;34m\u001b[0m\u001b[0m\n",
      "\u001b[0;31mTypeError\u001b[0m: plot_convergence_results_m() got an unexpected keyword argument 'modes'"
     ]
    }
   ],
   "source": [
    "from aiida_fleur.tools.plot.fleur import plot_fleur\n",
    "plot_fleur(6169)"
   ]
  },
  {
   "cell_type": "markdown",
   "metadata": {},
   "source": [
    "## Higher-level workchains"
   ]
  },
  {
   "cell_type": "markdown",
   "metadata": {},
   "source": [
    "And now - finally - we will see the real power of the workchains. We are going to use two higher-level workchains for Magnetic Anisitropy Energy (MAE) and Spin Spiral Dispersion (SSDisp) calculation. As it is shown on the hierarchy scheme, there are two types of MAE and SSDisp workchains: force-theorem and convergence ones. In this tutorial we will use force-theorem workchains only that first submit a single SCF workchain to obtain the reference charge density and later submits a single FleurCalculation task to run the force theorem calculation."
   ]
  },
  {
   "cell_type": "markdown",
   "metadata": {},
   "source": [
    "### Magnetic anisotropy workchain "
   ]
  },
  {
   "cell_type": "markdown",
   "metadata": {},
   "source": [
    "A table of possible inputs looks the same as for SCF:"
   ]
  },
  {
   "cell_type": "markdown",
   "metadata": {},
   "source": [
    "|name|type|describtion| required |\n",
    "|:---:|:---:|:---------:|:---:|\n",
    "|fleur | Code | Fleur code | yes |\n",
    "|inpgen | Code | Inpgen code| no |\n",
    "|wf_parameters | Dict | Settings of the workchain| no |\n",
    "|structure | StructureData | Structure data node| no |\n",
    "|calc_parameters | Dict | FLAPW parameters, used by inpgen| no |\n",
    "|fleurinp | FleurinpData | FLEUR input files| no |\n",
    "|remote_data | RemoteData | Remote folder to find cdn1| no |\n",
    "|options | Dict | AiiDA options (computational resourses)| no |"
   ]
  },
  {
   "cell_type": "markdown",
   "metadata": {},
   "source": [
    "Again we see a lot of optional inputs - but you *must* follow one of the supported imput configurations. They are similar to the SCF workchain and I will not cover all of them here, let us just use the **fleur** + **inpgen** + **structure** mode. Let us also specify workchain parameters and computational resourses."
   ]
  },
  {
   "cell_type": "code",
   "execution_count": null,
   "metadata": {},
   "outputs": [],
   "source": [
    "options = Dict(dict={'resources' : {\"num_mpiprocs_per_machine\" : 2}})"
   ]
  },
  {
   "cell_type": "code",
   "execution_count": null,
   "metadata": {},
   "outputs": [],
   "source": [
    "wf_para = Dict(dict={'sqa_ref': [0.7, 0.7],                    # theta and phi for reference calculation\n",
    "                     'use_soc_ref': False,                     # True if switch on SOC terms for reference\n",
    "                     'sqas_theta': [0.0, 1.57079, 1.57079],    # a list of theta values to calculate via the FT\n",
    "                     'sqas_phi': [0.0, 0.0, 1.57079],          # a list of phi values to calculate via the FT\n",
    "                     'fleur_runmax': 10,                       # passed to SCF workchain\n",
    "                     'density_converged': 0.02,                # passed to SCF workchain\n",
    "                     'serial': False,                          # passed to SCF workchain\n",
    "                     'itmax_per_run': 30                       # passed to SCF workchain\n",
    "                    })"
   ]
  },
  {
   "cell_type": "code",
   "execution_count": null,
   "metadata": {},
   "outputs": [],
   "source": [
    "calc_parameters = Dict(dict={\n",
    "    'kpt': {\n",
    "        'div1': 12,\n",
    "        'div2' : 10,\n",
    "        'div3' : 1\n",
    "        }})"
   ]
  },
  {
   "cell_type": "code",
   "execution_count": null,
   "metadata": {},
   "outputs": [],
   "source": [
    "fleur_code = load_node(xxx)\n",
    "inpgen_code = load_node(xxx)"
   ]
  },
  {
   "cell_type": "markdown",
   "metadata": {},
   "source": [
    "In this tutorial we want to be even more productive - let us define not a single structure but three of them! Import Fe, Co and Ni structures that we created in tutorial 1:"
   ]
  },
  {
   "cell_type": "code",
   "execution_count": null,
   "metadata": {},
   "outputs": [],
   "source": [
    "fe_structure = load_node(xxx)\n",
    "co_structure = load_node(xxx)\n",
    "ni_structure = load_node(xxx)\n",
    "\n",
    "input_structures = [fe_structure, co_structure, ni_structure]"
   ]
  },
  {
   "cell_type": "markdown",
   "metadata": {},
   "source": [
    "And calculate magnetic anisotropy energy for all of them:"
   ]
  },
  {
   "cell_type": "code",
   "execution_count": null,
   "metadata": {},
   "outputs": [],
   "source": [
    "for structure in input_structures:\n",
    "    workchain_pk = submit(FleurMaeWorkChain,\n",
    "                          fleur=fleur_code,\n",
    "                          inpgen=inpgen_code,\n",
    "                          calc_parameters=calc_parameters,\n",
    "                          structure=structure,\n",
    "                          wf_parameters=wf_para)\n",
    "    print('Submitted Mae workchain pk={} for {} structure'.format(workchain_pk, structure.get_formula()))"
   ]
  },
  {
   "cell_type": "markdown",
   "metadata": {},
   "source": [
    "Again, you can check if it is finished via:"
   ]
  },
  {
   "cell_type": "code",
   "execution_count": 4,
   "metadata": {},
   "outputs": [
    {
     "name": "stdout",
     "output_type": "stream",
     "text": []
    }
   ],
   "source": [
    "# you need to modify this (add a process PK)\n",
    "!verdi node show "
   ]
  },
  {
   "cell_type": "markdown",
   "metadata": {},
   "source": [
    "Now you let us proceed to the final task - Spin spiral dispersion workchain."
   ]
  },
  {
   "cell_type": "markdown",
   "metadata": {},
   "source": [
    "### Spin-spiral dispersion workchain"
   ]
  },
  {
   "cell_type": "markdown",
   "metadata": {},
   "source": [
    "Spin spiral dispersion workchain has the same input nodes as MAE workchain. This time we will cover another input configuration: `fleur + fleurinp`. We will use FleurinpData objects generated in section 2. To use them, type:"
   ]
  },
  {
   "cell_type": "code",
   "execution_count": null,
   "metadata": {},
   "outputs": [],
   "source": [
    "inpgen_calc_Fe = load_node(xxx)\n",
    "inpgen_calc_Co = load_node(xxx)\n",
    "inpgen_calc_Ni = load_node(xxx)\n",
    "\n",
    "fleurinp_Fe = inpgen_calc_Fe.outputs.fleurinp\n",
    "fleurinp_Co = inpgen_calc_Co.outputs.fleurinp\n",
    "fleurinp_Ni = inpgen_calc_Ni.outputs.fleurinp\n",
    "\n",
    "fleurinp_data_list = [fleurinp_Fe, fleurinp_Co, fleurinp_Ni]"
   ]
  },
  {
   "cell_type": "markdown",
   "metadata": {},
   "source": [
    "As always, we need to initialise the other inputs:"
   ]
  },
  {
   "cell_type": "code",
   "execution_count": null,
   "metadata": {},
   "outputs": [],
   "source": [
    "wf_para = Dict(dict={'fleur_runmax' : 3,                    # passed to SCF workchain\n",
    "                     'itmax_per_run' : 30,                  # passed to SCF workchain\n",
    "                     'density_converged' : 0.002,           # passed to SCF workchain\n",
    "                     'serial' : False,                      # passed to SCF workchain\n",
    "                     'beta' : {'all' : 1.57079},            # sets beta angle for all atoms\n",
    "                     'q_vectors': [[0.0, 0.0, 0.0,          # set q-vectors to calculate\n",
    "                                   [0.125, 0.125, 0.0],     \n",
    "                                   [0.250, 0.250, 0.0],     \n",
    "                                   [0.375, 0.375, 0.0],     \n",
    "                                   [0.500, 0.500, 0.0]],     \n",
    "                     'ref_qss' : [0.0, 0.0, 0.0]            # sets a q-vector of the reference calc\n",
    "                    })"
   ]
  },
  {
   "cell_type": "code",
   "execution_count": null,
   "metadata": {},
   "outputs": [],
   "source": [
    "options = Dict(dict={'resources' : {\"num_mpiprocs_per_machine\" : 2}})\n",
    "\n",
    "calc_parameters = Dict(dict={\n",
    "    'kpt': {\n",
    "        'div1': 12,\n",
    "        'div2' : 10,\n",
    "        'div3' : 1\n",
    "        }})\n",
    "\n",
    "fleur_code = load_node(xxx)\n",
    "inpgen_code = load_node(xxx)"
   ]
  },
  {
   "cell_type": "code",
   "execution_count": null,
   "metadata": {},
   "outputs": [],
   "source": [
    "for fleuinp in fleurinp_data_list:\n",
    "    workchain_pk = submit(FleurSSDispWorkChain,\n",
    "                          fleur=fleur_code,\n",
    "                          calc_parameters=calc_parameters,\n",
    "                          wf_parameters=wf_para,\n",
    "                          fleurinp=fleurinp)\n",
    "    print('Submitted SSDisp workchain pk={} for {} structure'.format(workchain_pk, structure.get_formula()))"
   ]
  },
  {
   "cell_type": "markdown",
   "metadata": {},
   "source": [
    "# Scripting tasks"
   ]
  },
  {
   "cell_type": "markdown",
   "metadata": {},
   "source": []
  }
 ],
 "metadata": {
  "@webio": {
   "lastCommId": null,
   "lastKernelId": null
  },
  "kernelspec": {
   "display_name": "Python 2",
   "language": "python",
   "name": "python2"
  },
  "language_info": {
   "codemirror_mode": {
    "name": "ipython",
    "version": 2
   },
   "file_extension": ".py",
   "mimetype": "text/x-python",
   "name": "python",
   "nbconvert_exporter": "python",
   "pygments_lexer": "ipython2",
   "version": "2.7.16"
  }
 },
 "nbformat": 4,
 "nbformat_minor": 2
}
