{
 "cells": [
  {
   "cell_type": "markdown",
   "metadata": {},
   "source": [
    "# Workchains and high-throughput study"
   ]
  },
  {
   "cell_type": "markdown",
   "metadata": {},
   "source": [
    "Workchains are key-turn solutions for a particular problem. They are essential part of AiiDA package. The main task of a workchain is to automatically perform a certain task keeping the history of all performed actions.\n",
    "In this part of the tutorial you will explore and learn how to work with AiiDA-Fleur workchains."
   ]
  },
  {
   "cell_type": "markdown",
   "metadata": {},
   "source": [
    "Wokchains behave themselves similarly to a calculation: basically it can be treated as a black box that uses user's input and produces some output. For example, the SCF workchain is an engine that generates self-consistent charge denstity and other parameters for a given structure."
   ]
  },
  {
   "cell_type": "markdown",
   "metadata": {},
   "source": [
    "The other important this is that workchains can be used in a higer-level workchains."
   ]
  },
  {
   "cell_type": "markdown",
   "metadata": {},
   "source": [
    "## Workchain hierarchy "
   ]
  },
  {
   "cell_type": "markdown",
   "metadata": {},
   "source": [
    "That is the hierarchy of all implemented workchains in AiiDA-Fleur v1.0.0. Black arrows mean the use of a workchain by another one. For instance, the Structure Optimization WorkChain uses the SCF workchain inside it.\n",
    "It is clealy seen that every higher-level workchain uses the SCF one. The SCF workchain itself uses FleurCalculation.\n",
    "\n",
    "<img src=\"files/images/workchains.png\" width=\"600\">"
   ]
  },
  {
   "cell_type": "markdown",
   "metadata": {
    "slideshow": {
     "slide_type": "slide"
    }
   },
   "source": [
    "In next section we will cover the SCF workchain."
   ]
  },
  {
   "cell_type": "markdown",
   "metadata": {},
   "source": [
    "## SCF WorkChain "
   ]
  },
  {
   "cell_type": "markdown",
   "metadata": {},
   "source": [
    "The SCF workchain is responsible for converging charge density for a given structure."
   ]
  },
  {
   "cell_type": "markdown",
   "metadata": {},
   "source": [
    "### Inputs of the SCF WorkChain"
   ]
  },
  {
   "cell_type": "markdown",
   "metadata": {},
   "source": [
    "|name|type|describtion| required |\n",
    "|:---:|:---:|:---------:|:---:|\n",
    "|fleur | Code | Fleur code | yes |\n",
    "|inpgen | Code | Inpgen code| no |\n",
    "|wf_parameters | Dict | Settings of the workchain| no |\n",
    "|structure | StructureData | Structure data node| no |\n",
    "|calc_parameters | Dict | FLAPW parameters, used by inpgen| no |\n",
    "|fleurinp | FleurinpData | FLEUR input files| no |\n",
    "|remote_data | RemoteData | Remote folder of the previous calculation| no |\n",
    "|options | Dict | AiiDA options (computational resourses)| no |\n",
    "|settings | Dict | special settings for Fleur calculation| no |"
   ]
  },
  {
   "cell_type": "markdown",
   "metadata": {},
   "source": [
    "Only Fleur code is required but it does not mean that one can run the SCF workchain giving only Fleur code. You **must** to follow on of the supported input configuration templates:\n",
    "\n",
    "* fleur + fleurinp\n",
    "* fleur + fleurinp + remote_data\n",
    "* fleur + remote_data\n",
    "* fleur + inpgen + structure\n",
    "\n",
    "In other case the workchain will thow an error or more dangerously, perform an unexpected task."
   ]
  },
  {
   "cell_type": "markdown",
   "metadata": {},
   "source": [
    "In this tutorial we will cover only the last input configuration: we need to specify Fleur and inpgen codes and a structure. We also want to control workchain behaviour and do not use defaults for computational resources."
   ]
  },
  {
   "cell_type": "code",
   "execution_count": 1,
   "metadata": {},
   "outputs": [
    {
     "ename": "ImportError",
     "evalue": "No module named aiida",
     "output_type": "error",
     "traceback": [
      "\u001b[0;31m---------------------------------------------------------------------------\u001b[0m",
      "\u001b[0;31mImportError\u001b[0m                               Traceback (most recent call last)",
      "\u001b[0;32m<ipython-input-1-8989afc007d3>\u001b[0m in \u001b[0;36m<module>\u001b[0;34m()\u001b[0m\n\u001b[0;32m----> 1\u001b[0;31m \u001b[0;32mimport\u001b[0m \u001b[0maiida\u001b[0m\u001b[0;34m\u001b[0m\u001b[0m\n\u001b[0m",
      "\u001b[0;31mImportError\u001b[0m: No module named aiida"
     ]
    }
   ],
   "source": [
    "import aiida"
   ]
  },
  {
   "cell_type": "code",
   "execution_count": null,
   "metadata": {},
   "outputs": [],
   "source": []
  }
 ],
 "metadata": {
  "kernelspec": {
   "display_name": "Python 2",
   "language": "python",
   "name": "python2"
  }
 },
 "nbformat": 4,
 "nbformat_minor": 2
}
