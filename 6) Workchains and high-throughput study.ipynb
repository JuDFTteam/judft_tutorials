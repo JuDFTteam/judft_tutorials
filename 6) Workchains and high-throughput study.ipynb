{
 "cells": [
  {
   "cell_type": "markdown",
   "metadata": {},
   "source": [
    "*please execute the cell below before starting the tutorial*"
   ]
  },
  {
   "cell_type": "code",
   "execution_count": null,
   "metadata": {},
   "outputs": [],
   "source": [
    "from aiida.orm import Dict, load_node\n",
    "from aiida.engine import submit\n",
    "from aiida_fleur.workflows.scf import FleurScfWorkChain\n",
    "from aiida_fleur.workflows.mae import FleurMaeWorkChain"
   ]
  },
  {
   "cell_type": "markdown",
   "metadata": {},
   "source": [
    "# Workchains and high-throughput study"
   ]
  },
  {
   "cell_type": "markdown",
   "metadata": {},
   "source": [
    "Workchains are key-turn solutions for a particular problem. They are essential part of AiiDA package. The main task of a workchain is to automatically perform a certain task keeping the history of all performed actions.\n",
    "In this part of the tutorial you will explore and learn how to work with AiiDA-Fleur workchains."
   ]
  },
  {
   "cell_type": "markdown",
   "metadata": {},
   "source": [
    "Wokchains behave themselves similarly to a calculation: basically it can be treated as a black box that uses user's input and produces some output. For example, the SCF workchain is an engine that generates self-consistent charge denstity and other parameters for a given structure."
   ]
  },
  {
   "cell_type": "markdown",
   "metadata": {},
   "source": [
    "The other important this is that workchains can be used in a higer-level workchains."
   ]
  },
  {
   "cell_type": "markdown",
   "metadata": {},
   "source": [
    "## Workchain hierarchy "
   ]
  },
  {
   "cell_type": "markdown",
   "metadata": {},
   "source": [
    "That is the hierarchy of all implemented workchains in AiiDA-Fleur v1.0.0. Black arrows mean the use of a workchain by another one. For instance, the Structure Optimization WorkChain uses the SCF workchain inside it.\n",
    "It is clealy seen that every higher-level workchain uses the SCF one. The SCF workchain itself uses FleurCalculation.\n",
    "\n",
    "<img src=\"files/images/workchains.png\" width=\"600\">"
   ]
  },
  {
   "cell_type": "markdown",
   "metadata": {
    "slideshow": {
     "slide_type": "slide"
    }
   },
   "source": [
    "In next section we will cover the SCF workchain."
   ]
  },
  {
   "cell_type": "markdown",
   "metadata": {},
   "source": [
    "## SCF WorkChain "
   ]
  },
  {
   "cell_type": "markdown",
   "metadata": {},
   "source": [
    "The SCF workchain is responsible for converging charge density for a given structure."
   ]
  },
  {
   "cell_type": "markdown",
   "metadata": {},
   "source": [
    "### Inputs of the SCF WorkChain"
   ]
  },
  {
   "cell_type": "markdown",
   "metadata": {},
   "source": [
    "|name|type|describtion| required |\n",
    "|:---:|:---:|:---------:|:---:|\n",
    "|fleur | Code | Fleur code | yes |\n",
    "|inpgen | Code | Inpgen code| no |\n",
    "|wf_parameters | Dict | Settings of the workchain| no |\n",
    "|structure | StructureData | Structure data node| no |\n",
    "|calc_parameters | Dict | FLAPW parameters, used by inpgen| no |\n",
    "|fleurinp | FleurinpData | FLEUR input files| no |\n",
    "|remote_data | RemoteData | Remote folder of the previous calculation| no |\n",
    "|options | Dict | AiiDA options (computational resourses)| no |\n",
    "|settings | Dict | special settings for Fleur calculation| no |"
   ]
  },
  {
   "cell_type": "markdown",
   "metadata": {},
   "source": [
    "Only Fleur code is required but it does not mean that one can run the SCF workchain giving only Fleur code. You **must** to follow on of the supported input configuration templates:\n",
    "\n",
    "* fleur + fleurinp\n",
    "* fleur + fleurinp + remote_data\n",
    "* fleur + remote_data\n",
    "* fleur + inpgen + structure\n",
    "\n",
    "In other case the workchain will thow an error or more dangerously, perform an unexpected task."
   ]
  },
  {
   "cell_type": "markdown",
   "metadata": {},
   "source": [
    "In this tutorial we will cover only the last input configuration: we need to specify Fleur and inpgen codes and a structure. We also want to control workchain behaviour and do not use defaults for computational resources."
   ]
  },
  {
   "cell_type": "markdown",
   "metadata": {},
   "source": [
    "Firs of all, let us setup input parameters for the workchain:"
   ]
  },
  {
   "cell_type": "code",
   "execution_count": null,
   "metadata": {},
   "outputs": [],
   "source": [
    "wf_para = Dict(dict={'fleur_runmax' : 3,           # maximal number of Fleur submissions\n",
    "                     'density_converge' : 0.001,   # density convergence criterion\n",
    "                     'mode' : 'density',           # we choose density to converge\n",
    "                     'itmax_per_run' : 30,         # number of iterations in each Fleur submission\n",
    "                     'serial' : False})            # we use mpi version of Fleur"
   ]
  },
  {
   "cell_type": "markdown",
   "metadata": {},
   "source": [
    "Next, define computational resourses. Since we submit Fleur calculation to the local virtual machine, it is enough to specify total number of mpi tasks:"
   ]
  },
  {
   "cell_type": "code",
   "execution_count": null,
   "metadata": {},
   "outputs": [],
   "source": [
    "options = Dict(dict={'resources' : {\"num_mpiprocs_per_machine\" : 2}})"
   ]
  },
  {
   "cell_type": "markdown",
   "metadata": {},
   "source": [
    "We have already created StructureData node in the tutorial number 1. Let us use the stored value:"
   ]
  },
  {
   "cell_type": "markdown",
   "metadata": {},
   "source": [
    "structure = load_node(xxx)"
   ]
  },
  {
   "cell_type": "markdown",
   "metadata": {},
   "source": [
    "Parameters for inpgen code. For now we set k-mesh only:"
   ]
  },
  {
   "cell_type": "code",
   "execution_count": null,
   "metadata": {},
   "outputs": [],
   "source": [
    "calc_parameters = Dict(dict={\n",
    "    'kpt': {\n",
    "        'div1': 12,\n",
    "        'div2' : 10,\n",
    "        'div3' : 1\n",
    "        }})"
   ]
  },
  {
   "cell_type": "markdown",
   "metadata": {},
   "source": [
    "Finally, we need to load Fleur and inpgen nodes:"
   ]
  },
  {
   "cell_type": "code",
   "execution_count": null,
   "metadata": {},
   "outputs": [],
   "source": [
    "fleur_code = load_node(xxx)\n",
    "inpgen_code = load_node(xxx)"
   ]
  },
  {
   "cell_type": "markdown",
   "metadata": {},
   "source": [
    "Submit the SCF workchain:"
   ]
  },
  {
   "cell_type": "code",
   "execution_count": null,
   "metadata": {},
   "outputs": [],
   "source": [
    "workchain_pk = submit(FleurScfWorkChain,\n",
    "                      fleur=fleur_code,\n",
    "                      inpgen=inpgen_code,\n",
    "                      calc_parameters=calc_parameters,\n",
    "                      structure=structure,\n",
    "                      wf_parameters=wf_para)\n",
    "print('Submitted SCF workchain pk={}'.format(workchain_pk))"
   ]
  },
  {
   "cell_type": "markdown",
   "metadata": {},
   "source": [
    "## Higher-level workchains"
   ]
  },
  {
   "cell_type": "markdown",
   "metadata": {},
   "source": [
    "And now - finally - we will see the real power of the workchains. Remember, how you struggled with tutorials on Monday and Tuesday? The stuggle is finished. Let us repeat all of these calculations in an hour."
   ]
  },
  {
   "cell_type": "markdown",
   "metadata": {},
   "source": [
    "### Magnetic anisotropy workchain "
   ]
  },
  {
   "cell_type": "markdown",
   "metadata": {},
   "source": [
    "A table of possible inputs looks the same as for SCF:"
   ]
  },
  {
   "cell_type": "markdown",
   "metadata": {},
   "source": [
    "|name|type|describtion| required |\n",
    "|:---:|:---:|:---------:|:---:|\n",
    "|fleur | Code | Fleur code | yes |\n",
    "|inpgen | Code | Inpgen code| no |\n",
    "|wf_parameters | Dict | Settings of the workchain| no |\n",
    "|structure | StructureData | Structure data node| no |\n",
    "|calc_parameters | Dict | FLAPW parameters, used by inpgen| no |\n",
    "|fleurinp | FleurinpData | FLEUR input files| no |\n",
    "|remote_data | RemoteData | Remote folder to find cdn1| no |\n",
    "|options | Dict | AiiDA options (computational resourses)| no |"
   ]
  },
  {
   "cell_type": "markdown",
   "metadata": {},
   "source": [
    "Again we see a lot of optional inputs - but you **must** follow one of the supported imput configurations. They are similar to the SCF workchain and I will not cover all of them here, let us just use the `fleur + inpgen + structure` mode. Let us also specify workchain parameters and computational resourses."
   ]
  },
  {
   "cell_type": "code",
   "execution_count": null,
   "metadata": {},
   "outputs": [],
   "source": [
    "options = Dict(dict={'resources' : {\"num_mpiprocs_per_machine\" : 2}})"
   ]
  },
  {
   "cell_type": "code",
   "execution_count": null,
   "metadata": {},
   "outputs": [],
   "source": [
    "wf_para = Dict(dict={'sqa_ref': [0.7, 0.7],                    # theta and phi for reference calculation\n",
    "                     'use_soc_ref': False,                     # True if switch SOC on for reference\n",
    "                     'sqas_theta': [0.0, 1.57079, 1.57079],    # a list of theta values to calculate\n",
    "                     'sqas_phi': [0.0, 0.0, 1.57079],          # a list of phi values to calculate\n",
    "                     'fleur_runmax': 10,                       # passed to SCF workchain\n",
    "                     'density_converged': 0.02,                # passed to SCF workchain\n",
    "                     'serial': False,                          # passed to SCF workchain\n",
    "                     'itmax_per_run': 30                       # passed to SCF workchain\n",
    "                    })"
   ]
  },
  {
   "cell_type": "code",
   "execution_count": null,
   "metadata": {},
   "outputs": [],
   "source": [
    "calc_parameters = Dict(dict={\n",
    "    'kpt': {\n",
    "        'div1': 12,\n",
    "        'div2' : 10,\n",
    "        'div3' : 1\n",
    "        }})"
   ]
  },
  {
   "cell_type": "code",
   "execution_count": null,
   "metadata": {},
   "outputs": [],
   "source": [
    "fleur_code = load_node(xxx)\n",
    "inpgen_code = load_node(xxx)"
   ]
  },
  {
   "cell_type": "markdown",
   "metadata": {},
   "source": [
    "In this tutorial we want to be even more productive - let us define not a single structure but three of them! Import Fe, Co and Ni structures:"
   ]
  },
  {
   "cell_type": "code",
   "execution_count": null,
   "metadata": {},
   "outputs": [],
   "source": [
    "fe_structure = load_node(xxx)\n",
    "co_structure = load_node(xxx)\n",
    "ni_structure = load_node(xxx)\n",
    "\n",
    "input_structures = [fe_structure, co_structure, ni_structure]"
   ]
  },
  {
   "cell_type": "markdown",
   "metadata": {},
   "source": [
    "And calculate magnetic anisotropy energy for all of them:"
   ]
  },
  {
   "cell_type": "code",
   "execution_count": null,
   "metadata": {},
   "outputs": [],
   "source": [
    "for structure in input_structures:\n",
    "    workchain_pk = submit(FleurMaeWorkChain,\n",
    "                          fleur=fleur_code,\n",
    "                          inpgen=inpgen_code,\n",
    "                          calc_parameters=calc_parameters,\n",
    "                          structure=structure,\n",
    "                          wf_parameters=wf_para)\n",
    "    print('Submitted Mae workchain pk={} for {} structure'.format(workchain_pk, structure.get_formula()))"
   ]
  },
  {
   "cell_type": "markdown",
   "metadata": {},
   "source": [
    "Now you let us proceed to the final task - Spin spiral dispersion workchain."
   ]
  },
  {
   "cell_type": "markdown",
   "metadata": {},
   "source": [
    "### Spin-spiral dispersion workchain"
   ]
  },
  {
   "cell_type": "markdown",
   "metadata": {},
   "source": [
    "Spin spiral dispersion workchain has the same input nodes as MAE workchain. This time we will cover another input configuration: `fleur + fleurinp`. We will use FleurinpData objects generated in section 2. To use them, type:"
   ]
  },
  {
   "cell_type": "code",
   "execution_count": null,
   "metadata": {},
   "outputs": [],
   "source": [
    "inpgen_calc_Fe = load_node(xxx)\n",
    "inpgen_calc_Co = load_node(xxx)\n",
    "inpgen_calc_Ni = load_node(xxx)\n",
    "\n",
    "fleurinp_Fe = inpgen_calc_Fe.outputs.fleurinp\n",
    "fleurinp_Co = inpgen_calc_Co.outputs.fleurinp\n",
    "fleurinp_Ni = inpgen_calc_Ni.outputs.fleurinp\n",
    "\n",
    "fleurinp_data_list = [fleurinp_Fe, fleurinp_Co, fleurinp_Ni]"
   ]
  },
  {
   "cell_type": "markdown",
   "metadata": {},
   "source": [
    "As always, we need to initialise the other inputs:"
   ]
  },
  {
   "cell_type": "code",
   "execution_count": null,
   "metadata": {},
   "outputs": [],
   "source": [
    "options = Dict(dict={'resources' : {\"num_mpiprocs_per_machine\" : 2}})"
   ]
  },
  {
   "cell_type": "code",
   "execution_count": null,
   "metadata": {},
   "outputs": [],
   "source": [
    "wf_para = Dict(dict={'fleur_runmax' : 3,                    # passed to SCF workchain\n",
    "                     'itmax_per_run' : 30,                  # passed to SCF workchain\n",
    "                     'density_converged' : 0.002,           # passed to SCF workchain\n",
    "                     'serial' : False,                      # passed to SCF workchain\n",
    "                     'beta' : {'all' : 1.57079},            # sets beta angle for all atoms\n",
    "                     'q_vectors': [[0.0, 0.0, 0.0,          # set q-vectors to calculate\n",
    "                                   [0.125, 0.125, 0.0],     \n",
    "                                   [0.250, 0.250, 0.0],     \n",
    "                                   [0.375, 0.375, 0.0],     \n",
    "                                   [0.500, 0.500, 0.0]],     \n",
    "                     'ref_qss' : [0.0, 0.0, 0.0]            # sets a q-vector of the reference calc\n",
    "                    })"
   ]
  },
  {
   "cell_type": "code",
   "execution_count": null,
   "metadata": {},
   "outputs": [],
   "source": [
    "calc_parameters = Dict(dict={\n",
    "    'kpt': {\n",
    "        'div1': 12,\n",
    "        'div2' : 10,\n",
    "        'div3' : 1\n",
    "        }})"
   ]
  },
  {
   "cell_type": "code",
   "execution_count": null,
   "metadata": {},
   "outputs": [],
   "source": [
    "fleur_code = load_node(xxx)\n",
    "inpgen_code = load_node(xxx)"
   ]
  },
  {
   "cell_type": "code",
   "execution_count": null,
   "metadata": {},
   "outputs": [],
   "source": [
    "for fleuinp in fleurinp_data_list:\n",
    "    workchain_pk = submit(FleurSSDispWorkChain,\n",
    "                          fleur=fleur_code,\n",
    "                          calc_parameters=calc_parameters,\n",
    "                          wf_parameters=wf_para,\n",
    "                          fleurinp=fleurinp)\n",
    "    print('Submitted SSDisp workchain pk={} for {} structure'.format(workchain_pk, structure.get_formula()))"
   ]
  },
  {
   "cell_type": "code",
   "execution_count": null,
   "metadata": {},
   "outputs": [],
   "source": []
  }
 ],
 "metadata": {
  "@webio": {
   "lastCommId": null,
   "lastKernelId": null
  },
  "kernelspec": {
   "display_name": "Python 2",
   "language": "python",
   "name": "python2"
  },
  "language_info": {
   "codemirror_mode": {
    "name": "ipython",
    "version": 2
   },
   "file_extension": ".py",
   "mimetype": "text/x-python",
   "name": "python",
   "nbconvert_exporter": "python",
   "pygments_lexer": "ipython2",
   "version": "2.7.16"
  }
 },
 "nbformat": 4,
 "nbformat_minor": 2
}
