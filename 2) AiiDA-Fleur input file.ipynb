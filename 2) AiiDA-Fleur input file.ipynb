{
 "cells": [
  {
   "cell_type": "markdown",
   "metadata": {},
   "source": [
    "# AiiDA-Fleur input file"
   ]
  },
  {
   "cell_type": "markdown",
   "metadata": {},
   "source": [
    "## Table of contents\n",
    "<ul class=\"toc-item\">\n",
    "    <li><a href=\"#Introduction\">Introduction</a></li>\n",
    "    <li><a href=\"#FleurinpData\">FleurinpData</a></li>\n",
    "</ul>"
   ]
  },
  {
   "cell_type": "markdown",
   "metadata": {},
   "source": [
    "## Introduction\n",
    "\n",
    "Running an inpgen calculation needs at least  a `code` node and a `StructureData` node. A `parameter` node and an `settings` node are optional. These form the input for the `FleurinputgenCalculation`. \n",
    "\n",
    "A successfull `Fleurinpgencalculation` generates three output nodes namely,\n",
    "`fleurinpData`( type: `FleurinpData` ) which represents  the `inp.xml`, \n",
    "`remote_folder`( type: `FolderData` )which represents the calculation folder  and\n",
    "`retrieved` (type: `FolderData` ) which represents retrieved folder. \n",
    "\n",
    "The creation and usage of these data objects and running the input generator (`inpgen`) are described in the notebook 4. For this tutorial we will start from an `inp.xml` file we already have and the `FleurinpData` class."
   ]
  },
  {
   "cell_type": "markdown",
   "metadata": {},
   "source": [
    "**NOTE**: You can see all the associated methods of these classes using the `.` operator and pressing tab in <i>jupyter-notebook</i> or <i>jupyter-lab</i>."
   ]
  },
  {
   "cell_type": "markdown",
   "metadata": {},
   "source": [
    "## FleurinpData"
   ]
  },
  {
   "cell_type": "markdown",
   "metadata": {},
   "source": [
    "There is a special class in AiiDA-FLEUR to represent input files for Fleur which is called `FleurinpData`.\n",
    "<!--`FleurinpData` contains all the input files, usually it is only `inp.xml` file.-->\n",
    "Which represents everything a FLEUR calculation needs.\n",
    "It is initialized with an absolute path to an ``inp.xml`` file or a\n",
    "`FolderData` node containing ``inp.xml``.\n",
    "Other files can also be added that will be copied to the remote machine, where the\n",
    "calculation takes place.\n",
    "\n",
    "It stores the files in the repository and stores the input parameters of the\n",
    "``inp.xml`` file of FLEUR in the database as a python dictionary (as internal attributes).\n",
    "When an ``inp.xml`` (name important!) file is added to files, `FleurinpData` searches\n",
    "for a corresponding xml schema file in the PYTHONPATH environment variable.\n",
    "Therefore, it is recommend to have the plug-in source code directory in the python environment.\n",
    "If no corresponding schema file is found an error is raised.\n",
    "\n",
    "`FleurinpData` also provides the user with methods to extract AiiDA `StructureData` and `KpointsData` nodes.\n",
    "\n",
    "Remember that most attributes of AiiDA nodes can not be changed after they\n",
    "have been stored in the database! Therefore, you have to use the `FleurinpModifier` class and its\n",
    "methods if you want to change somthing in the ``inp.xml`` file (more on that in the next notebook). You will retrieve a new\n",
    "`FleurinpData` that way and start a new calculation from it."
   ]
  },
  {
   "cell_type": "code",
   "execution_count": null,
   "metadata": {},
   "outputs": [],
   "source": [
    "# some useful imports \n",
    "import os\n",
    "from aiida import load_dbenv, is_dbenv_loaded\n",
    "if not is_dbenv_loaded():\n",
    "    load_dbenv()"
   ]
  },
  {
   "cell_type": "markdown",
   "metadata": {},
   "source": [
    "`FleurinpData` is an AiiDA datastructure specific to the Fleur Pugin(`aiida-fleur`). One can access this class using the `DataFactory` class provided by the `aiida.orm` module"
   ]
  },
  {
   "cell_type": "code",
   "execution_count": null,
   "metadata": {},
   "outputs": [],
   "source": [
    "from aiida.orm import DataFactory"
   ]
  },
  {
   "cell_type": "code",
   "execution_count": null,
   "metadata": {},
   "outputs": [],
   "source": [
    "# The string 'fleurinp' is provided to the DataFactroy to access the FleurinpData class\n",
    "FleurinpData = DataFactory('fleurinp') "
   ]
  },
  {
   "cell_type": "code",
   "execution_count": null,
   "metadata": {},
   "outputs": [],
   "source": [
    "inpxmlfile = '/path/to/inp.xml'\n",
    "fleurinp = FleurinpData(files = [inpxmlfile])\n",
    "print fleurinp # not stored\n",
    "fleurinp.store() # to store the node in the database"
   ]
  },
  {
   "cell_type": "code",
   "execution_count": null,
   "metadata": {},
   "outputs": [],
   "source": [
    "print fleurinp.pk"
   ]
  },
  {
   "cell_type": "code",
   "execution_count": null,
   "metadata": {},
   "outputs": [],
   "source": [
    "fleurinp.files"
   ]
  },
  {
   "cell_type": "markdown",
   "metadata": {},
   "source": [
    "The `inp.xml` file was stored in the AiiDA repository and some attributes about the inputs where stored in the database lets see where the file is stored (somewhere in the repo)"
   ]
  },
  {
   "cell_type": "code",
   "execution_count": null,
   "metadata": {},
   "outputs": [],
   "source": [
    "path = fleurinp.get_file_abs_path('inp.xml')\n",
    "print path"
   ]
  },
  {
   "cell_type": "markdown",
   "metadata": {},
   "source": [
    "Take a look at the inp.xml file. It might look longer than usual thats because aiida-fleur always uses inpgen with the '-explicit' option"
   ]
  },
  {
   "cell_type": "code",
   "execution_count": null,
   "metadata": {},
   "outputs": [],
   "source": [
    "!cat $path"
   ]
  },
  {
   "cell_type": "markdown",
   "metadata": {},
   "source": [
    "Fleurinpdata stores a 'complex' dictionary representation of the `inp.xml` file in the database. That way one can querry for any input parameters(In the future we might not store there `kpoints` and `structure`)"
   ]
  },
  {
   "cell_type": "code",
   "execution_count": null,
   "metadata": {},
   "outputs": [],
   "source": [
    "fleurinp.inp_dict"
   ]
  }
 ],
 "metadata": {
  "kernelspec": {
   "display_name": "Python 2",
   "language": "python",
   "name": "python2"
  },
  "language_info": {
   "codemirror_mode": {
    "name": "ipython",
    "version": 2
   },
   "file_extension": ".py",
   "mimetype": "text/x-python",
   "name": "python",
   "nbconvert_exporter": "python",
   "pygments_lexer": "ipython2",
   "version": "2.7.16"
  }
 },
 "nbformat": 4,
 "nbformat_minor": 2
}
