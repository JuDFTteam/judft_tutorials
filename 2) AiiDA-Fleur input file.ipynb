{
 "cells": [
  {
   "cell_type": "markdown",
   "metadata": {},
   "source": [
    "# AiiDA-Fleur input file"
   ]
  },
  {
   "cell_type": "markdown",
   "metadata": {},
   "source": [
    "## Table of contents\n",
    "TODO"
   ]
  },
  {
   "cell_type": "markdown",
   "metadata": {},
   "source": [
    "## Running an inpgen calculation\n",
    "An inpgen calculation needs at least  a `code` node and a `StructureData` node. A `Parameter` node and a `options` node are optional. "
   ]
  },
  {
   "cell_type": "code",
   "execution_count": null,
   "metadata": {},
   "outputs": [],
   "source": [
    "#We first load a couple of useful modules\n",
    "#!/usr/bin/env python\n",
    "from aiida import load_dbenv\n",
    "load_dbenv()\n",
    "\n",
    "from aiida.orm import Code\n",
    "from aiida.plugins import CalculationFactory, DataFactory"
   ]
  },
  {
   "cell_type": "markdown",
   "metadata": {},
   "source": [
    "**NOTE**: You can see all the associated methods of these classes using the `.` operator and pressing tab."
   ]
  },
  {
   "cell_type": "markdown",
   "metadata": {},
   "source": [
    "### Code"
   ]
  },
  {
   "cell_type": "code",
   "execution_count": null,
   "metadata": {},
   "outputs": [],
   "source": [
    "inpgen_label = 'inpgen@cluster'\n",
    "inpgen = Code.get_from_string(inpgen_label)"
   ]
  },
  {
   "cell_type": "markdown",
   "metadata": {},
   "source": [
    "Description: TODO"
   ]
  },
  {
   "cell_type": "markdown",
   "metadata": {},
   "source": [
    "### StructureData"
   ]
  },
  {
   "cell_type": "code",
   "execution_count": null,
   "metadata": {},
   "outputs": [],
   "source": []
  },
  {
   "cell_type": "markdown",
   "metadata": {},
   "source": [
    "Description: TODO"
   ]
  },
  {
   "cell_type": "markdown",
   "metadata": {},
   "source": [
    "### ParameterData"
   ]
  },
  {
   "cell_type": "code",
   "execution_count": null,
   "metadata": {},
   "outputs": [],
   "source": []
  },
  {
   "cell_type": "markdown",
   "metadata": {},
   "source": [
    "Description: TODO"
   ]
  },
  {
   "cell_type": "code",
   "execution_count": null,
   "metadata": {},
   "outputs": [],
   "source": []
  },
  {
   "cell_type": "markdown",
   "metadata": {},
   "source": [
    "There is a special class in AiiDA-FLEUR to represent input files for Fleur which is called `FleurinpData`.\n",
    "<!--`FleurinpData` contains all the input files, usually it is only `inp.xml` file.-->\n",
    "Which represents everything a FLEUR calculation needs.\n",
    "It is initialized with an absolute path to an ``inp.xml`` file or a\n",
    "FolderData node containing ``inp.xml``.\n",
    "Other files can also be added that will be copied to the remote machine, where the\n",
    "calculation takes place.\n",
    "\n",
    "It stores the files in the repository and stores the input parameters of the\n",
    "``inp.xml`` file of FLEUR in the database as a python dictionary (as internal attributes).\n",
    "When an ``inp.xml`` (name important!) file is added to files, `FleurinpData` searches\n",
    "for a corresponding xml schema file in the PYTHONPATH environment variable.\n",
    "Therefore, it is recommend to have the plug-in source code directory in the python environment.\n",
    "If no corresponding schema file is found an error is raised.\n",
    "\n",
    "FleurinpData also provides the user with methods to extract AiiDA StructureData and KpointsData nodes.\n",
    "\n",
    "Remember that most attributes of AiiDA nodes can not be changed after they\n",
    "have been stored in the database! Therefore, you have to use the FleurinpModifier class and its\n",
    "methods if you want to change somthing in the ``inp.xml`` file (more on that in the next notebook). You will retrieve a new\n",
    "FleurinpData that way and start a new calculation from it."
   ]
  },
  {
   "cell_type": "code",
   "execution_count": null,
   "metadata": {},
   "outputs": [],
   "source": []
  }
 ],
 "metadata": {
  "kernelspec": {
   "display_name": "Python 2",
   "language": "python",
   "name": "python2"
  },
  "language_info": {
   "codemirror_mode": {
    "name": "ipython",
    "version": 2
   },
   "file_extension": ".py",
   "mimetype": "text/x-python",
   "name": "python",
   "nbconvert_exporter": "python",
   "pygments_lexer": "ipython2",
   "version": "2.7.16"
  }
 },
 "nbformat": 4,
 "nbformat_minor": 2
}
