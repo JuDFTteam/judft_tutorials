{
 "cells": [
  {
   "cell_type": "markdown",
   "metadata": {},
   "source": [
    "*please execute the cell below before starting the tutorial by selecting it and pressing Ctrl+Enter*"
   ]
  },
  {
   "cell_type": "code",
   "execution_count": null,
   "metadata": {
    "scrolled": true
   },
   "outputs": [],
   "source": [
    "from aiida.orm import Dict, load_node\n",
    "from aiida.engine import submit\n",
    "from aiida import load_profile\n",
    "\n",
    "load_profile()\n",
    "!verdi daemon start"
   ]
  },
  {
   "cell_type": "markdown",
   "metadata": {},
   "source": [
    "# Input generator code"
   ]
  },
  {
   "cell_type": "markdown",
   "metadata": {},
   "source": [
    "On Monday, you learned about simplified input file for the FLEUR code. The inpgen code generates an `inp.xml` input-file for FLEUR using the simplified input. In AiiDA, a `Code` object representing input generator has to have a similar behaviour: it has to generate a `FleurinpData` from a list of simplified parameters. The code class that implements this is called `FleurinputgenCalculation` and in this tutorial we are going to learn how to use it in AiiDA interface.\n",
    "\n",
    "First things first - let us get familiar with inputs of the FleurinputgenCalculation."
   ]
  },
  {
   "cell_type": "markdown",
   "metadata": {},
   "source": [
    "## Inputs of the input calculation"
   ]
  },
  {
   "cell_type": "markdown",
   "metadata": {},
   "source": [
    "Input generator input nodes has only 4 main input nodes that are listed in the table below:"
   ]
  },
  {
   "cell_type": "markdown",
   "metadata": {},
   "source": [
    "|name|type|describtion| required |\n",
    "|:---:|:---:|:---------:|:---:|\n",
    "|code | Code | Inpgen code| yes |\n",
    "|structure | StructureData | Structure data node| yes |\n",
    "|parameters | Dict | FLAPW parameters| no |\n",
    "|settings | Dict | special settings | no |"
   ]
  },
  {
   "cell_type": "markdown",
   "metadata": {},
   "source": [
    "**code** is a `Code` representing inpgen inself in the database. \n",
    "\n",
    "Simplified input file is represented as a pair of input nodes: **structure** and **parameters**. **structure** is a `StructureData` node to be inserted into the simpified input file (`&lattice`). **parameters** is a nested dictionary containing nested name: value pairs and representing all other parameters of the simplified input file. For instance, if one wants to add a line\n",
    "\n",
    "    &kpt\n",
    "      div1=24   div2=20   div3=1 /\n",
    "\n",
    "in the simplified input file, it is necessary to append\n",
    "\n",
    "    'kpt': {\n",
    "        'div1': 24,\n",
    "        'div2' : 20,\n",
    "        'div3' : 1\n",
    "        }\n",
    "\n",
    "to the **parameters** dictionary.\n",
    "\n",
    "In some cases the simplified input file does not have names for nested values. In this case you can refer to the list of all supported keys:\n",
    "\n",
    "    'input': ['film', 'cartesian', 'cal_symm', 'checkinp', 'symor', 'oldfleur']\n",
    "    \n",
    "    'atom': ['id', 'z', 'rmt', 'dx', 'jri', 'lmax', 'lnonsph', 'ncst', 'econfig', 'bmu', 'lo', 'element', 'name']\n",
    "             \n",
    "    'comp': ['jspins', 'frcor', 'ctail', 'kcrel', 'gmax', 'gmaxxc', 'kmax']\n",
    "    \n",
    "    'exco': ['xctyp', 'relxc'],\n",
    "    \n",
    "    'film': ['dvac', 'dtild'],\n",
    "    \n",
    "    'soc': ['theta', 'phi'],\n",
    "    \n",
    "    'qss': ['x', 'y', 'z'],\n",
    "    \n",
    "    'kpt': ['nkpt', 'kpts', 'div1', 'div2', 'div3','tkb', 'tria'],\n",
    "    \n",
    "    'title': {}\n",
    "                        \n",
    "For example, you can find that SOC ``theta`` and ``phi`` values can be set appending\n",
    "\n",
    "    'soc': {\n",
    "        'theta': 0.7,\n",
    "        'phi' : 0.26\n",
    "        }\n",
    "\n",
    "to the **parameters** dictionary.\n",
    "\n",
    "**settings** is used to modify a list of files to be copied to/from/between calculation folders and to add command options to the executable. We will not cover this in the tutorial.\n"
   ]
  },
  {
   "cell_type": "markdown",
   "metadata": {},
   "source": [
    "## Inpgen code submission"
   ]
  },
  {
   "cell_type": "markdown",
   "metadata": {},
   "source": [
    "### Inputs preparation "
   ]
  },
  {
   "cell_type": "markdown",
   "metadata": {},
   "source": [
    "To sumbit an inpgen calculation, we need to import `FleurinputgenCalculation` class"
   ]
  },
  {
   "cell_type": "code",
   "execution_count": null,
   "metadata": {},
   "outputs": [],
   "source": [
    "from aiida_fleur.calculation.fleurinputgen import FleurinputgenCalculation"
   ]
  },
  {
   "cell_type": "markdown",
   "metadata": {},
   "source": [
    "and prepare all the inputs. Configured and ready-to-use inpgen code node is already stored in your database as pk=8. Now you can simple load it from the database:"
   ]
  },
  {
   "cell_type": "code",
   "execution_count": null,
   "metadata": {},
   "outputs": [],
   "source": [
    "inpgen_code = load_node(2688)"
   ]
  },
  {
   "cell_type": "markdown",
   "metadata": {},
   "source": [
    "We are going to use a structure that you created in tutorial 1. Please, find a pk of the Fe monolayer structure and load it via the `load_node()` command:"
   ]
  },
  {
   "cell_type": "code",
   "execution_count": null,
   "metadata": {},
   "outputs": [],
   "source": [
    "structure_FeML = load_node(6204)"
   ]
  },
  {
   "cell_type": "markdown",
   "metadata": {},
   "source": [
    "Finally, we need to set up a **parameters** dictionary. For now we are going to specify k-mesh and kmax only:"
   ]
  },
  {
   "cell_type": "code",
   "execution_count": null,
   "metadata": {},
   "outputs": [],
   "source": [
    "parameters = Dict(dict={\n",
    "    'comp': {\n",
    "        'kmax': 3.85,\n",
    "        },\n",
    "    'kpt': {\n",
    "        'div1': 12,\n",
    "        'div2' : 10,\n",
    "        'div3' : 1\n",
    "        }})"
   ]
  },
  {
   "cell_type": "code",
   "execution_count": null,
   "metadata": {},
   "outputs": [],
   "source": [
    "options = {'resources' : {\"num_machines\": 1, \"num_mpiprocs_per_machine\" : 1}, 'withmpi' : False}"
   ]
  },
  {
   "cell_type": "markdown",
   "metadata": {},
   "source": [
    "### Assembling inputs in a single dictionary"
   ]
  },
  {
   "cell_type": "markdown",
   "metadata": {},
   "source": [
    "The most convinent way to pass all the inputs into any calculation is to use its builder:"
   ]
  },
  {
   "cell_type": "code",
   "execution_count": null,
   "metadata": {},
   "outputs": [],
   "source": [
    "inputs = FleurinputgenCalculation.get_builder()\n",
    "inputs.parameters = parameters\n",
    "inputs.code = inpgen_code\n",
    "inputs.structure = structure_FeML\n",
    "inputs.metadata.options = options"
   ]
  },
  {
   "cell_type": "markdown",
   "metadata": {},
   "source": [
    "### Submission\n"
   ]
  },
  {
   "cell_type": "markdown",
   "metadata": {},
   "source": [
    "To submit the input generator, run `submit` function passing all the input parameters:"
   ]
  },
  {
   "cell_type": "code",
   "execution_count": null,
   "metadata": {},
   "outputs": [],
   "source": [
    "res_pk = submit(FleurinputgenCalculation, **inputs)\n",
    "print('The PK of submitted job is'.format(res_pk)"
   ]
  },
  {
   "cell_type": "markdown",
   "metadata": {},
   "source": [
    "`res_pk` contains a PK of the input generator calculation node stored in the database."
   ]
  },
  {
   "cell_type": "markdown",
   "metadata": {},
   "source": [
    "## Results analysis"
   ]
  },
  {
   "cell_type": "markdown",
   "metadata": {},
   "source": [
    "After inpgen code is submitted, you can check the status of all running processes:"
   ]
  },
  {
   "cell_type": "code",
   "execution_count": null,
   "metadata": {},
   "outputs": [],
   "source": [
    "!verdi process list -a -p 1"
   ]
  },
  {
   "cell_type": "markdown",
   "metadata": {},
   "source": [
    "You can also check the status of inpgen calculation directly. Try running next cell and examine the output:"
   ]
  },
  {
   "cell_type": "code",
   "execution_count": null,
   "metadata": {},
   "outputs": [],
   "source": [
    "!verdi process show 6231"
   ]
  },
  {
   "cell_type": "markdown",
   "metadata": {},
   "source": [
    "Since input generator takes few second to finish, you most probably will not be able to catch it in any other state except 'Finished'. Now let us explore the output nodes. `Fleurinpgencalculation` generates three output nodes:\n",
    "\n",
    "|name| type | comment|\n",
    "|:--:|:----:|:----------:|\n",
    "|fleurinpData|FleurinpData| represents `inp.xml`|\n",
    "|remote_folder| FolderData| represents calculation folder |\n",
    "|retrieved| FolderData | represents retrieved folder |\n",
    "\n",
    "The most important is `fleurinpData` representing `inp.xml` file. To load it, run:"
   ]
  },
  {
   "cell_type": "code",
   "execution_count": null,
   "metadata": {},
   "outputs": [],
   "source": [
    "inpgen_calc_node = load_node(res_pk)\n",
    "output_fleurinp = inpgen_calc_node.outputs.fleurinpData"
   ]
  },
  {
   "cell_type": "markdown",
   "metadata": {},
   "source": [
    "This `FleurinpData` can be used as an input for Fleur calculation which will be covered in next tutorial."
   ]
  },
  {
   "cell_type": "markdown",
   "metadata": {},
   "source": [
    "# Scripting tasks"
   ]
  },
  {
   "cell_type": "markdown",
   "metadata": {},
   "source": [
    "Jupyter notebooks are convinient way to learn and run some tasks. However, I personally prefer using and running python scripts in a terminal for my work. As a final task of each tutorial, beggining from this one, you will be asked to construct a small python sript and run it in a terminal."
   ]
  },
  {
   "cell_type": "markdown",
   "metadata": {},
   "source": [
    "In this sub-section you find scripting tasks to be executed in a terminal.\n",
    "\n",
    "First, you need to start a new terminal and type in:\n",
    "\n",
    "     $workon aiida\n",
    "     \n",
    "To execute a python-script, run\n",
    "\n",
    "     $(aiida) verdi run NAME_OF_THE_SCRIPT.py"
   ]
  },
  {
   "cell_type": "markdown",
   "metadata": {},
   "source": [
    "#### 1.  Run an inpgen calculation for the Si"
   ]
  },
  {
   "cell_type": "markdown",
   "metadata": {},
   "source": [
    "Use an existing inpgen_si.py file to write a script that submits `Fleurinpgencaluation` for a Si stucture given in the attached `Si.cif` file. Try to set up **parameters** dictionary to use parameters:\n",
    "\n",
    "| name | value | comment |\n",
    "|:----:|:-----:|:-------:|\n",
    "| atom -> rmt  | 2.23  | muffin-tin radius |\n",
    "| comp -> kmax | 3.84  | plane wave cut-off|\n",
    "| kpt -> div1  | 2 | number of kpts along x|\n",
    "| kpt -> div2  | 2 | number of kpts along y|\n",
    "| kpt -> div3  | 2 | number of kpts along z|\n",
    "\n"
   ]
  },
  {
   "cell_type": "markdown",
   "metadata": {},
   "source": [
    "Try finding out the PK of an output `FleurinpData` and remember it - you will need it in the next tutorial!"
   ]
  }
 ],
 "metadata": {
  "@webio": {
   "lastCommId": null,
   "lastKernelId": null
  },
  "kernelspec": {
   "display_name": "Python 2",
   "language": "python",
   "name": "python2"
  },
  "language_info": {
   "codemirror_mode": {
    "name": "ipython",
    "version": 2
   },
   "file_extension": ".py",
   "mimetype": "text/x-python",
   "name": "python",
   "nbconvert_exporter": "python",
   "pygments_lexer": "ipython2",
   "version": "2.7.16"
  }
 },
 "nbformat": 4,
 "nbformat_minor": 2
}
