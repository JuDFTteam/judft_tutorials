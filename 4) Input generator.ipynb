{
 "cells": [
  {
   "cell_type": "markdown",
   "metadata": {},
   "source": [
    "*please execute the cell below before starting the tutorial by selecting the cell and pressing Ctrl+Enter*"
   ]
  },
  {
   "cell_type": "code",
   "execution_count": null,
   "metadata": {
    "scrolled": true
   },
   "outputs": [],
   "source": [
    "from aiida.orm import Dict, load_node\n",
    "from aiida.engine import submit"
   ]
  },
  {
   "cell_type": "markdown",
   "metadata": {},
   "source": [
    "# Input generator code"
   ]
  },
  {
   "cell_type": "markdown",
   "metadata": {},
   "source": [
    "Input generator code creates inp.xml input file from a simplified input file. To use this code via AiiDA, it is needed to implement a corresponding python class that contaings all the logic needed for the use of this code. The class `FleurinputgenCalculation` and it's parser already exist in AiiDA-FLEUR plugin. In this tutorial we will learn how to use it in AiiDA inteface.\n",
    "\n",
    "First things first - let us get familiar with inputs of the FleurinputgenCalculation."
   ]
  },
  {
   "cell_type": "markdown",
   "metadata": {},
   "source": [
    "## Inputs of the input calculation"
   ]
  },
  {
   "cell_type": "markdown",
   "metadata": {},
   "source": [
    "|name|type|describtion| required |\n",
    "|:---:|:---:|:---------:|:---:|\n",
    "|code | Code | Inpgen code| yes |\n",
    "|structure | StructureData | Structure data node| yes |\n",
    "|parameters | Dict | FLAPW parameters| no |\n",
    "|settings | Dict | special settings | no |"
   ]
  },
  {
   "cell_type": "markdown",
   "metadata": {},
   "source": [
    "**code** is a code object representing inpgen code and stored in the database. It is also required to provide input **structure**. Finally, optional **parameters** are a dictionary of parameters that will be written into the simplified input file. For instance, if one wants to generate a line\n",
    "\n",
    "    &kpt\n",
    "      div1=24   div2=20   div3=1   tkb=0.001 /\n",
    "\n",
    "in the simplified input file, it is necessary to append\n",
    "\n",
    "    'kpt': {\n",
    "        'div1': 24,\n",
    "        'div2' : 20,\n",
    "        'div3' : 1\n",
    "        }\n",
    "\n",
    "to the **parameters** dictionary. \n",
    "\n",
    "**settings** is used to modify a list of files to be copied to/from/between calculation folders. We will not cover this in the tutorial.\n"
   ]
  },
  {
   "cell_type": "markdown",
   "metadata": {},
   "source": [
    "## Inpgen code submission"
   ]
  },
  {
   "cell_type": "markdown",
   "metadata": {},
   "source": [
    "First of all, we need to import `FleurinputgenCalculation` class."
   ]
  },
  {
   "cell_type": "code",
   "execution_count": null,
   "metadata": {},
   "outputs": [],
   "source": [
    "from aiida_fleur.calculation.inpgen import FleurinputgenCalculation"
   ]
  },
  {
   "cell_type": "markdown",
   "metadata": {},
   "source": [
    "and prepare input nodes. Configured and ready-to-use inpgen code object is already stored in your database under the number pk=xxx. Now you can simple load it from the database:"
   ]
  },
  {
   "cell_type": "code",
   "execution_count": null,
   "metadata": {},
   "outputs": [],
   "source": [
    "code = load_node(xxx)"
   ]
  },
  {
   "cell_type": "markdown",
   "metadata": {},
   "source": [
    "We are going to use a structure that you have created in tutorial 1. Please, find a pk of an Fe monolayer structure and load in via the same command:"
   ]
  },
  {
   "cell_type": "code",
   "execution_count": null,
   "metadata": {},
   "outputs": [],
   "source": [
    "structure = load_node(xxx)"
   ]
  },
  {
   "cell_type": "markdown",
   "metadata": {},
   "source": [
    "Finally, we need to setup a **parameters** dictionary. For now we are going to set k-mesh and kmax only:"
   ]
  },
  {
   "cell_type": "code",
   "execution_count": null,
   "metadata": {},
   "outputs": [],
   "source": [
    "parameters = Dict(dict={\n",
    "    'comp': {\n",
    "        'kmax': 3.85,\n",
    "        },\n",
    "    'kpt': {\n",
    "        'div1': 12,\n",
    "        'div2' : 10,\n",
    "        'div3' : 1\n",
    "        }})"
   ]
  },
  {
   "cell_type": "code",
   "execution_count": null,
   "metadata": {},
   "outputs": [],
   "source": [
    "res = submit(FleurinputgenCalculation, code=code, structure=structure, parameters=parameters)"
   ]
  },
  {
   "cell_type": "markdown",
   "metadata": {},
   "source": [
    "The calculation has to finish fast - you will probably not be able to catch it in not 'FINISHED' state.\n",
    "You can explore it's outputs:"
   ]
  },
  {
   "cell_type": "code",
   "execution_count": null,
   "metadata": {},
   "outputs": [],
   "source": []
  }
 ],
 "metadata": {
  "kernelspec": {
   "display_name": "Python 2",
   "language": "python",
   "name": "python2"
  },
  "language_info": {
   "codemirror_mode": {
    "name": "ipython",
    "version": 2
   },
   "file_extension": ".py",
   "mimetype": "text/x-python",
   "name": "python",
   "nbconvert_exporter": "python",
   "pygments_lexer": "ipython2",
   "version": "2.7.16"
  }
 },
 "nbformat": 4,
 "nbformat_minor": 2
}
