{
 "cells": [
  {
   "cell_type": "markdown",
   "metadata": {},
   "source": [
    "*please execute the cell below before starting the tutorial by selecting it and pressing Ctrl+Enter*"
   ]
  },
  {
   "cell_type": "code",
   "execution_count": null,
   "metadata": {
    "scrolled": true
   },
   "outputs": [],
   "source": [
    "from aiida.orm import Dict, load_node\n",
    "from aiida.engine import submit"
   ]
  },
  {
   "cell_type": "markdown",
   "metadata": {},
   "source": [
    "# Input generator code"
   ]
  },
  {
   "cell_type": "markdown",
   "metadata": {},
   "source": [
    "On Monday, you learned about simplified input file for the FLEUR code and inpgen code. This code generates an `inp.xml` input-file for FLEUR using the simplified input. In AiiDA, a `Code` object representing input generator has to have a similar behaviour: it has to generate a `FleurinpData` from a list of simplified parameters. The code class that implements this is called `FleurinputgenCalculation` and in this tutorial we are going to learn how to use it in AiiDA interface.\n",
    "\n",
    "First things first - let us get familiar with inputs of the FleurinputgenCalculation."
   ]
  },
  {
   "cell_type": "markdown",
   "metadata": {},
   "source": [
    "## Inputs of the input calculation"
   ]
  },
  {
   "cell_type": "markdown",
   "metadata": {},
   "source": [
    "Input generator input nodes has only 4 main input nodes that are listed in the table below:"
   ]
  },
  {
   "cell_type": "markdown",
   "metadata": {},
   "source": [
    "|name|type|describtion| required |\n",
    "|:---:|:---:|:---------:|:---:|\n",
    "|code | Code | Inpgen code| yes |\n",
    "|structure | StructureData | Structure data node| yes |\n",
    "|parameters | Dict | FLAPW parameters| no |\n",
    "|settings | Dict | special settings | no |"
   ]
  },
  {
   "cell_type": "markdown",
   "metadata": {},
   "source": [
    "**code** is a `Code` representing inpgen inself in the database. \n",
    "\n",
    "Simplified input file is represented as a pair of nodes: **structure** and **parameters**. **structure** is a `StructureData` node to be inserted into the simpified input file. **parameters** is a nested dictionary containing nested name: value pairs and representing all other parameters of the simplifier input file. For instance, if one wants to add a line\n",
    "\n",
    "    &kpt\n",
    "      div1=24   div2=20   div3=1   tkb=0.001 /\n",
    "\n",
    "in the simplified input file, it is necessary to append\n",
    "\n",
    "    'kpt': {\n",
    "        'div1': 24,\n",
    "        'div2' : 20,\n",
    "        'div3' : 1\n",
    "        }\n",
    "\n",
    "to the **parameters** dictionary. In some cases the simplified input file does not have a name for some nested values, such as for SOC. In this case you can refer to the list of all supported keys:\n",
    "\n",
    "    'input': ['film', 'cartesian', 'cal_symm', 'checkinp',\n",
    "              'symor', 'oldfleur'],\n",
    "    'lattice': ['latsys', 'a0', 'a', 'b', 'c', 'alpha',\n",
    "                'beta', 'gamma'],\n",
    "    'atom': ['id', 'z', 'rmt', 'dx', 'jri', 'lmax',\n",
    "             'lnonsph', 'ncst', 'econfig', 'bmu', 'lo',\n",
    "             'element', 'name'],\n",
    "    'comp': ['jspins', 'frcor', 'ctail', 'kcrel', 'gmax',\n",
    "             'gmaxxc', 'kmax'],\n",
    "    'exco': ['xctyp', 'relxc'],\n",
    "    'film': ['dvac', 'dtild'],\n",
    "    'soc': ['theta', 'phi'],\n",
    "    'qss': ['x', 'y', 'z'],\n",
    "    'kpt': ['nkpt', 'kpts', 'div1', 'div2', 'div3',\n",
    "            'tkb', 'tria'],\n",
    "    'title': {}\n",
    "                        \n",
    "and find that to correctly specify SOC ``theta`` and ``phi`` values, you need to append\n",
    "\n",
    "    'soc': {\n",
    "        'theta': 0.7,\n",
    "        'phi' : 0.26\n",
    "        }\n",
    "\n",
    "to the **parameters** dictionary.\n",
    "\n",
    "**settings** is used to modify a list of files to be copied to/from/between calculation folders and to append command options to the executable. We will not cover this in the tutorial.\n"
   ]
  },
  {
   "cell_type": "markdown",
   "metadata": {},
   "source": [
    "## Inpgen code submission"
   ]
  },
  {
   "cell_type": "markdown",
   "metadata": {},
   "source": [
    "To sumbit an inpgen calculation, we need to import `FleurinputgenCalculation` class first."
   ]
  },
  {
   "cell_type": "code",
   "execution_count": null,
   "metadata": {},
   "outputs": [],
   "source": [
    "from aiida_fleur.calculation.fleurinputgen import FleurinputgenCalculation"
   ]
  },
  {
   "cell_type": "markdown",
   "metadata": {},
   "source": [
    "and prepare input nodes. Configured and ready-to-use inpgen code object is already stored in your database under the number pk=xxx. Now you can simple load it from the database:"
   ]
  },
  {
   "cell_type": "code",
   "execution_count": null,
   "metadata": {},
   "outputs": [],
   "source": [
    "code = load_node(xxx)"
   ]
  },
  {
   "cell_type": "markdown",
   "metadata": {},
   "source": [
    "We are going to use a structure that you have created in tutorial 1. Please, find a pk of an Fe monolayer structure and load in via the same command:"
   ]
  },
  {
   "cell_type": "code",
   "execution_count": null,
   "metadata": {},
   "outputs": [],
   "source": [
    "structure = load_node(xxx)"
   ]
  },
  {
   "cell_type": "markdown",
   "metadata": {},
   "source": [
    "Finally, we need to setup a **parameters** dictionary. For now we are going to set k-mesh and kmax only:"
   ]
  },
  {
   "cell_type": "code",
   "execution_count": null,
   "metadata": {},
   "outputs": [],
   "source": [
    "parameters = Dict(dict={\n",
    "    'comp': {\n",
    "        'kmax': 3.85,\n",
    "        },\n",
    "    'kpt': {\n",
    "        'div1': 12,\n",
    "        'div2' : 10,\n",
    "        'div3' : 1\n",
    "        }})"
   ]
  },
  {
   "cell_type": "code",
   "execution_count": null,
   "metadata": {},
   "outputs": [],
   "source": [
    "res = submit(FleurinputgenCalculation, code=code, structure=structure, parameters=parameters)"
   ]
  },
  {
   "cell_type": "markdown",
   "metadata": {},
   "source": [
    "The calculation has to finish fast - you will probably not be able to catch it in not 'FINISHED' state.\n",
    "You can explore it's outputs:"
   ]
  },
  {
   "cell_type": "code",
   "execution_count": null,
   "metadata": {},
   "outputs": [],
   "source": []
  }
 ],
 "metadata": {
  "kernelspec": {
   "display_name": "Python 2",
   "language": "python",
   "name": "python2"
  },
  "language_info": {
   "codemirror_mode": {
    "name": "ipython",
    "version": 2
   },
   "file_extension": ".py",
   "mimetype": "text/x-python",
   "name": "python",
   "nbconvert_exporter": "python",
   "pygments_lexer": "ipython2",
   "version": "2.7.16"
  }
 },
 "nbformat": 4,
 "nbformat_minor": 2
}
